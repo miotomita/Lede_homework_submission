{
 "cells": [
  {
   "cell_type": "markdown",
   "metadata": {},
   "source": [
    "Name: Mio Tomita<br>\n",
    "Date: June 25, 2022"
   ]
  },
  {
   "cell_type": "markdown",
   "metadata": {
    "collapsed": true
   },
   "source": [
    "# Homework 7, Part One: Lots and lots of questions about beer"
   ]
  },
  {
   "cell_type": "markdown",
   "metadata": {},
   "source": [
    "### Do your importing and your setup"
   ]
  },
  {
   "cell_type": "code",
   "execution_count": 1,
   "metadata": {},
   "outputs": [],
   "source": [
    "import pandas as pd\n",
    "import numpy as np\n",
    "import matplotlib.pyplot as plt\n",
    "plt.style.use(\"fivethirtyeight\")"
   ]
  },
  {
   "cell_type": "markdown",
   "metadata": {},
   "source": [
    "## Read in the file `craftcans.csv`, and look at the first first rows"
   ]
  },
  {
   "cell_type": "code",
   "execution_count": 2,
   "metadata": {},
   "outputs": [],
   "source": [
    "#retrieve raw data\n",
    "df = pd.read_csv('craftcans.csv')"
   ]
  },
  {
   "cell_type": "code",
   "execution_count": 3,
   "metadata": {},
   "outputs": [
    {
     "data": {
      "text/html": [
       "<div>\n",
       "<style scoped>\n",
       "    .dataframe tbody tr th:only-of-type {\n",
       "        vertical-align: middle;\n",
       "    }\n",
       "\n",
       "    .dataframe tbody tr th {\n",
       "        vertical-align: top;\n",
       "    }\n",
       "\n",
       "    .dataframe thead th {\n",
       "        text-align: right;\n",
       "    }\n",
       "</style>\n",
       "<table border=\"1\" class=\"dataframe\">\n",
       "  <thead>\n",
       "    <tr style=\"text-align: right;\">\n",
       "      <th></th>\n",
       "      <th>Beer</th>\n",
       "      <th>Brewery</th>\n",
       "      <th>Location</th>\n",
       "      <th>Style</th>\n",
       "      <th>Size</th>\n",
       "      <th>ABV</th>\n",
       "      <th>IBUs</th>\n",
       "    </tr>\n",
       "  </thead>\n",
       "  <tbody>\n",
       "    <tr>\n",
       "      <th>0</th>\n",
       "      <td>Get Together</td>\n",
       "      <td>NorthGate Brewing</td>\n",
       "      <td>Minneapolis, MN</td>\n",
       "      <td>American IPA</td>\n",
       "      <td>16 oz.</td>\n",
       "      <td>4.50%</td>\n",
       "      <td>50</td>\n",
       "    </tr>\n",
       "    <tr>\n",
       "      <th>1</th>\n",
       "      <td>Maggie's Leap</td>\n",
       "      <td>NorthGate Brewing</td>\n",
       "      <td>Minneapolis, MN</td>\n",
       "      <td>Milk / Sweet Stout</td>\n",
       "      <td>16 oz.</td>\n",
       "      <td>4.90%</td>\n",
       "      <td>26</td>\n",
       "    </tr>\n",
       "    <tr>\n",
       "      <th>2</th>\n",
       "      <td>Wall's End</td>\n",
       "      <td>NorthGate Brewing</td>\n",
       "      <td>Minneapolis, MN</td>\n",
       "      <td>English Brown Ale</td>\n",
       "      <td>16 oz.</td>\n",
       "      <td>4.80%</td>\n",
       "      <td>19</td>\n",
       "    </tr>\n",
       "    <tr>\n",
       "      <th>3</th>\n",
       "      <td>Pumpion</td>\n",
       "      <td>NorthGate Brewing</td>\n",
       "      <td>Minneapolis, MN</td>\n",
       "      <td>Pumpkin Ale</td>\n",
       "      <td>16 oz.</td>\n",
       "      <td>6.00%</td>\n",
       "      <td>38</td>\n",
       "    </tr>\n",
       "    <tr>\n",
       "      <th>4</th>\n",
       "      <td>Stronghold</td>\n",
       "      <td>NorthGate Brewing</td>\n",
       "      <td>Minneapolis, MN</td>\n",
       "      <td>American Porter</td>\n",
       "      <td>16 oz.</td>\n",
       "      <td>6.00%</td>\n",
       "      <td>25</td>\n",
       "    </tr>\n",
       "  </tbody>\n",
       "</table>\n",
       "</div>"
      ],
      "text/plain": [
       "            Beer            Brewery         Location               Style  \\\n",
       "0   Get Together  NorthGate Brewing  Minneapolis, MN        American IPA   \n",
       "1  Maggie's Leap  NorthGate Brewing  Minneapolis, MN  Milk / Sweet Stout   \n",
       "2     Wall's End  NorthGate Brewing  Minneapolis, MN   English Brown Ale   \n",
       "3        Pumpion  NorthGate Brewing  Minneapolis, MN         Pumpkin Ale   \n",
       "4     Stronghold  NorthGate Brewing  Minneapolis, MN     American Porter   \n",
       "\n",
       "     Size    ABV IBUs  \n",
       "0  16 oz.  4.50%   50  \n",
       "1  16 oz.  4.90%   26  \n",
       "2  16 oz.  4.80%   19  \n",
       "3  16 oz.  6.00%   38  \n",
       "4  16 oz.  6.00%   25  "
      ]
     },
     "execution_count": 3,
     "metadata": {},
     "output_type": "execute_result"
    }
   ],
   "source": [
    "df.head()"
   ]
  },
  {
   "cell_type": "markdown",
   "metadata": {},
   "source": [
    "## How many rows do you have in the data? What are the column types?"
   ]
  },
  {
   "cell_type": "code",
   "execution_count": 4,
   "metadata": {},
   "outputs": [
    {
     "data": {
      "text/plain": [
       "2416"
      ]
     },
     "execution_count": 4,
     "metadata": {},
     "output_type": "execute_result"
    }
   ],
   "source": [
    "#number of rows in the data\n",
    "df.shape[0]"
   ]
  },
  {
   "cell_type": "code",
   "execution_count": 5,
   "metadata": {},
   "outputs": [
    {
     "data": {
      "text/plain": [
       "Beer        object\n",
       "Brewery     object\n",
       "Location    object\n",
       "Style       object\n",
       "Size        object\n",
       "ABV         object\n",
       "IBUs        object\n",
       "dtype: object"
      ]
     },
     "execution_count": 5,
     "metadata": {},
     "output_type": "execute_result"
    }
   ],
   "source": [
    "#data types of each columns\n",
    "df.dtypes"
   ]
  },
  {
   "cell_type": "markdown",
   "metadata": {},
   "source": [
    "# Checking out our alcohol"
   ]
  },
  {
   "cell_type": "markdown",
   "metadata": {},
   "source": [
    "## What are the top 10 producers of cans of beer?"
   ]
  },
  {
   "cell_type": "code",
   "execution_count": 6,
   "metadata": {},
   "outputs": [
    {
     "data": {
      "text/plain": [
       "Brewery Vivant                62\n",
       "Oskar Blues Brewery           46\n",
       "Sun King Brewing Company      38\n",
       "Cigar City Brewing Company    25\n",
       "Sixpoint Craft Ales           24\n",
       "Hopworks Urban Brewery        23\n",
       "Stevens Point Brewery         22\n",
       "Great Crescent Brewery        20\n",
       "21st Amendment Brewery        20\n",
       "Bonfire Brewing Company       19\n",
       "Name: Brewery, dtype: int64"
      ]
     },
     "execution_count": 6,
     "metadata": {},
     "output_type": "execute_result"
    }
   ],
   "source": [
    "#top 10 producers\n",
    "df.Brewery.value_counts().head(10)"
   ]
  },
  {
   "cell_type": "markdown",
   "metadata": {},
   "source": [
    "## What is the most common ABV? (alcohol by volume)"
   ]
  },
  {
   "cell_type": "code",
   "execution_count": 7,
   "metadata": {},
   "outputs": [],
   "source": [
    "#clean data and cast it as float\n",
    "df.ABV = df.ABV.apply(lambda x: str(x).replace('%','')).astype(float)"
   ]
  },
  {
   "cell_type": "code",
   "execution_count": 8,
   "metadata": {},
   "outputs": [
    {
     "data": {
      "text/plain": [
       "5.977342419080068"
      ]
     },
     "execution_count": 8,
     "metadata": {},
     "output_type": "execute_result"
    }
   ],
   "source": [
    "#mean\n",
    "df.ABV.mean()"
   ]
  },
  {
   "cell_type": "code",
   "execution_count": 9,
   "metadata": {
    "scrolled": true
   },
   "outputs": [
    {
     "data": {
      "text/plain": [
       "5.0"
      ]
     },
     "execution_count": 9,
     "metadata": {},
     "output_type": "execute_result"
    }
   ],
   "source": [
    "#mode\n",
    "df.ABV.mode().values[0]"
   ]
  },
  {
   "cell_type": "markdown",
   "metadata": {},
   "source": [
    "## Oh, weird, ABV isn't a number. Convert it to a number for me, please.\n",
    "\n",
    "It's going to take a few steps!\n",
    "\n",
    "### First, let's just look at the ABV column by itself"
   ]
  },
  {
   "cell_type": "code",
   "execution_count": 10,
   "metadata": {},
   "outputs": [
    {
     "data": {
      "text/plain": [
       "0       4.5\n",
       "1       4.9\n",
       "2       4.8\n",
       "3       6.0\n",
       "4       6.0\n",
       "       ... \n",
       "2411    5.3\n",
       "2412    9.9\n",
       "2413    8.0\n",
       "2414    8.7\n",
       "2415    6.5\n",
       "Name: ABV, Length: 2416, dtype: float64"
      ]
     },
     "execution_count": 10,
     "metadata": {},
     "output_type": "execute_result"
    }
   ],
   "source": [
    "#show ABV column\n",
    "df.ABV"
   ]
  },
  {
   "cell_type": "markdown",
   "metadata": {},
   "source": [
    "### Hm, `%` isn't part of  a number. Let's remove it.\n",
    "\n",
    "When you're confident you got it right, save the results back into the `ABV` column.\n",
    "\n",
    "- *Tip: In programming the easiest way to remove something is to *replacing it with nothing*.\n",
    "- *Tip: \"nothing\" might seem like `NaN` sinc we talked about it a lot in class, but in this case it isn't! It's just an empty string, like \"\"*\n",
    "- *Tip: `.replace` is usually used for replacing ENTIRE cells, while `.str.replace` is useful for replacing PARTS of cells*"
   ]
  },
  {
   "cell_type": "code",
   "execution_count": 11,
   "metadata": {},
   "outputs": [],
   "source": [
    "#I've done this in 2.2\n",
    "#but in case I need to remove it here:\n",
    "\n",
    "#df.ABV = df.ABV.str.replace('%','')"
   ]
  },
  {
   "cell_type": "markdown",
   "metadata": {},
   "source": [
    "### Now let's turn `ABV` into a numeric data type\n",
    "\n",
    "Save the results back into the `ABV` column (again), and then check `df.dtypes` to make sure it worked.\n",
    "\n",
    "- *Tip: We used `.astype(int)` during class, but this has a decimal in it...*"
   ]
  },
  {
   "cell_type": "code",
   "execution_count": 12,
   "metadata": {},
   "outputs": [],
   "source": [
    "#I've done this in 2.2\n",
    "#but in case I need to remove it here:\n",
    "\n",
    "#df.ABV = df.ABV.astype(float)"
   ]
  },
  {
   "cell_type": "markdown",
   "metadata": {},
   "source": [
    "## What's the ABV of the average beer look like?\n",
    "\n",
    "### Show me in two different ways: one command to show the `median`/`mean`/etc, and secondly show me a chart"
   ]
  },
  {
   "cell_type": "code",
   "execution_count": 13,
   "metadata": {},
   "outputs": [
    {
     "data": {
      "text/plain": [
       "count    2348.000000\n",
       "mean        5.977342\n",
       "std         1.354173\n",
       "min         0.100000\n",
       "25%         5.000000\n",
       "50%         5.600000\n",
       "75%         6.700000\n",
       "max        12.800000\n",
       "Name: ABV, dtype: float64"
      ]
     },
     "execution_count": 13,
     "metadata": {},
     "output_type": "execute_result"
    }
   ],
   "source": [
    "# show the median/mean/etc\n",
    "df.ABV.describe()"
   ]
  },
  {
   "cell_type": "code",
   "execution_count": 14,
   "metadata": {
    "scrolled": true
   },
   "outputs": [
    {
     "data": {
      "image/png": "[encoded data removed]",
      "text/plain": [
       "<Figure size 432x288 with 1 Axes>"
      ]
     },
     "metadata": {
      "needs_background": "light"
     },
     "output_type": "display_data"
    }
   ],
   "source": [
    "#chart of ABV distribution\n",
    "df.ABV.hist(ec=\"k\")\n",
    "plt.title(f\"The average ABV is {df.ABV.mean():.2f}%\")\n",
    "plt.xlabel('ABV(%)')\n",
    "plt.ylabel('number of beer')\n",
    "plt.show()"
   ]
  },
  {
   "cell_type": "markdown",
   "metadata": {},
   "source": [
    "### We don't have ABV for all of the beers, how many are we missing them from?\n",
    "\n",
    "- *Tip: You can use `isna()` or `notna()` to see where a column is missing/not missing data.*\n",
    "- *Tip: You just want to count how many `True`s and `False`s there are.*\n",
    "- *Tip: It's a weird trick involving something we usually use to count things in a column*"
   ]
  },
  {
   "cell_type": "code",
   "execution_count": 15,
   "metadata": {},
   "outputs": [
    {
     "data": {
      "text/plain": [
       "68"
      ]
     },
     "execution_count": 15,
     "metadata": {},
     "output_type": "execute_result"
    }
   ],
   "source": [
    "#the number of missing beers\n",
    "df.ABV.isna().sum()"
   ]
  },
  {
   "cell_type": "markdown",
   "metadata": {},
   "source": [
    "# Looking at location\n",
    "\n",
    "Brooklyn used to produce 80% of the country's beer! Let's see if it's still true."
   ]
  },
  {
   "cell_type": "markdown",
   "metadata": {},
   "source": [
    "## What are the top 10 cities in the US for canned craft beer?"
   ]
  },
  {
   "cell_type": "code",
   "execution_count": 16,
   "metadata": {},
   "outputs": [
    {
     "data": {
      "text/plain": [
       "Grand Rapids, MI    66\n",
       "Chicago, IL         55\n",
       "Portland, OR        52\n",
       "Indianapolis, IN    43\n",
       "San Diego, CA       42\n",
       "Boulder, CO         41\n",
       "Denver, CO          40\n",
       "Brooklyn, NY        38\n",
       "Seattle, WA         35\n",
       "Longmont, CO        33\n",
       "Name: Location, dtype: int64"
      ]
     },
     "execution_count": 16,
     "metadata": {},
     "output_type": "execute_result"
    }
   ],
   "source": [
    "#top 10 cities for the canned craft beer 1\n",
    "df.Location.value_counts().head(10)"
   ]
  },
  {
   "cell_type": "code",
   "execution_count": 17,
   "metadata": {},
   "outputs": [
    {
     "name": "stdout",
     "output_type": "stream",
     "text": [
      "Grand Rapids, MI,Chicago, IL,Portland, OR,Indianapolis, IN,San Diego, CA,Boulder, CO,Denver, CO,Brooklyn, NY,Seattle, WA,Longmont, CO are the top 10 cities in the US for canned craft beer.\n"
     ]
    }
   ],
   "source": [
    "#top 10 cities for the canned craft beer 2\n",
    "text = ','.join(df.Location.value_counts().head(10).index.to_list())\n",
    "text = f\"{text} are the top 10 cities in the US for canned craft beer.\"\n",
    "print(text)"
   ]
  },
  {
   "cell_type": "markdown",
   "metadata": {},
   "source": [
    "## List all of the beer from Brooklyn, NY"
   ]
  },
  {
   "cell_type": "code",
   "execution_count": 18,
   "metadata": {},
   "outputs": [
    {
     "data": {
      "text/plain": [
       "['Brooklyn, NY', 'Brooklyn Center, MN']"
      ]
     },
     "execution_count": 18,
     "metadata": {},
     "output_type": "execute_result"
    }
   ],
   "source": [
    "#check location names\n",
    "[location for location in df.Location.unique() if \"Brooklyn\" in str(location)]"
   ]
  },
  {
   "cell_type": "code",
   "execution_count": 19,
   "metadata": {
    "scrolled": true
   },
   "outputs": [
    {
     "data": {
      "text/html": [
       "<div>\n",
       "<style scoped>\n",
       "    .dataframe tbody tr th:only-of-type {\n",
       "        vertical-align: middle;\n",
       "    }\n",
       "\n",
       "    .dataframe tbody tr th {\n",
       "        vertical-align: top;\n",
       "    }\n",
       "\n",
       "    .dataframe thead th {\n",
       "        text-align: right;\n",
       "    }\n",
       "</style>\n",
       "<table border=\"1\" class=\"dataframe\">\n",
       "  <thead>\n",
       "    <tr style=\"text-align: right;\">\n",
       "      <th></th>\n",
       "      <th>Beer</th>\n",
       "      <th>Brewery</th>\n",
       "      <th>Location</th>\n",
       "      <th>Style</th>\n",
       "      <th>Size</th>\n",
       "      <th>ABV</th>\n",
       "      <th>IBUs</th>\n",
       "    </tr>\n",
       "  </thead>\n",
       "  <tbody>\n",
       "    <tr>\n",
       "      <th>115</th>\n",
       "      <td>4Beans</td>\n",
       "      <td>Sixpoint Craft Ales</td>\n",
       "      <td>Brooklyn, NY</td>\n",
       "      <td>Baltic Porter</td>\n",
       "      <td>12 oz.</td>\n",
       "      <td>10.0</td>\n",
       "      <td>52</td>\n",
       "    </tr>\n",
       "    <tr>\n",
       "      <th>210</th>\n",
       "      <td>Jammer</td>\n",
       "      <td>Sixpoint Craft Ales</td>\n",
       "      <td>Brooklyn, NY</td>\n",
       "      <td>Gose</td>\n",
       "      <td>12 oz. Slimline</td>\n",
       "      <td>4.2</td>\n",
       "      <td>16</td>\n",
       "    </tr>\n",
       "    <tr>\n",
       "      <th>246</th>\n",
       "      <td>Abigale</td>\n",
       "      <td>Sixpoint Craft Ales</td>\n",
       "      <td>Brooklyn, NY</td>\n",
       "      <td>Belgian Pale Ale</td>\n",
       "      <td>12 oz.</td>\n",
       "      <td>8.0</td>\n",
       "      <td>Does not apply</td>\n",
       "    </tr>\n",
       "    <tr>\n",
       "      <th>404</th>\n",
       "      <td>Nomader Weiss</td>\n",
       "      <td>Evil Twin Brewing</td>\n",
       "      <td>Brooklyn, NY</td>\n",
       "      <td>Berliner Weissbier</td>\n",
       "      <td>12 oz.</td>\n",
       "      <td>4.0</td>\n",
       "      <td>Does not apply</td>\n",
       "    </tr>\n",
       "    <tr>\n",
       "      <th>421</th>\n",
       "      <td>Rad</td>\n",
       "      <td>Sixpoint Craft Ales</td>\n",
       "      <td>Brooklyn, NY</td>\n",
       "      <td>Fruit / Vegetable Beer</td>\n",
       "      <td>16 oz.</td>\n",
       "      <td>3.2</td>\n",
       "      <td>7</td>\n",
       "    </tr>\n",
       "    <tr>\n",
       "      <th>439</th>\n",
       "      <td>Molotov Lite</td>\n",
       "      <td>Evil Twin Brewing</td>\n",
       "      <td>Brooklyn, NY</td>\n",
       "      <td>American Double / Imperial IPA</td>\n",
       "      <td>16 oz.</td>\n",
       "      <td>8.5</td>\n",
       "      <td>Does not apply</td>\n",
       "    </tr>\n",
       "    <tr>\n",
       "      <th>588</th>\n",
       "      <td>Bengali</td>\n",
       "      <td>Sixpoint Craft Ales</td>\n",
       "      <td>Brooklyn, NY</td>\n",
       "      <td>American IPA</td>\n",
       "      <td>24 oz. \"Silo Can\"</td>\n",
       "      <td>6.5</td>\n",
       "      <td>62</td>\n",
       "    </tr>\n",
       "    <tr>\n",
       "      <th>713</th>\n",
       "      <td>Sensi Harvest</td>\n",
       "      <td>Sixpoint Craft Ales</td>\n",
       "      <td>Brooklyn, NY</td>\n",
       "      <td>American Pale Ale (APA)</td>\n",
       "      <td>12 oz.</td>\n",
       "      <td>4.7</td>\n",
       "      <td>50</td>\n",
       "    </tr>\n",
       "    <tr>\n",
       "      <th>969</th>\n",
       "      <td>Hi-Res</td>\n",
       "      <td>Sixpoint Craft Ales</td>\n",
       "      <td>Brooklyn, NY</td>\n",
       "      <td>American Double / Imperial IPA</td>\n",
       "      <td>12 oz.</td>\n",
       "      <td>9.9</td>\n",
       "      <td>111</td>\n",
       "    </tr>\n",
       "    <tr>\n",
       "      <th>987</th>\n",
       "      <td>KelSo Nut Brown Lager</td>\n",
       "      <td>KelSo Beer Company</td>\n",
       "      <td>Brooklyn, NY</td>\n",
       "      <td>Euro Dark Lager</td>\n",
       "      <td>12 oz.</td>\n",
       "      <td>5.7</td>\n",
       "      <td>19</td>\n",
       "    </tr>\n",
       "    <tr>\n",
       "      <th>1057</th>\n",
       "      <td>Global Warmer</td>\n",
       "      <td>Sixpoint Craft Ales</td>\n",
       "      <td>Brooklyn, NY</td>\n",
       "      <td>American Strong Ale</td>\n",
       "      <td>12 oz.</td>\n",
       "      <td>7.0</td>\n",
       "      <td>70</td>\n",
       "    </tr>\n",
       "    <tr>\n",
       "      <th>1074</th>\n",
       "      <td>Autumnation (2013)</td>\n",
       "      <td>Sixpoint Craft Ales</td>\n",
       "      <td>Brooklyn, NY</td>\n",
       "      <td>American IPA</td>\n",
       "      <td>16 oz.</td>\n",
       "      <td>6.7</td>\n",
       "      <td>74</td>\n",
       "    </tr>\n",
       "    <tr>\n",
       "      <th>1093</th>\n",
       "      <td>KelSo India Pale Ale</td>\n",
       "      <td>KelSo Beer Company</td>\n",
       "      <td>Brooklyn, NY</td>\n",
       "      <td>American IPA</td>\n",
       "      <td>12 oz.</td>\n",
       "      <td>6.0</td>\n",
       "      <td>64</td>\n",
       "    </tr>\n",
       "    <tr>\n",
       "      <th>1267</th>\n",
       "      <td>The Crisp</td>\n",
       "      <td>Sixpoint Craft Ales</td>\n",
       "      <td>Brooklyn, NY</td>\n",
       "      <td>German Pilsener</td>\n",
       "      <td>16 oz.</td>\n",
       "      <td>5.4</td>\n",
       "      <td>42</td>\n",
       "    </tr>\n",
       "    <tr>\n",
       "      <th>1268</th>\n",
       "      <td>Sweet Action</td>\n",
       "      <td>Sixpoint Craft Ales</td>\n",
       "      <td>Brooklyn, NY</td>\n",
       "      <td>Cream Ale</td>\n",
       "      <td>16 oz.</td>\n",
       "      <td>5.2</td>\n",
       "      <td>34</td>\n",
       "    </tr>\n",
       "    <tr>\n",
       "      <th>1269</th>\n",
       "      <td>Righteous Ale</td>\n",
       "      <td>Sixpoint Craft Ales</td>\n",
       "      <td>Brooklyn, NY</td>\n",
       "      <td>Rye Beer</td>\n",
       "      <td>16 oz.</td>\n",
       "      <td>6.3</td>\n",
       "      <td>57</td>\n",
       "    </tr>\n",
       "    <tr>\n",
       "      <th>1270</th>\n",
       "      <td>Bengali Tiger</td>\n",
       "      <td>Sixpoint Craft Ales</td>\n",
       "      <td>Brooklyn, NY</td>\n",
       "      <td>American IPA</td>\n",
       "      <td>16 oz.</td>\n",
       "      <td>6.4</td>\n",
       "      <td>62</td>\n",
       "    </tr>\n",
       "    <tr>\n",
       "      <th>1305</th>\n",
       "      <td>KelSo Pilsner</td>\n",
       "      <td>KelSo Beer Company</td>\n",
       "      <td>Brooklyn, NY</td>\n",
       "      <td>Czech Pilsener</td>\n",
       "      <td>12 oz.</td>\n",
       "      <td>5.5</td>\n",
       "      <td>23</td>\n",
       "    </tr>\n",
       "    <tr>\n",
       "      <th>1365</th>\n",
       "      <td>Hipster Ale (Two Roads Brewing)</td>\n",
       "      <td>Evil Twin Brewing</td>\n",
       "      <td>Brooklyn, NY</td>\n",
       "      <td>American Pale Ale (APA)</td>\n",
       "      <td>12 oz.</td>\n",
       "      <td>5.5</td>\n",
       "      <td>Does not apply</td>\n",
       "    </tr>\n",
       "    <tr>\n",
       "      <th>1366</th>\n",
       "      <td>Bikini Beer</td>\n",
       "      <td>Evil Twin Brewing</td>\n",
       "      <td>Brooklyn, NY</td>\n",
       "      <td>American IPA</td>\n",
       "      <td>12 oz.</td>\n",
       "      <td>2.7</td>\n",
       "      <td>Does not apply</td>\n",
       "    </tr>\n",
       "    <tr>\n",
       "      <th>1373</th>\n",
       "      <td>East India Pale Ale</td>\n",
       "      <td>Brooklyn Brewery</td>\n",
       "      <td>Brooklyn, NY</td>\n",
       "      <td>English India Pale Ale (IPA)</td>\n",
       "      <td>16 oz.</td>\n",
       "      <td>6.8</td>\n",
       "      <td>47</td>\n",
       "    </tr>\n",
       "    <tr>\n",
       "      <th>1624</th>\n",
       "      <td>3Beans</td>\n",
       "      <td>Sixpoint Craft Ales</td>\n",
       "      <td>Brooklyn, NY</td>\n",
       "      <td>Baltic Porter</td>\n",
       "      <td>12 oz.</td>\n",
       "      <td>9.9</td>\n",
       "      <td>85</td>\n",
       "    </tr>\n",
       "    <tr>\n",
       "      <th>1836</th>\n",
       "      <td>Brownstone</td>\n",
       "      <td>Sixpoint Craft Ales</td>\n",
       "      <td>Brooklyn, NY</td>\n",
       "      <td>American Brown Ale</td>\n",
       "      <td>16 oz.</td>\n",
       "      <td>5.9</td>\n",
       "      <td>47</td>\n",
       "    </tr>\n",
       "    <tr>\n",
       "      <th>1857</th>\n",
       "      <td>Brooklyn Summer Ale</td>\n",
       "      <td>Brooklyn Brewery</td>\n",
       "      <td>Brooklyn, NY</td>\n",
       "      <td>English Pale Mild Ale</td>\n",
       "      <td>12 oz.</td>\n",
       "      <td>4.5</td>\n",
       "      <td>Does not apply</td>\n",
       "    </tr>\n",
       "    <tr>\n",
       "      <th>1962</th>\n",
       "      <td>Hipster Ale (Westbrook Brewing)</td>\n",
       "      <td>Evil Twin Brewing</td>\n",
       "      <td>Brooklyn, NY</td>\n",
       "      <td>American Pale Ale (APA)</td>\n",
       "      <td>12 oz.</td>\n",
       "      <td>5.5</td>\n",
       "      <td>Does not apply</td>\n",
       "    </tr>\n",
       "    <tr>\n",
       "      <th>1970</th>\n",
       "      <td>Apollo</td>\n",
       "      <td>Sixpoint Craft Ales</td>\n",
       "      <td>Brooklyn, NY</td>\n",
       "      <td>American Pale Wheat Ale</td>\n",
       "      <td>16 oz.</td>\n",
       "      <td>5.2</td>\n",
       "      <td>11</td>\n",
       "    </tr>\n",
       "    <tr>\n",
       "      <th>1971</th>\n",
       "      <td>Harbinger</td>\n",
       "      <td>Sixpoint Craft Ales</td>\n",
       "      <td>Brooklyn, NY</td>\n",
       "      <td>Saison / Farmhouse Ale</td>\n",
       "      <td>16 oz.</td>\n",
       "      <td>4.9</td>\n",
       "      <td>35</td>\n",
       "    </tr>\n",
       "    <tr>\n",
       "      <th>1972</th>\n",
       "      <td>Resin</td>\n",
       "      <td>Sixpoint Craft Ales</td>\n",
       "      <td>Brooklyn, NY</td>\n",
       "      <td>American Double / Imperial IPA</td>\n",
       "      <td>12 oz.</td>\n",
       "      <td>9.1</td>\n",
       "      <td>103</td>\n",
       "    </tr>\n",
       "    <tr>\n",
       "      <th>2027</th>\n",
       "      <td>East India Pale Ale</td>\n",
       "      <td>Brooklyn Brewery</td>\n",
       "      <td>Brooklyn, NY</td>\n",
       "      <td>English India Pale Ale (IPA)</td>\n",
       "      <td>12 oz.</td>\n",
       "      <td>6.8</td>\n",
       "      <td>47</td>\n",
       "    </tr>\n",
       "    <tr>\n",
       "      <th>2062</th>\n",
       "      <td>Diesel</td>\n",
       "      <td>Sixpoint Craft Ales</td>\n",
       "      <td>Brooklyn, NY</td>\n",
       "      <td>American Stout</td>\n",
       "      <td>16 oz.</td>\n",
       "      <td>6.3</td>\n",
       "      <td>69</td>\n",
       "    </tr>\n",
       "    <tr>\n",
       "      <th>2074</th>\n",
       "      <td>Autumnation (2011-12) (2011)</td>\n",
       "      <td>Sixpoint Craft Ales</td>\n",
       "      <td>Brooklyn, NY</td>\n",
       "      <td>Pumpkin Ale</td>\n",
       "      <td>16 oz.</td>\n",
       "      <td>6.0</td>\n",
       "      <td>48</td>\n",
       "    </tr>\n",
       "    <tr>\n",
       "      <th>2140</th>\n",
       "      <td>The Crisp (2011)</td>\n",
       "      <td>Sixpoint Craft Ales</td>\n",
       "      <td>Brooklyn, NY</td>\n",
       "      <td>German Pilsener</td>\n",
       "      <td>16 oz.</td>\n",
       "      <td>5.4</td>\n",
       "      <td>42</td>\n",
       "    </tr>\n",
       "    <tr>\n",
       "      <th>2141</th>\n",
       "      <td>Sweet Action (2011)</td>\n",
       "      <td>Sixpoint Craft Ales</td>\n",
       "      <td>Brooklyn, NY</td>\n",
       "      <td>Cream Ale</td>\n",
       "      <td>16 oz.</td>\n",
       "      <td>5.2</td>\n",
       "      <td>34</td>\n",
       "    </tr>\n",
       "    <tr>\n",
       "      <th>2142</th>\n",
       "      <td>Righteous Ale (2011)</td>\n",
       "      <td>Sixpoint Craft Ales</td>\n",
       "      <td>Brooklyn, NY</td>\n",
       "      <td>Rye Beer</td>\n",
       "      <td>16 oz.</td>\n",
       "      <td>6.3</td>\n",
       "      <td>57</td>\n",
       "    </tr>\n",
       "    <tr>\n",
       "      <th>2143</th>\n",
       "      <td>Bengali Tiger (2011)</td>\n",
       "      <td>Sixpoint Craft Ales</td>\n",
       "      <td>Brooklyn, NY</td>\n",
       "      <td>American IPA</td>\n",
       "      <td>16 oz.</td>\n",
       "      <td>6.4</td>\n",
       "      <td>62</td>\n",
       "    </tr>\n",
       "    <tr>\n",
       "      <th>2219</th>\n",
       "      <td>Brooklyn Summer Ale (2011)</td>\n",
       "      <td>Brooklyn Brewery</td>\n",
       "      <td>Brooklyn, NY</td>\n",
       "      <td>English Pale Mild Ale</td>\n",
       "      <td>12 oz.</td>\n",
       "      <td>4.5</td>\n",
       "      <td>Does not apply</td>\n",
       "    </tr>\n",
       "    <tr>\n",
       "      <th>2350</th>\n",
       "      <td>Brooklyn Lager (16 oz.)</td>\n",
       "      <td>Brooklyn Brewery</td>\n",
       "      <td>Brooklyn, NY</td>\n",
       "      <td>American Amber / Red Lager</td>\n",
       "      <td>16 oz.</td>\n",
       "      <td>5.2</td>\n",
       "      <td>Does not apply</td>\n",
       "    </tr>\n",
       "    <tr>\n",
       "      <th>2351</th>\n",
       "      <td>Brooklyn Lager (12 oz.)</td>\n",
       "      <td>Brooklyn Brewery</td>\n",
       "      <td>Brooklyn, NY</td>\n",
       "      <td>American Amber / Red Lager</td>\n",
       "      <td>12 oz.</td>\n",
       "      <td>5.2</td>\n",
       "      <td>Does not apply</td>\n",
       "    </tr>\n",
       "  </tbody>\n",
       "</table>\n",
       "</div>"
      ],
      "text/plain": [
       "                                 Beer              Brewery      Location  \\\n",
       "115                            4Beans  Sixpoint Craft Ales  Brooklyn, NY   \n",
       "210                            Jammer  Sixpoint Craft Ales  Brooklyn, NY   \n",
       "246                           Abigale  Sixpoint Craft Ales  Brooklyn, NY   \n",
       "404                     Nomader Weiss    Evil Twin Brewing  Brooklyn, NY   \n",
       "421                               Rad  Sixpoint Craft Ales  Brooklyn, NY   \n",
       "439                      Molotov Lite    Evil Twin Brewing  Brooklyn, NY   \n",
       "588                           Bengali  Sixpoint Craft Ales  Brooklyn, NY   \n",
       "713                     Sensi Harvest  Sixpoint Craft Ales  Brooklyn, NY   \n",
       "969                            Hi-Res  Sixpoint Craft Ales  Brooklyn, NY   \n",
       "987             KelSo Nut Brown Lager   KelSo Beer Company  Brooklyn, NY   \n",
       "1057                    Global Warmer  Sixpoint Craft Ales  Brooklyn, NY   \n",
       "1074               Autumnation (2013)  Sixpoint Craft Ales  Brooklyn, NY   \n",
       "1093             KelSo India Pale Ale   KelSo Beer Company  Brooklyn, NY   \n",
       "1267                        The Crisp  Sixpoint Craft Ales  Brooklyn, NY   \n",
       "1268                     Sweet Action  Sixpoint Craft Ales  Brooklyn, NY   \n",
       "1269                    Righteous Ale  Sixpoint Craft Ales  Brooklyn, NY   \n",
       "1270                    Bengali Tiger  Sixpoint Craft Ales  Brooklyn, NY   \n",
       "1305                    KelSo Pilsner   KelSo Beer Company  Brooklyn, NY   \n",
       "1365  Hipster Ale (Two Roads Brewing)    Evil Twin Brewing  Brooklyn, NY   \n",
       "1366                      Bikini Beer    Evil Twin Brewing  Brooklyn, NY   \n",
       "1373              East India Pale Ale     Brooklyn Brewery  Brooklyn, NY   \n",
       "1624                           3Beans  Sixpoint Craft Ales  Brooklyn, NY   \n",
       "1836                       Brownstone  Sixpoint Craft Ales  Brooklyn, NY   \n",
       "1857              Brooklyn Summer Ale     Brooklyn Brewery  Brooklyn, NY   \n",
       "1962  Hipster Ale (Westbrook Brewing)    Evil Twin Brewing  Brooklyn, NY   \n",
       "1970                           Apollo  Sixpoint Craft Ales  Brooklyn, NY   \n",
       "1971                        Harbinger  Sixpoint Craft Ales  Brooklyn, NY   \n",
       "1972                            Resin  Sixpoint Craft Ales  Brooklyn, NY   \n",
       "2027              East India Pale Ale     Brooklyn Brewery  Brooklyn, NY   \n",
       "2062                           Diesel  Sixpoint Craft Ales  Brooklyn, NY   \n",
       "2074     Autumnation (2011-12) (2011)  Sixpoint Craft Ales  Brooklyn, NY   \n",
       "2140                 The Crisp (2011)  Sixpoint Craft Ales  Brooklyn, NY   \n",
       "2141              Sweet Action (2011)  Sixpoint Craft Ales  Brooklyn, NY   \n",
       "2142             Righteous Ale (2011)  Sixpoint Craft Ales  Brooklyn, NY   \n",
       "2143             Bengali Tiger (2011)  Sixpoint Craft Ales  Brooklyn, NY   \n",
       "2219       Brooklyn Summer Ale (2011)     Brooklyn Brewery  Brooklyn, NY   \n",
       "2350          Brooklyn Lager (16 oz.)     Brooklyn Brewery  Brooklyn, NY   \n",
       "2351          Brooklyn Lager (12 oz.)     Brooklyn Brewery  Brooklyn, NY   \n",
       "\n",
       "                               Style               Size   ABV            IBUs  \n",
       "115                    Baltic Porter             12 oz.  10.0              52  \n",
       "210                             Gose    12 oz. Slimline   4.2              16  \n",
       "246                 Belgian Pale Ale             12 oz.   8.0  Does not apply  \n",
       "404               Berliner Weissbier             12 oz.   4.0  Does not apply  \n",
       "421           Fruit / Vegetable Beer             16 oz.   3.2               7  \n",
       "439   American Double / Imperial IPA             16 oz.   8.5  Does not apply  \n",
       "588                     American IPA  24 oz. \"Silo Can\"   6.5              62  \n",
       "713          American Pale Ale (APA)             12 oz.   4.7              50  \n",
       "969   American Double / Imperial IPA             12 oz.   9.9             111  \n",
       "987                  Euro Dark Lager             12 oz.   5.7              19  \n",
       "1057             American Strong Ale             12 oz.   7.0              70  \n",
       "1074                    American IPA             16 oz.   6.7              74  \n",
       "1093                    American IPA             12 oz.   6.0              64  \n",
       "1267                 German Pilsener             16 oz.   5.4              42  \n",
       "1268                       Cream Ale             16 oz.   5.2              34  \n",
       "1269                        Rye Beer             16 oz.   6.3              57  \n",
       "1270                    American IPA             16 oz.   6.4              62  \n",
       "1305                  Czech Pilsener             12 oz.   5.5              23  \n",
       "1365         American Pale Ale (APA)             12 oz.   5.5  Does not apply  \n",
       "1366                    American IPA             12 oz.   2.7  Does not apply  \n",
       "1373    English India Pale Ale (IPA)             16 oz.   6.8              47  \n",
       "1624                   Baltic Porter             12 oz.   9.9              85  \n",
       "1836              American Brown Ale             16 oz.   5.9              47  \n",
       "1857           English Pale Mild Ale             12 oz.   4.5  Does not apply  \n",
       "1962         American Pale Ale (APA)             12 oz.   5.5  Does not apply  \n",
       "1970         American Pale Wheat Ale             16 oz.   5.2              11  \n",
       "1971          Saison / Farmhouse Ale             16 oz.   4.9              35  \n",
       "1972  American Double / Imperial IPA             12 oz.   9.1             103  \n",
       "2027    English India Pale Ale (IPA)             12 oz.   6.8              47  \n",
       "2062                  American Stout             16 oz.   6.3              69  \n",
       "2074                     Pumpkin Ale             16 oz.   6.0              48  \n",
       "2140                 German Pilsener             16 oz.   5.4              42  \n",
       "2141                       Cream Ale             16 oz.   5.2              34  \n",
       "2142                        Rye Beer             16 oz.   6.3              57  \n",
       "2143                    American IPA             16 oz.   6.4              62  \n",
       "2219           English Pale Mild Ale             12 oz.   4.5  Does not apply  \n",
       "2350      American Amber / Red Lager             16 oz.   5.2  Does not apply  \n",
       "2351      American Amber / Red Lager             12 oz.   5.2  Does not apply  "
      ]
     },
     "execution_count": 19,
     "metadata": {},
     "output_type": "execute_result"
    }
   ],
   "source": [
    "#filter df by Location column\n",
    "df[df.Location=='Brooklyn, NY']"
   ]
  },
  {
   "cell_type": "code",
   "execution_count": 20,
   "metadata": {},
   "outputs": [
    {
     "data": {
      "text/plain": [
       "['4Beans',\n",
       " 'Jammer',\n",
       " 'Abigale',\n",
       " 'Nomader Weiss',\n",
       " 'Rad',\n",
       " 'Molotov Lite',\n",
       " 'Bengali',\n",
       " 'Sensi Harvest',\n",
       " 'Hi-Res',\n",
       " 'KelSo Nut Brown Lager',\n",
       " 'Global Warmer',\n",
       " 'Autumnation (2013)',\n",
       " 'KelSo India Pale Ale',\n",
       " 'The Crisp',\n",
       " 'Sweet Action',\n",
       " 'Righteous Ale',\n",
       " 'Bengali Tiger',\n",
       " 'KelSo Pilsner',\n",
       " 'Hipster Ale (Two Roads Brewing)',\n",
       " 'Bikini Beer',\n",
       " 'East India Pale Ale',\n",
       " '3Beans',\n",
       " 'Brownstone',\n",
       " 'Brooklyn Summer Ale',\n",
       " 'Hipster Ale (Westbrook Brewing)',\n",
       " 'Apollo',\n",
       " 'Harbinger',\n",
       " 'Resin',\n",
       " 'East India Pale Ale',\n",
       " 'Diesel',\n",
       " 'Autumnation (2011-12) (2011)',\n",
       " 'The Crisp (2011)',\n",
       " 'Sweet Action (2011)',\n",
       " 'Righteous Ale (2011)',\n",
       " 'Bengali Tiger (2011)',\n",
       " 'Brooklyn Summer Ale (2011)',\n",
       " 'Brooklyn Lager (16 oz.)',\n",
       " 'Brooklyn Lager (12 oz.)']"
      ]
     },
     "execution_count": 20,
     "metadata": {},
     "output_type": "execute_result"
    }
   ],
   "source": [
    "#list for all the beers from Brooklyn, NY\n",
    "df[df.Location=='Brooklyn, NY'].Beer.to_list()"
   ]
  },
  {
   "cell_type": "markdown",
   "metadata": {},
   "source": [
    "## What brewery in Brooklyn puts out the most types of canned beer?"
   ]
  },
  {
   "cell_type": "code",
   "execution_count": 21,
   "metadata": {},
   "outputs": [
    {
     "data": {
      "text/plain": [
       "Sixpoint Craft Ales    24\n",
       "Brooklyn Brewery        6\n",
       "Evil Twin Brewing       5\n",
       "KelSo Beer Company      3\n",
       "Name: Brewery, dtype: int64"
      ]
     },
     "execution_count": 21,
     "metadata": {},
     "output_type": "execute_result"
    }
   ],
   "source": [
    "#Breweries in Brooklyn\n",
    "df[df.Location=='Brooklyn, NY'].Brewery.value_counts()"
   ]
  },
  {
   "cell_type": "code",
   "execution_count": 22,
   "metadata": {},
   "outputs": [
    {
     "data": {
      "text/plain": [
       "Brewery              Style                         \n",
       "Brooklyn Brewery     American Amber / Red Lager        2\n",
       "                     English India Pale Ale (IPA)      2\n",
       "                     English Pale Mild Ale             2\n",
       "Evil Twin Brewing    American Double / Imperial IPA    1\n",
       "                     American IPA                      1\n",
       "                     American Pale Ale (APA)           2\n",
       "                     Berliner Weissbier                1\n",
       "KelSo Beer Company   American IPA                      1\n",
       "                     Czech Pilsener                    1\n",
       "                     Euro Dark Lager                   1\n",
       "Sixpoint Craft Ales  American Brown Ale                1\n",
       "                     American Double / Imperial IPA    2\n",
       "                     American IPA                      4\n",
       "                     American Pale Ale (APA)           1\n",
       "                     American Pale Wheat Ale           1\n",
       "                     American Stout                    1\n",
       "                     American Strong Ale               1\n",
       "                     Baltic Porter                     2\n",
       "                     Belgian Pale Ale                  1\n",
       "                     Cream Ale                         2\n",
       "                     Fruit / Vegetable Beer            1\n",
       "                     German Pilsener                   2\n",
       "                     Gose                              1\n",
       "                     Pumpkin Ale                       1\n",
       "                     Rye Beer                          2\n",
       "                     Saison / Farmhouse Ale            1\n",
       "dtype: int64"
      ]
     },
     "execution_count": 22,
     "metadata": {},
     "output_type": "execute_result"
    }
   ],
   "source": [
    "#Breweries in Brooklyn and style of beer each of them put out\n",
    "df[df.Location=='Brooklyn, NY'][['Brewery','Style']].value_counts().sort_index()"
   ]
  },
  {
   "cell_type": "code",
   "execution_count": 23,
   "metadata": {},
   "outputs": [],
   "source": [
    "#The answer is Sixpoint Craft Ales"
   ]
  },
  {
   "cell_type": "markdown",
   "metadata": {},
   "source": [
    "## What are the five styles of beer that Sixpoint produces the most cans of?"
   ]
  },
  {
   "cell_type": "code",
   "execution_count": 24,
   "metadata": {},
   "outputs": [
    {
     "data": {
      "text/plain": [
       "American IPA                      4\n",
       "Baltic Porter                     2\n",
       "American Double / Imperial IPA    2\n",
       "German Pilsener                   2\n",
       "Cream Ale                         2\n",
       "Name: Style, dtype: int64"
      ]
     },
     "execution_count": 24,
     "metadata": {},
     "output_type": "execute_result"
    }
   ],
   "source": [
    "#the five styles of beer that Sixpoint produces the most cans of\n",
    "df[df.Brewery=='Sixpoint Craft Ales'].Style.value_counts().head(5)"
   ]
  },
  {
   "cell_type": "markdown",
   "metadata": {},
   "source": [
    "## List all of the breweries in New York state.\n",
    "\n",
    "- *Tip: We want to match **part** of the `Location` column, but not all of it.*\n",
    "- *Tip: Watch out for `NaN` values! You might be close, but you'll need to pass an extra parameter to make it work without an error.*"
   ]
  },
  {
   "cell_type": "code",
   "execution_count": 25,
   "metadata": {},
   "outputs": [],
   "source": [
    "#create a new column for state datta\n",
    "df['state'] = df.Location.str.replace('.*, ','', regex=True)"
   ]
  },
  {
   "cell_type": "code",
   "execution_count": 26,
   "metadata": {},
   "outputs": [
    {
     "data": {
      "text/plain": [
       "array(['Sixpoint Craft Ales', 'Evil Twin Brewing', 'Chatham Brewing',\n",
       "       'Newburgh Brewing Company', 'Southampton Publick House',\n",
       "       'Montauk Brewing Company', 'Matt Brewing Company',\n",
       "       'The Bronx Brewery', 'KelSo Beer Company', 'Brooklyn Brewery',\n",
       "       'The Manhattan Brewing Company', 'Blue Point Brewing Company',\n",
       "       'Bomb Beer Company', 'Dundee Brewing Company',\n",
       "       'Upstate Brewing Company', 'Butternuts Beer and Ale'], dtype=object)"
      ]
     },
     "execution_count": 26,
     "metadata": {},
     "output_type": "execute_result"
    }
   ],
   "source": [
    "#the breweries in New York state\n",
    "df[df.state=='NY'].Brewery.unique()"
   ]
  },
  {
   "cell_type": "markdown",
   "metadata": {},
   "source": [
    "### Now *count* all of the breweries in New York state"
   ]
  },
  {
   "cell_type": "code",
   "execution_count": 27,
   "metadata": {},
   "outputs": [
    {
     "data": {
      "text/plain": [
       "16"
      ]
     },
     "execution_count": 27,
     "metadata": {},
     "output_type": "execute_result"
    }
   ],
   "source": [
    "#number of all breweries in New York state\n",
    "len(df[df.state=='NY'].Brewery.unique())"
   ]
  },
  {
   "cell_type": "code",
   "execution_count": 28,
   "metadata": {},
   "outputs": [
    {
     "data": {
      "text/plain": [
       "Sixpoint Craft Ales              24\n",
       "Matt Brewing Company             13\n",
       "Brooklyn Brewery                  6\n",
       "Evil Twin Brewing                 5\n",
       "Blue Point Brewing Company        4\n",
       "Butternuts Beer and Ale           4\n",
       "The Bronx Brewery                 3\n",
       "KelSo Beer Company                3\n",
       "Chatham Brewing                   2\n",
       "Montauk Brewing Company           2\n",
       "Bomb Beer Company                 2\n",
       "Upstate Brewing Company           2\n",
       "Newburgh Brewing Company          1\n",
       "Southampton Publick House         1\n",
       "The Manhattan Brewing Company     1\n",
       "Dundee Brewing Company            1\n",
       "Name: Brewery, dtype: int64"
      ]
     },
     "execution_count": 28,
     "metadata": {},
     "output_type": "execute_result"
    }
   ],
   "source": [
    "#numbers of beers each breweries in New York State are producing\n",
    "df[df.state=='NY'].Brewery.value_counts()"
   ]
  },
  {
   "cell_type": "markdown",
   "metadata": {},
   "source": [
    "# Measuring International Bitterness Units\n",
    "\n",
    "## Display all of the IPAs\n",
    "\n",
    "Include American IPAs, Imperial IPAs, and anything else with \"IPA in it.\"\n",
    "\n",
    "IPA stands for [India Pale Ale](https://www.bonappetit.com/story/ipa-beer-styles), and is probably the most popular kind of beer in the US for people who are drinking [craft beer](https://www.craftbeer.com/beer/what-is-craft-beer)."
   ]
  },
  {
   "cell_type": "code",
   "execution_count": 29,
   "metadata": {},
   "outputs": [
    {
     "data": {
      "text/html": [
       "<div>\n",
       "<style scoped>\n",
       "    .dataframe tbody tr th:only-of-type {\n",
       "        vertical-align: middle;\n",
       "    }\n",
       "\n",
       "    .dataframe tbody tr th {\n",
       "        vertical-align: top;\n",
       "    }\n",
       "\n",
       "    .dataframe thead th {\n",
       "        text-align: right;\n",
       "    }\n",
       "</style>\n",
       "<table border=\"1\" class=\"dataframe\">\n",
       "  <thead>\n",
       "    <tr style=\"text-align: right;\">\n",
       "      <th></th>\n",
       "      <th>Beer</th>\n",
       "      <th>Brewery</th>\n",
       "      <th>Location</th>\n",
       "      <th>Style</th>\n",
       "      <th>Size</th>\n",
       "      <th>ABV</th>\n",
       "      <th>IBUs</th>\n",
       "      <th>state</th>\n",
       "    </tr>\n",
       "  </thead>\n",
       "  <tbody>\n",
       "    <tr>\n",
       "      <th>0</th>\n",
       "      <td>Get Together</td>\n",
       "      <td>NorthGate Brewing</td>\n",
       "      <td>Minneapolis, MN</td>\n",
       "      <td>American IPA</td>\n",
       "      <td>16 oz.</td>\n",
       "      <td>4.5</td>\n",
       "      <td>50</td>\n",
       "      <td>MN</td>\n",
       "    </tr>\n",
       "    <tr>\n",
       "      <th>6</th>\n",
       "      <td>Citra Ass Down</td>\n",
       "      <td>Against the Grain Brewery</td>\n",
       "      <td>Louisville, KY</td>\n",
       "      <td>American Double / Imperial IPA</td>\n",
       "      <td>16 oz.</td>\n",
       "      <td>8.0</td>\n",
       "      <td>68</td>\n",
       "      <td>KY</td>\n",
       "    </tr>\n",
       "    <tr>\n",
       "      <th>14</th>\n",
       "      <td>Rico Sauvin</td>\n",
       "      <td>Against the Grain Brewery</td>\n",
       "      <td>Louisville, KY</td>\n",
       "      <td>American Double / Imperial IPA</td>\n",
       "      <td>16 oz.</td>\n",
       "      <td>7.6</td>\n",
       "      <td>68</td>\n",
       "      <td>KY</td>\n",
       "    </tr>\n",
       "    <tr>\n",
       "      <th>17</th>\n",
       "      <td>Pile of Face</td>\n",
       "      <td>Against the Grain Brewery</td>\n",
       "      <td>Louisville, KY</td>\n",
       "      <td>American IPA</td>\n",
       "      <td>16 oz.</td>\n",
       "      <td>6.0</td>\n",
       "      <td>65</td>\n",
       "      <td>KY</td>\n",
       "    </tr>\n",
       "    <tr>\n",
       "      <th>24</th>\n",
       "      <td>Habitus (2014)</td>\n",
       "      <td>Mike Hess Brewing Company</td>\n",
       "      <td>San Diego, CA</td>\n",
       "      <td>American Double / Imperial IPA</td>\n",
       "      <td>16 oz.</td>\n",
       "      <td>8.0</td>\n",
       "      <td>100</td>\n",
       "      <td>CA</td>\n",
       "    </tr>\n",
       "    <tr>\n",
       "      <th>...</th>\n",
       "      <td>...</td>\n",
       "      <td>...</td>\n",
       "      <td>...</td>\n",
       "      <td>...</td>\n",
       "      <td>...</td>\n",
       "      <td>...</td>\n",
       "      <td>...</td>\n",
       "      <td>...</td>\n",
       "    </tr>\n",
       "    <tr>\n",
       "      <th>2403</th>\n",
       "      <td>Abrasive Ale</td>\n",
       "      <td>Surly Brewing Company</td>\n",
       "      <td>Brooklyn Center, MN</td>\n",
       "      <td>American Double / Imperial IPA</td>\n",
       "      <td>16 oz.</td>\n",
       "      <td>9.7</td>\n",
       "      <td>120</td>\n",
       "      <td>MN</td>\n",
       "    </tr>\n",
       "    <tr>\n",
       "      <th>2406</th>\n",
       "      <td>Furious</td>\n",
       "      <td>Surly Brewing Company</td>\n",
       "      <td>Brooklyn Center, MN</td>\n",
       "      <td>American IPA</td>\n",
       "      <td>16 oz.</td>\n",
       "      <td>6.2</td>\n",
       "      <td>99</td>\n",
       "      <td>MN</td>\n",
       "    </tr>\n",
       "    <tr>\n",
       "      <th>2408</th>\n",
       "      <td>Brew Free! or Die IPA</td>\n",
       "      <td>21st Amendment Brewery</td>\n",
       "      <td>San Francisco, CA</td>\n",
       "      <td>American IPA</td>\n",
       "      <td>12 oz.</td>\n",
       "      <td>7.0</td>\n",
       "      <td>65</td>\n",
       "      <td>CA</td>\n",
       "    </tr>\n",
       "    <tr>\n",
       "      <th>2412</th>\n",
       "      <td>GUBNA Imperial IPA</td>\n",
       "      <td>Oskar Blues Brewery</td>\n",
       "      <td>Longmont, CO</td>\n",
       "      <td>American Double / Imperial IPA</td>\n",
       "      <td>12 oz.</td>\n",
       "      <td>9.9</td>\n",
       "      <td>100</td>\n",
       "      <td>CO</td>\n",
       "    </tr>\n",
       "    <tr>\n",
       "      <th>2414</th>\n",
       "      <td>Gordon Ale (2009)</td>\n",
       "      <td>Oskar Blues Brewery</td>\n",
       "      <td>Longmont, CO</td>\n",
       "      <td>American Double / Imperial IPA</td>\n",
       "      <td>12 oz.</td>\n",
       "      <td>8.7</td>\n",
       "      <td>85</td>\n",
       "      <td>CO</td>\n",
       "    </tr>\n",
       "  </tbody>\n",
       "</table>\n",
       "<p>571 rows × 8 columns</p>\n",
       "</div>"
      ],
      "text/plain": [
       "                       Beer                    Brewery             Location  \\\n",
       "0              Get Together          NorthGate Brewing      Minneapolis, MN   \n",
       "6            Citra Ass Down  Against the Grain Brewery       Louisville, KY   \n",
       "14              Rico Sauvin  Against the Grain Brewery       Louisville, KY   \n",
       "17             Pile of Face  Against the Grain Brewery       Louisville, KY   \n",
       "24           Habitus (2014)  Mike Hess Brewing Company        San Diego, CA   \n",
       "...                     ...                        ...                  ...   \n",
       "2403           Abrasive Ale      Surly Brewing Company  Brooklyn Center, MN   \n",
       "2406                Furious      Surly Brewing Company  Brooklyn Center, MN   \n",
       "2408  Brew Free! or Die IPA     21st Amendment Brewery    San Francisco, CA   \n",
       "2412     GUBNA Imperial IPA        Oskar Blues Brewery         Longmont, CO   \n",
       "2414      Gordon Ale (2009)        Oskar Blues Brewery         Longmont, CO   \n",
       "\n",
       "                               Style    Size  ABV IBUs state  \n",
       "0                       American IPA  16 oz.  4.5   50    MN  \n",
       "6     American Double / Imperial IPA  16 oz.  8.0   68    KY  \n",
       "14    American Double / Imperial IPA  16 oz.  7.6   68    KY  \n",
       "17                      American IPA  16 oz.  6.0   65    KY  \n",
       "24    American Double / Imperial IPA  16 oz.  8.0  100    CA  \n",
       "...                              ...     ...  ...  ...   ...  \n",
       "2403  American Double / Imperial IPA  16 oz.  9.7  120    MN  \n",
       "2406                    American IPA  16 oz.  6.2   99    MN  \n",
       "2408                    American IPA  12 oz.  7.0   65    CA  \n",
       "2412  American Double / Imperial IPA  12 oz.  9.9  100    CO  \n",
       "2414  American Double / Imperial IPA  12 oz.  8.7   85    CO  \n",
       "\n",
       "[571 rows x 8 columns]"
      ]
     },
     "execution_count": 29,
     "metadata": {},
     "output_type": "execute_result"
    }
   ],
   "source": [
    "#Display IPAs\n",
    "df[df.Style.str.contains('IPA', na=False)]"
   ]
  },
  {
   "cell_type": "markdown",
   "metadata": {},
   "source": [
    "IPAs are usually pretty hoppy and bitter (although I guess hazy IPAs and session IPAs are changing that since I first made this homework!). IBU stands for [International Bitterness Unit](http://www.thebrewenthusiast.com/ibus/), and while a lot of places like to brag about having the most bitter beer (it's an American thing!), IBUs don't necessary *mean anything*.\n",
    "\n",
    "Let's look at how different beers have different IBU measurements."
   ]
  },
  {
   "cell_type": "markdown",
   "metadata": {},
   "source": [
    "## Try to get the average IBU measurement across all beers"
   ]
  },
  {
   "cell_type": "code",
   "execution_count": 30,
   "metadata": {},
   "outputs": [
    {
     "data": {
      "text/plain": [
       "42.71316725978647"
      ]
     },
     "execution_count": 30,
     "metadata": {},
     "output_type": "execute_result"
    }
   ],
   "source": [
    "#average IBU\n",
    "df.IBUs.apply(lambda x: pd.to_numeric(x, errors='coerce')).mean()"
   ]
  },
  {
   "cell_type": "markdown",
   "metadata": {},
   "source": [
    "### Oh no, it doesn't work!\n",
    "\n",
    "It looks like some of those values *aren't numbers*. There are two ways to fix this:\n",
    "\n",
    "1. Do the `.replace` and `np.nan` thing we did in class. Then convert the column to a number. This is boring.\n",
    "2. When you're reading in your csv, there [is an option called `na_values`](http://pandas.pydata.org/pandas-docs/version/0.23/generated/pandas.read_csv.html). You can give it a list of **numbers or strings to count as `NaN`**. It's a lot easier than doing the `np.nan` thing, although you'll need to go add it up top and run all of your cells again.\n",
    "\n",
    "- *Tip: Make sure you're giving `na_values` a LIST, not just a string*\n",
    "\n",
    "### Now try to get the average IBUs again"
   ]
  },
  {
   "cell_type": "code",
   "execution_count": 31,
   "metadata": {},
   "outputs": [
    {
     "data": {
      "text/plain": [
       "array(['Does not apply', nan], dtype=object)"
      ]
     },
     "execution_count": 31,
     "metadata": {},
     "output_type": "execute_result"
    }
   ],
   "source": [
    "#check what kinds of non-numeric data are mixed in\n",
    "df[~df.IBUs.str.isnumeric().replace(np.nan, False)].IBUs.unique()"
   ]
  },
  {
   "cell_type": "code",
   "execution_count": 32,
   "metadata": {},
   "outputs": [],
   "source": [
    "#replace \"Does not apply\" manually\n",
    "df.IBUs = df.IBUs.replace('Does not apply',np.nan).astype(float)"
   ]
  },
  {
   "cell_type": "code",
   "execution_count": 33,
   "metadata": {},
   "outputs": [],
   "source": [
    "#cast as float\n",
    "df.IBUs = df.IBUs.astype(float)"
   ]
  },
  {
   "cell_type": "code",
   "execution_count": 34,
   "metadata": {},
   "outputs": [
    {
     "data": {
      "text/plain": [
       "42.71316725978647"
      ]
     },
     "execution_count": 34,
     "metadata": {},
     "output_type": "execute_result"
    }
   ],
   "source": [
    "#average IBUs\n",
    "df.IBUs.mean()"
   ]
  },
  {
   "cell_type": "markdown",
   "metadata": {},
   "source": [
    "## Draw the distribution of IBU measurements, but with *twenty* bins instead of the default of 10\n",
    "\n",
    "- *Tip: Every time I ask for a distribution, I'm looking for a histogram*\n",
    "- *Tip: Use the `?` to get all of the options for building a histogram*"
   ]
  },
  {
   "cell_type": "code",
   "execution_count": 35,
   "metadata": {},
   "outputs": [
    {
     "data": {
      "image/png": "[encoded data removed]",
      "text/plain": [
       "<Figure size 432x288 with 1 Axes>"
      ]
     },
     "metadata": {
      "needs_background": "light"
     },
     "output_type": "display_data"
    }
   ],
   "source": [
    "#the distribution of IBU measurements\n",
    "df.IBUs.hist(ec=\"k\",bins=20)\n",
    "plt.title('the distribution of IBU measurements with 20 bins')\n",
    "plt.xlabel('IBUs')\n",
    "plt.ylabel('number of cans')\n",
    "plt.show()"
   ]
  },
  {
   "cell_type": "markdown",
   "metadata": {},
   "source": [
    "## Hm, Interesting distribution. List all of the beers with IBUs above the 75th percentile\n",
    "\n",
    "- *Tip: There's a single that gives you the 25/50/75th percentile*\n",
    "- *Tip: You can just manually type the number when you list those beers*"
   ]
  },
  {
   "cell_type": "code",
   "execution_count": 36,
   "metadata": {},
   "outputs": [
    {
     "data": {
      "text/plain": [
       "64.0"
      ]
     },
     "execution_count": 36,
     "metadata": {},
     "output_type": "execute_result"
    }
   ],
   "source": [
    "#75th percentile\n",
    "df.IBUs.quantile(0.75)"
   ]
  },
  {
   "cell_type": "code",
   "execution_count": 37,
   "metadata": {},
   "outputs": [
    {
     "data": {
      "text/plain": [
       "count    1405.000000\n",
       "mean       42.713167\n",
       "std        25.954066\n",
       "min         4.000000\n",
       "25%        21.000000\n",
       "50%        35.000000\n",
       "75%        64.000000\n",
       "max       138.000000\n",
       "Name: IBUs, dtype: float64"
      ]
     },
     "execution_count": 37,
     "metadata": {},
     "output_type": "execute_result"
    }
   ],
   "source": [
    "#summary statistics\n",
    "df.IBUs.describe()"
   ]
  },
  {
   "cell_type": "code",
   "execution_count": 38,
   "metadata": {},
   "outputs": [
    {
     "data": {
      "text/html": [
       "<div>\n",
       "<style scoped>\n",
       "    .dataframe tbody tr th:only-of-type {\n",
       "        vertical-align: middle;\n",
       "    }\n",
       "\n",
       "    .dataframe tbody tr th {\n",
       "        vertical-align: top;\n",
       "    }\n",
       "\n",
       "    .dataframe thead th {\n",
       "        text-align: right;\n",
       "    }\n",
       "</style>\n",
       "<table border=\"1\" class=\"dataframe\">\n",
       "  <thead>\n",
       "    <tr style=\"text-align: right;\">\n",
       "      <th></th>\n",
       "      <th>Beer</th>\n",
       "      <th>Brewery</th>\n",
       "      <th>Location</th>\n",
       "      <th>Style</th>\n",
       "      <th>Size</th>\n",
       "      <th>ABV</th>\n",
       "      <th>IBUs</th>\n",
       "      <th>state</th>\n",
       "    </tr>\n",
       "  </thead>\n",
       "  <tbody>\n",
       "    <tr>\n",
       "      <th>6</th>\n",
       "      <td>Citra Ass Down</td>\n",
       "      <td>Against the Grain Brewery</td>\n",
       "      <td>Louisville, KY</td>\n",
       "      <td>American Double / Imperial IPA</td>\n",
       "      <td>16 oz.</td>\n",
       "      <td>8.0</td>\n",
       "      <td>68.0</td>\n",
       "      <td>KY</td>\n",
       "    </tr>\n",
       "    <tr>\n",
       "      <th>7</th>\n",
       "      <td>London Balling</td>\n",
       "      <td>Against the Grain Brewery</td>\n",
       "      <td>Louisville, KY</td>\n",
       "      <td>English Barleywine</td>\n",
       "      <td>16 oz.</td>\n",
       "      <td>12.5</td>\n",
       "      <td>80.0</td>\n",
       "      <td>KY</td>\n",
       "    </tr>\n",
       "    <tr>\n",
       "      <th>14</th>\n",
       "      <td>Rico Sauvin</td>\n",
       "      <td>Against the Grain Brewery</td>\n",
       "      <td>Louisville, KY</td>\n",
       "      <td>American Double / Imperial IPA</td>\n",
       "      <td>16 oz.</td>\n",
       "      <td>7.6</td>\n",
       "      <td>68.0</td>\n",
       "      <td>KY</td>\n",
       "    </tr>\n",
       "    <tr>\n",
       "      <th>17</th>\n",
       "      <td>Pile of Face</td>\n",
       "      <td>Against the Grain Brewery</td>\n",
       "      <td>Louisville, KY</td>\n",
       "      <td>American IPA</td>\n",
       "      <td>16 oz.</td>\n",
       "      <td>6.0</td>\n",
       "      <td>65.0</td>\n",
       "      <td>KY</td>\n",
       "    </tr>\n",
       "    <tr>\n",
       "      <th>21</th>\n",
       "      <td>Excess IPL</td>\n",
       "      <td>Jack's Abby Craft Lagers</td>\n",
       "      <td>Framingham, MA</td>\n",
       "      <td>American India Pale Lager</td>\n",
       "      <td>16 oz.</td>\n",
       "      <td>7.2</td>\n",
       "      <td>80.0</td>\n",
       "      <td>MA</td>\n",
       "    </tr>\n",
       "    <tr>\n",
       "      <th>...</th>\n",
       "      <td>...</td>\n",
       "      <td>...</td>\n",
       "      <td>...</td>\n",
       "      <td>...</td>\n",
       "      <td>...</td>\n",
       "      <td>...</td>\n",
       "      <td>...</td>\n",
       "      <td>...</td>\n",
       "    </tr>\n",
       "    <tr>\n",
       "      <th>2408</th>\n",
       "      <td>Brew Free! or Die IPA</td>\n",
       "      <td>21st Amendment Brewery</td>\n",
       "      <td>San Francisco, CA</td>\n",
       "      <td>American IPA</td>\n",
       "      <td>12 oz.</td>\n",
       "      <td>7.0</td>\n",
       "      <td>65.0</td>\n",
       "      <td>CA</td>\n",
       "    </tr>\n",
       "    <tr>\n",
       "      <th>2410</th>\n",
       "      <td>Ten Fidy Imperial Stout</td>\n",
       "      <td>Oskar Blues Brewery</td>\n",
       "      <td>Longmont, CO</td>\n",
       "      <td>Russian Imperial Stout</td>\n",
       "      <td>12 oz.</td>\n",
       "      <td>9.9</td>\n",
       "      <td>98.0</td>\n",
       "      <td>CO</td>\n",
       "    </tr>\n",
       "    <tr>\n",
       "      <th>2412</th>\n",
       "      <td>GUBNA Imperial IPA</td>\n",
       "      <td>Oskar Blues Brewery</td>\n",
       "      <td>Longmont, CO</td>\n",
       "      <td>American Double / Imperial IPA</td>\n",
       "      <td>12 oz.</td>\n",
       "      <td>9.9</td>\n",
       "      <td>100.0</td>\n",
       "      <td>CO</td>\n",
       "    </tr>\n",
       "    <tr>\n",
       "      <th>2414</th>\n",
       "      <td>Gordon Ale (2009)</td>\n",
       "      <td>Oskar Blues Brewery</td>\n",
       "      <td>Longmont, CO</td>\n",
       "      <td>American Double / Imperial IPA</td>\n",
       "      <td>12 oz.</td>\n",
       "      <td>8.7</td>\n",
       "      <td>85.0</td>\n",
       "      <td>CO</td>\n",
       "    </tr>\n",
       "    <tr>\n",
       "      <th>2415</th>\n",
       "      <td>Dale's Pale Ale</td>\n",
       "      <td>Oskar Blues Brewery</td>\n",
       "      <td>Longmont, CO</td>\n",
       "      <td>American Pale Ale (APA)</td>\n",
       "      <td>12 oz.</td>\n",
       "      <td>6.5</td>\n",
       "      <td>65.0</td>\n",
       "      <td>CO</td>\n",
       "    </tr>\n",
       "  </tbody>\n",
       "</table>\n",
       "<p>346 rows × 8 columns</p>\n",
       "</div>"
      ],
      "text/plain": [
       "                         Beer                    Brewery           Location  \\\n",
       "6              Citra Ass Down  Against the Grain Brewery     Louisville, KY   \n",
       "7              London Balling  Against the Grain Brewery     Louisville, KY   \n",
       "14                Rico Sauvin  Against the Grain Brewery     Louisville, KY   \n",
       "17               Pile of Face  Against the Grain Brewery     Louisville, KY   \n",
       "21                 Excess IPL   Jack's Abby Craft Lagers     Framingham, MA   \n",
       "...                       ...                        ...                ...   \n",
       "2408    Brew Free! or Die IPA     21st Amendment Brewery  San Francisco, CA   \n",
       "2410  Ten Fidy Imperial Stout        Oskar Blues Brewery       Longmont, CO   \n",
       "2412       GUBNA Imperial IPA        Oskar Blues Brewery       Longmont, CO   \n",
       "2414        Gordon Ale (2009)        Oskar Blues Brewery       Longmont, CO   \n",
       "2415          Dale's Pale Ale        Oskar Blues Brewery       Longmont, CO   \n",
       "\n",
       "                               Style    Size   ABV   IBUs state  \n",
       "6     American Double / Imperial IPA  16 oz.   8.0   68.0    KY  \n",
       "7                 English Barleywine  16 oz.  12.5   80.0    KY  \n",
       "14    American Double / Imperial IPA  16 oz.   7.6   68.0    KY  \n",
       "17                      American IPA  16 oz.   6.0   65.0    KY  \n",
       "21         American India Pale Lager  16 oz.   7.2   80.0    MA  \n",
       "...                              ...     ...   ...    ...   ...  \n",
       "2408                    American IPA  12 oz.   7.0   65.0    CA  \n",
       "2410          Russian Imperial Stout  12 oz.   9.9   98.0    CO  \n",
       "2412  American Double / Imperial IPA  12 oz.   9.9  100.0    CO  \n",
       "2414  American Double / Imperial IPA  12 oz.   8.7   85.0    CO  \n",
       "2415         American Pale Ale (APA)  12 oz.   6.5   65.0    CO  \n",
       "\n",
       "[346 rows x 8 columns]"
      ]
     },
     "execution_count": 38,
     "metadata": {},
     "output_type": "execute_result"
    }
   ],
   "source": [
    "#all the beers with IBUs above the 75th percentile\n",
    "#filter\n",
    "high_ibu= df[df.IBUs>df.IBUs.quantile(0.75)]\n",
    "high_ibu"
   ]
  },
  {
   "cell_type": "code",
   "execution_count": 39,
   "metadata": {},
   "outputs": [
    {
     "data": {
      "text/plain": [
       "['Citra Ass Down',\n",
       " 'London Balling',\n",
       " 'Rico Sauvin',\n",
       " 'Pile of Face',\n",
       " 'Excess IPL',\n",
       " 'Hoponius Union',\n",
       " 'Habitus (2014)',\n",
       " 'Solis',\n",
       " 'Habitus',\n",
       " 'Yeti Imperial Stout',\n",
       " \"98 Problems (Cuz A Hop Ain't One)\",\n",
       " 'Train Hopper',\n",
       " 'Csar',\n",
       " 'Saucy Intruder',\n",
       " 'The Gadget',\n",
       " 'Gone A-Rye',\n",
       " 'Heavy Lifting',\n",
       " 'Jah Mon',\n",
       " 'Flying Mouse 4',\n",
       " 'Citra Ass Down',\n",
       " 'Soul Doubt',\n",
       " 'Bimini Twist',\n",
       " 'Long Leaf',\n",
       " 'Double Duckpin',\n",
       " 'Hop A-Peel',\n",
       " 'Wobble',\n",
       " 'Hopkick Dropkick',\n",
       " 'Union Jack',\n",
       " 'India Pale Ale',\n",
       " 'Self Starter',\n",
       " 'Nugget Nectar',\n",
       " 'Mission IPA',\n",
       " 'Bay of Bengal Double IPA (2014)',\n",
       " 'Newport Storm IPA',\n",
       " 'Clean Shave IPA',\n",
       " 'Big Star White IPA',\n",
       " 'Firestarter India Pale Ale',\n",
       " 'Back Bay IPA',\n",
       " '4000 Footer IPA',\n",
       " 'Unchained #18 Hop Silo',\n",
       " 'Harness the Winter',\n",
       " 'Rule G IPA',\n",
       " 'Yellow Wolf Imperial IPA',\n",
       " 'Third Eye Enlightened Pale Ale',\n",
       " 'The Green Room',\n",
       " '2014 IPA Cicada Series',\n",
       " 'Sinister Minister Black IPA',\n",
       " 'O’Malley’s IPA',\n",
       " 'Perpetual Darkness',\n",
       " 'Watershed IPA',\n",
       " 'Hoodoo Voodoo IPA',\n",
       " 'Hopportunity Knocks IPA',\n",
       " 'Mothman Black IPA',\n",
       " 'Homefront IPA',\n",
       " 'The Power of Zeus',\n",
       " 'Salamander Slam',\n",
       " 'Torpedo',\n",
       " 'Ranger IPA',\n",
       " 'Dark Voyage Black IPA (2013)',\n",
       " 'Scarecrow',\n",
       " \"Lil' Helper\",\n",
       " 'Hopworks IPA',\n",
       " 'Worthy IPA',\n",
       " 'Abominable Winter Ale',\n",
       " 'Tsunami IPA',\n",
       " 'Tsunami IPA',\n",
       " 'Mound Builder IPA',\n",
       " 'Dream Crusher Double IPA',\n",
       " 'City of the Sun',\n",
       " '3:33 Black IPA',\n",
       " 'Booming Rollers',\n",
       " 'Aurora',\n",
       " 'More Cowbell',\n",
       " 'Brutus',\n",
       " '1916 Shore Shiver',\n",
       " 'Arcus IPA',\n",
       " 'Epitome',\n",
       " 'Hop Stalker Fresh Hop IPA',\n",
       " '8 Barrel',\n",
       " 'Dead-Eye DIPA',\n",
       " 'Count Hopula (Vault Series)',\n",
       " 'Dankosaurus',\n",
       " 'Might As Well IPL',\n",
       " \"Captain's Daughter\",\n",
       " 'Infamous IPA',\n",
       " 'Tropicalia',\n",
       " 'Vertex IPA',\n",
       " 'Operation Homefront',\n",
       " 'Wandering Pelican',\n",
       " 'Giant DIPA',\n",
       " 'Fistful Of Hops Red',\n",
       " 'Fistful of Hops Orange',\n",
       " 'Fistful Of Hops Blue',\n",
       " 'Fistful of Hops Green',\n",
       " 'Sky-Five',\n",
       " '077XX',\n",
       " 'Almanac IPA',\n",
       " 'Missile IPA',\n",
       " 'Second Fiddle',\n",
       " 'Let It Ride IPA',\n",
       " 'Bent Hop Golden IPA',\n",
       " 'Groupe G',\n",
       " 'Hill 88 Double IPA',\n",
       " 'Hoperation Overload',\n",
       " 'Hop Freak',\n",
       " 'El Chingon IPA',\n",
       " 'Saint Archer IPA',\n",
       " 'BLAKKR',\n",
       " 'Supergoose IPA',\n",
       " 'IPA & a Half',\n",
       " 'Truth',\n",
       " 'American India Red Ale',\n",
       " 'Squatters Hop Rising Double IPA',\n",
       " 'Quarter Mile Double IPA',\n",
       " 'Hoptopus Double IPA',\n",
       " \"Filthy Hoppin' IPA\",\n",
       " '2020 IPA',\n",
       " 'Golden Ratio IPA',\n",
       " 'Hemlock Double IPA',\n",
       " 'Mississippi Fire Ant',\n",
       " 'BLAKKR',\n",
       " 'Red Cockaded Ale',\n",
       " 'Hop Nosh IPA',\n",
       " 'Big Sky IPA',\n",
       " 'Wolf Among Weeds IPA',\n",
       " 'Be Hoppy IPA',\n",
       " 'Hi-Res',\n",
       " 'Irregardless IPA',\n",
       " 'Squatters Hop Rising Double IPA (2014)',\n",
       " 'The Great Return',\n",
       " 'Troopers Alley IPA',\n",
       " 'Madra Allta',\n",
       " 'Chaotic Double IPA',\n",
       " 'Manzanita IPA',\n",
       " 'King Street IPA',\n",
       " 'Sobek & Set',\n",
       " 'Evo IPA',\n",
       " 'Lucky Day IPA',\n",
       " 'Terrace Hill Double IPA',\n",
       " 'Catch 23',\n",
       " 'Better Weather IPA',\n",
       " \"Hop Drop 'N Roll IPA\",\n",
       " 'Hop Slayer Double IPA',\n",
       " 'Half Cycle IPA',\n",
       " 'Initial Point India Pale Ale',\n",
       " 'Global Warmer',\n",
       " 'Good Vibes IPA',\n",
       " 'Dagger Falls IPA',\n",
       " 'Dagger Falls IPA',\n",
       " 'Autumnation (2013)',\n",
       " '12th Round',\n",
       " 'RoughTail IPA',\n",
       " 'Centennial IPA',\n",
       " 'Double Trunk',\n",
       " 'Batch 69 IPA',\n",
       " 'Farmer Wirtz India Pale Ale',\n",
       " 'Proxima IPA',\n",
       " 'Monkey Fist IPA',\n",
       " \"G'KNIGHT\",\n",
       " 'Ten Fidy',\n",
       " 'Modus Hoperandi',\n",
       " 'Worthy IPA (2013)',\n",
       " 'Perpetual IPA',\n",
       " 'Country Boy IPA',\n",
       " 'Valkyrie Double IPA',\n",
       " 'Blazing World',\n",
       " 'Pilzilla',\n",
       " 'Falling Down Brown Ale',\n",
       " 'Shipwrecked Double IPA',\n",
       " 'Moirai India Pale Ale',\n",
       " 'Overlord Imperial IPA',\n",
       " \"Dale's Pale Ale\",\n",
       " 'F5 IPA',\n",
       " 'Wood Chipper India Pale Ale',\n",
       " 'Grapefruit Jungle (GFJ)',\n",
       " 'Larry Imperial IPA',\n",
       " \"Mind's Eye PA\",\n",
       " 'Big Eye India Pale Ale',\n",
       " 'Heal the Bay IPA',\n",
       " 'Laughing Dog IPA',\n",
       " 'Cascadian Dark Ale',\n",
       " 'Sanitas Black IPA',\n",
       " 'Elephant Rock IPA',\n",
       " 'Crank Yanker IPA',\n",
       " 'Bourbon Barrel Aged Timmie',\n",
       " 'Alphadelic IPA',\n",
       " 'Habitus IPA',\n",
       " \"Dreamin' Double IPA\",\n",
       " \"Deviant Dale's IPA\",\n",
       " \"Hop Ottin' IPA\",\n",
       " 'Upslope Imperial India Pale Ale',\n",
       " 'Face Plant IPA',\n",
       " 'Bozone HopZone IPA',\n",
       " 'Nice Rack IPA',\n",
       " 'Old Grogham Imperial India Pale Ale',\n",
       " '5 Day IPA',\n",
       " 'Forest Fire Imperial Smoked Rye',\n",
       " 'Bad Axe Imperial IPA',\n",
       " \"Dale's Pale Ale\",\n",
       " 'Duluchan India Pale Ale',\n",
       " 'Dodgy Knight Imperial IPA',\n",
       " 'Indian Paintbrush IPA',\n",
       " 'Mutiny IPA',\n",
       " 'Redacted Rye IPA',\n",
       " 'Evolutionary IPA (2012)',\n",
       " \"Dale's Pale Ale\",\n",
       " \"Old Devil's Tooth\",\n",
       " 'Nebraska India Pale Ale',\n",
       " 'Humidor Series India Pale Ale',\n",
       " 'Jai Alai IPA Aged on White Oak',\n",
       " 'José Martí American Porter',\n",
       " 'Psychopathy',\n",
       " 'Overrated! West Coast Style IPA',\n",
       " 'Heady Topper',\n",
       " 'Descender IPA',\n",
       " 'Hop Notch IPA (2013)',\n",
       " 'Hop Shock IPA',\n",
       " 'Disconnected Red',\n",
       " \"Dale's Pale Ale\",\n",
       " 'Outlaw IPA',\n",
       " 'Lower De Boom',\n",
       " '3Beans',\n",
       " 'Sculpin IPA',\n",
       " 'Ethos IPA',\n",
       " 'Red Cockaded Ale (2013)',\n",
       " 'Elevation Triple India Pale Ale',\n",
       " 'Watershed IPA (2013)',\n",
       " 'Winterfest',\n",
       " 'Bitter Bitch Imperial IPA',\n",
       " 'Rude Parrot IPA',\n",
       " 'Des Moines IPA',\n",
       " 'Black IPA',\n",
       " 'Topcutter India Pale Ale',\n",
       " \"Dale's Pale Ale\",\n",
       " 'Twister Creek India Pale Ale',\n",
       " 'Deep Ellum IPA',\n",
       " 'Fascist Pig Ale',\n",
       " \"Frankenlou's IPA\",\n",
       " 'Abominable Winter Ale (2012)',\n",
       " 'Oasis',\n",
       " 'Ex Umbris Rye Imperial Stout',\n",
       " 'Odyssey Imperial IPA',\n",
       " \"Dale's Pale Ale (10 Year Anniversary)\",\n",
       " 'Hop Abomination',\n",
       " 'Dagger Falls IPA',\n",
       " 'Cane and Ebel',\n",
       " 'Interurban IPA',\n",
       " 'PRO-AM (2012) (2012)',\n",
       " 'On the Wings of Armageddon',\n",
       " \"Dale's Pale Ale (2012)\",\n",
       " 'Gordon Imperial Red (2010)',\n",
       " 'Gordon (2005)',\n",
       " 'Ten Fidy Imperial Stout (2008)',\n",
       " 'Ten Fidy Imperial Stout (2007)',\n",
       " '21st Amendment IPA (2006)',\n",
       " 'Brew Free! or Die IPA (2008)',\n",
       " 'Brew Free! or Die IPA (2009)',\n",
       " 'Caldera IPA (2009)',\n",
       " 'Caldera IPA (2007)',\n",
       " 'Ace IPA',\n",
       " 'Double Haul IPA (2009)',\n",
       " 'Double Haul IPA (2006)',\n",
       " \"Dale's Pale Ale (2011)\",\n",
       " \"Dale's Pale Ale (2010)\",\n",
       " 'Burning Bush Smoked IPA',\n",
       " 'Wolf Among Weeds IPA (2012)',\n",
       " 'Old Grogham Imperial India Pale Ale (2012)',\n",
       " \"Dale's Pale Ale (2008)\",\n",
       " \"Dale's Pale Ale (2006)\",\n",
       " \"Dale's Pale Ale (2004)\",\n",
       " \"Dale's Pale Ale (2003)\",\n",
       " \"Dale's Pale Ale (2002)\",\n",
       " 'Hop Slayer Double IPA (2011)',\n",
       " 'California Sunshine Rye IPA',\n",
       " 'Midnight Ryder',\n",
       " \"G'KNIGHT (16 oz.)\",\n",
       " 'Over the Rail Pale Ale',\n",
       " 'Hop A Potamus Double Dark Rye Pale Ale',\n",
       " 'Rodeo Clown Double IPA',\n",
       " 'Elevated IPA',\n",
       " 'Hopworks IPA (2012)',\n",
       " 'Isis',\n",
       " 'Hoppy Boy',\n",
       " 'Monkeynaut IPA',\n",
       " 'Ryeteous Rye IPA (2012)',\n",
       " 'Firestarter India Pale Ale',\n",
       " 'Resin',\n",
       " 'Independence Pass Ale',\n",
       " 'HGH (Home Grown Hops): Part Duh',\n",
       " 'Big Sky IPA (2012)',\n",
       " 'Westbrook IPA',\n",
       " 'Tocobaga Red Ale',\n",
       " 'Ranger IPA',\n",
       " 'Eclipse Black IPA',\n",
       " 'Jai Alai IPA',\n",
       " 'Old Elephant Foot IPA',\n",
       " 'Big Cock IPA',\n",
       " 'Grapefruit Jungle (GFJ) (2011)',\n",
       " 'Diesel',\n",
       " 'Evolutionary IPA (2011)',\n",
       " 'Alphadelic IPA (2011)',\n",
       " 'Missouri Mule India Pale Ale',\n",
       " 'Hop Box Imperial IPA',\n",
       " 'Hopadillo India Pale Ale',\n",
       " \"Bourbon's Barrel Stout\",\n",
       " 'Great Crescent Stout',\n",
       " \"Flyin' HI.P.Hay\",\n",
       " 'Sockeye Red IPA',\n",
       " 'Hop Crisis',\n",
       " 'Hop Slayer Double IPA (2011)',\n",
       " 'Shiva IPA',\n",
       " 'Torpedo',\n",
       " 'Anti-Hero IPA',\n",
       " 'Crank Yanker IPA (2011)',\n",
       " \"G'KNIGHT (12 oz.)\",\n",
       " 'Black Adder IBA (Current)',\n",
       " 'Upstate I.P.W.',\n",
       " 'Heady Topper',\n",
       " \"Hop Ottin' IPA (2011)\",\n",
       " 'WET',\n",
       " 'Gandhi-Bot Double IPA ',\n",
       " 'Vortex IPA',\n",
       " 'Hop Shock IPA (2010)',\n",
       " 'Snake Handler Double IPA',\n",
       " 'Lucky U IPA',\n",
       " 'The Corruption',\n",
       " 'Stowaway IPA',\n",
       " 'Back in Black',\n",
       " 'Ranger IPA (Current)',\n",
       " 'Avery India Pale Ale',\n",
       " 'Oasis (2010)',\n",
       " 'Third Eye Pale Ale',\n",
       " 'Double Haul IPA',\n",
       " 'Modus Hoperandi',\n",
       " 'Ballz Deep Double IPA',\n",
       " 'Gandhi-Bot Double IPA ',\n",
       " 'Caldera IPA',\n",
       " 'Big Swell IPA',\n",
       " '113 IPA',\n",
       " 'Abrasive Ale',\n",
       " 'Furious',\n",
       " 'Brew Free! or Die IPA',\n",
       " 'Ten Fidy Imperial Stout',\n",
       " 'GUBNA Imperial IPA',\n",
       " 'Gordon Ale (2009)',\n",
       " \"Dale's Pale Ale\"]"
      ]
     },
     "execution_count": 39,
     "metadata": {},
     "output_type": "execute_result"
    }
   ],
   "source": [
    "#show all the names of high IBU beer\n",
    "high_ibu.Beer.to_list()"
   ]
  },
  {
   "cell_type": "markdown",
   "metadata": {},
   "source": [
    "## List all of the beers with IBUs below the 25th percentile"
   ]
  },
  {
   "cell_type": "code",
   "execution_count": 40,
   "metadata": {},
   "outputs": [
    {
     "data": {
      "text/html": [
       "<div>\n",
       "<style scoped>\n",
       "    .dataframe tbody tr th:only-of-type {\n",
       "        vertical-align: middle;\n",
       "    }\n",
       "\n",
       "    .dataframe tbody tr th {\n",
       "        vertical-align: top;\n",
       "    }\n",
       "\n",
       "    .dataframe thead th {\n",
       "        text-align: right;\n",
       "    }\n",
       "</style>\n",
       "<table border=\"1\" class=\"dataframe\">\n",
       "  <thead>\n",
       "    <tr style=\"text-align: right;\">\n",
       "      <th></th>\n",
       "      <th>Beer</th>\n",
       "      <th>Brewery</th>\n",
       "      <th>Location</th>\n",
       "      <th>Style</th>\n",
       "      <th>Size</th>\n",
       "      <th>ABV</th>\n",
       "      <th>IBUs</th>\n",
       "      <th>state</th>\n",
       "    </tr>\n",
       "  </thead>\n",
       "  <tbody>\n",
       "    <tr>\n",
       "      <th>2</th>\n",
       "      <td>Wall's End</td>\n",
       "      <td>NorthGate Brewing</td>\n",
       "      <td>Minneapolis, MN</td>\n",
       "      <td>English Brown Ale</td>\n",
       "      <td>16 oz.</td>\n",
       "      <td>4.8</td>\n",
       "      <td>19.0</td>\n",
       "      <td>MN</td>\n",
       "    </tr>\n",
       "    <tr>\n",
       "      <th>12</th>\n",
       "      <td>Sho'nuff</td>\n",
       "      <td>Against the Grain Brewery</td>\n",
       "      <td>Louisville, KY</td>\n",
       "      <td>Belgian Pale Ale</td>\n",
       "      <td>16 oz.</td>\n",
       "      <td>4.0</td>\n",
       "      <td>13.0</td>\n",
       "      <td>KY</td>\n",
       "    </tr>\n",
       "    <tr>\n",
       "      <th>13</th>\n",
       "      <td>Bloody Show</td>\n",
       "      <td>Against the Grain Brewery</td>\n",
       "      <td>Louisville, KY</td>\n",
       "      <td>American Pilsner</td>\n",
       "      <td>16 oz.</td>\n",
       "      <td>5.5</td>\n",
       "      <td>17.0</td>\n",
       "      <td>KY</td>\n",
       "    </tr>\n",
       "    <tr>\n",
       "      <th>18</th>\n",
       "      <td>The Brown Note</td>\n",
       "      <td>Against the Grain Brewery</td>\n",
       "      <td>Louisville, KY</td>\n",
       "      <td>English Brown Ale</td>\n",
       "      <td>16 oz.</td>\n",
       "      <td>5.0</td>\n",
       "      <td>20.0</td>\n",
       "      <td>KY</td>\n",
       "    </tr>\n",
       "    <tr>\n",
       "      <th>19</th>\n",
       "      <td>House Lager</td>\n",
       "      <td>Jack's Abby Craft Lagers</td>\n",
       "      <td>Framingham, MA</td>\n",
       "      <td>Keller Bier / Zwickel Bier</td>\n",
       "      <td>16 oz.</td>\n",
       "      <td>5.2</td>\n",
       "      <td>18.0</td>\n",
       "      <td>MA</td>\n",
       "    </tr>\n",
       "    <tr>\n",
       "      <th>...</th>\n",
       "      <td>...</td>\n",
       "      <td>...</td>\n",
       "      <td>...</td>\n",
       "      <td>...</td>\n",
       "      <td>...</td>\n",
       "      <td>...</td>\n",
       "      <td>...</td>\n",
       "      <td>...</td>\n",
       "    </tr>\n",
       "    <tr>\n",
       "      <th>2372</th>\n",
       "      <td>Bombshell Blonde</td>\n",
       "      <td>Southern Star Brewing Company</td>\n",
       "      <td>Conroe, TX</td>\n",
       "      <td>American Blonde Ale</td>\n",
       "      <td>12 oz.</td>\n",
       "      <td>5.0</td>\n",
       "      <td>20.0</td>\n",
       "      <td>TX</td>\n",
       "    </tr>\n",
       "    <tr>\n",
       "      <th>2385</th>\n",
       "      <td>Bikini Blonde Lager</td>\n",
       "      <td>Maui Brewing Company</td>\n",
       "      <td>Lahaina, HI</td>\n",
       "      <td>Munich Helles Lager</td>\n",
       "      <td>12 oz.</td>\n",
       "      <td>4.5</td>\n",
       "      <td>18.0</td>\n",
       "      <td>HI</td>\n",
       "    </tr>\n",
       "    <tr>\n",
       "      <th>2396</th>\n",
       "      <td>Royal Weisse Ale</td>\n",
       "      <td>Sly Fox Brewing Company</td>\n",
       "      <td>Pottstown, PA</td>\n",
       "      <td>Hefeweizen</td>\n",
       "      <td>12 oz.</td>\n",
       "      <td>5.6</td>\n",
       "      <td>11.0</td>\n",
       "      <td>PA</td>\n",
       "    </tr>\n",
       "    <tr>\n",
       "      <th>2404</th>\n",
       "      <td>Hell</td>\n",
       "      <td>Surly Brewing Company</td>\n",
       "      <td>Brooklyn Center, MN</td>\n",
       "      <td>Keller Bier / Zwickel Bier</td>\n",
       "      <td>16 oz.</td>\n",
       "      <td>5.1</td>\n",
       "      <td>20.0</td>\n",
       "      <td>MN</td>\n",
       "    </tr>\n",
       "    <tr>\n",
       "      <th>2409</th>\n",
       "      <td>Hell or High Watermelon Wheat</td>\n",
       "      <td>21st Amendment Brewery</td>\n",
       "      <td>San Francisco, CA</td>\n",
       "      <td>Fruit / Vegetable Beer</td>\n",
       "      <td>12 oz.</td>\n",
       "      <td>4.9</td>\n",
       "      <td>17.0</td>\n",
       "      <td>CA</td>\n",
       "    </tr>\n",
       "  </tbody>\n",
       "</table>\n",
       "<p>338 rows × 8 columns</p>\n",
       "</div>"
      ],
      "text/plain": [
       "                               Beer                        Brewery  \\\n",
       "2                        Wall's End              NorthGate Brewing   \n",
       "12                         Sho'nuff      Against the Grain Brewery   \n",
       "13                      Bloody Show      Against the Grain Brewery   \n",
       "18                   The Brown Note      Against the Grain Brewery   \n",
       "19                      House Lager       Jack's Abby Craft Lagers   \n",
       "...                             ...                            ...   \n",
       "2372               Bombshell Blonde  Southern Star Brewing Company   \n",
       "2385            Bikini Blonde Lager           Maui Brewing Company   \n",
       "2396               Royal Weisse Ale        Sly Fox Brewing Company   \n",
       "2404                           Hell          Surly Brewing Company   \n",
       "2409  Hell or High Watermelon Wheat         21st Amendment Brewery   \n",
       "\n",
       "                 Location                       Style    Size  ABV  IBUs state  \n",
       "2         Minneapolis, MN           English Brown Ale  16 oz.  4.8  19.0    MN  \n",
       "12         Louisville, KY            Belgian Pale Ale  16 oz.  4.0  13.0    KY  \n",
       "13         Louisville, KY            American Pilsner  16 oz.  5.5  17.0    KY  \n",
       "18         Louisville, KY           English Brown Ale  16 oz.  5.0  20.0    KY  \n",
       "19         Framingham, MA  Keller Bier / Zwickel Bier  16 oz.  5.2  18.0    MA  \n",
       "...                   ...                         ...     ...  ...   ...   ...  \n",
       "2372           Conroe, TX         American Blonde Ale  12 oz.  5.0  20.0    TX  \n",
       "2385          Lahaina, HI         Munich Helles Lager  12 oz.  4.5  18.0    HI  \n",
       "2396        Pottstown, PA                  Hefeweizen  12 oz.  5.6  11.0    PA  \n",
       "2404  Brooklyn Center, MN  Keller Bier / Zwickel Bier  16 oz.  5.1  20.0    MN  \n",
       "2409    San Francisco, CA      Fruit / Vegetable Beer  12 oz.  4.9  17.0    CA  \n",
       "\n",
       "[338 rows x 8 columns]"
      ]
     },
     "execution_count": 40,
     "metadata": {},
     "output_type": "execute_result"
    }
   ],
   "source": [
    "#all the beers with IBUs above the 75th percentile\n",
    "filter\n",
    "low_ibu = df[df.IBUs<df.IBUs.quantile(0.25)]\n",
    "low_ibu"
   ]
  },
  {
   "cell_type": "code",
   "execution_count": 41,
   "metadata": {},
   "outputs": [
    {
     "data": {
      "text/plain": [
       "[\"Wall's End\",\n",
       " \"Sho'nuff\",\n",
       " 'Bloody Show',\n",
       " 'The Brown Note',\n",
       " 'House Lager',\n",
       " 'Leisure Time',\n",
       " 'Park',\n",
       " 'Westfalia',\n",
       " 'KSA',\n",
       " 'Sparkle',\n",
       " 'Hotbox Brown',\n",
       " 'Gold',\n",
       " 'Cafe Leche',\n",
       " 'Damascene Apricot Sour',\n",
       " 'Sex Panther',\n",
       " 'Vanilla Porter',\n",
       " 'Gose',\n",
       " 'Vermont Pilsner',\n",
       " 'Ginger Peach Saison',\n",
       " 'Weissenheimer',\n",
       " 'Passion Fruit Prussia',\n",
       " 'Send Help',\n",
       " 'The Brown Note',\n",
       " 'Daft Funk',\n",
       " 'Bat Outta Helles',\n",
       " 'Rye Wit',\n",
       " 'Yo Soy Un Berliner',\n",
       " \"Farmer's Daughter Blonde\",\n",
       " 'Honey Rye',\n",
       " 'Honey Badger Blonde',\n",
       " 'Old Pro',\n",
       " 'Vanilla Java Porter',\n",
       " 'Saddle Bronc Brown Ale',\n",
       " 'Bomber Mountain Amber Ale',\n",
       " 'Jammer',\n",
       " 'Blackberry Wheat',\n",
       " 'Rhode Island Blueberry',\n",
       " 'Watermelon Ale',\n",
       " 'Watermelon Ale',\n",
       " 'Bunker Hill Blueberry Ale',\n",
       " 'Deception',\n",
       " 'P-Town Pilsner',\n",
       " 'Nonstop Hef Hop',\n",
       " 'Nonstop Hef Hop',\n",
       " 'Nonstop Hef Hop',\n",
       " 'Nonstop Hef Hop',\n",
       " 'Nonstop Hef Hop',\n",
       " 'Nonstop Hef Hop',\n",
       " 'Nonstop Hef Hop',\n",
       " 'Nonstop Hef Hop',\n",
       " 'Nonstop Hef Hop',\n",
       " 'Nonstop Hef Hop',\n",
       " 'Nonstop Hef Hop',\n",
       " 'Nonstop Hef Hop',\n",
       " 'Laka Laka Pineapple',\n",
       " 'Blood Orange Honey',\n",
       " 'Mr. Blue Sky',\n",
       " 'Weisse Versa (2012)',\n",
       " '18th Anniversary Gose',\n",
       " 'Point Special (Current)',\n",
       " 'Point Special',\n",
       " 'Morning Wood Wheat (Current)',\n",
       " 'Hunny Do Wheat',\n",
       " 'Gansett Light',\n",
       " 'Shotgun Betty',\n",
       " 'Knotty Blonde Ale',\n",
       " \"PUNK'N\",\n",
       " 'Sunbru Kölsch',\n",
       " 'River House',\n",
       " 'Summer Brew',\n",
       " 'Suzy B Dirty Blonde Ale',\n",
       " 'Rad',\n",
       " 'Lobo Lito',\n",
       " 'American Lager',\n",
       " 'American Amber',\n",
       " 'American Light',\n",
       " 'Point Special',\n",
       " 'Lake House',\n",
       " \"Ermal's\",\n",
       " 'Honey Kolsch',\n",
       " 'Copperhead Amber',\n",
       " 'Twisted X',\n",
       " 'Sol Drifter',\n",
       " '312 Urban Wheat Ale',\n",
       " 'Couch Select Lager',\n",
       " 'Double D Blonde',\n",
       " 'Lost Meridian Wit',\n",
       " 'Joey Wheat',\n",
       " 'Onyx Black Ale',\n",
       " 'Robert Earl Keen Honey Pils',\n",
       " \"Summer's Wit\",\n",
       " 'Point Special (2013)',\n",
       " 'Point Special (2012)',\n",
       " 'Broken Bridge',\n",
       " 'Point Special Lager',\n",
       " 'What the Butler Saw',\n",
       " 'Laughing Dog Cream Ale',\n",
       " 'Aprè Shred',\n",
       " 'Blood Orange Wit',\n",
       " 'Hop Up Offa That Brett (2014)',\n",
       " 'Boathouse Blonde',\n",
       " 'Noche Dulce',\n",
       " 'Weize Guy',\n",
       " 'UFO Gingerland',\n",
       " 'Skylight',\n",
       " 'Pub Ale',\n",
       " \"Here Gose Nothin'\",\n",
       " 'Ale Cider',\n",
       " 'The Great Pumpcan',\n",
       " 'Cherry Ale',\n",
       " 'LuckenBock',\n",
       " 'FMB 101',\n",
       " 'Upland Wheat Ale',\n",
       " 'Monkey Chased the Weasel',\n",
       " 'SunSpot Golden Ale',\n",
       " 'Beach Blonde',\n",
       " 'Alaskan Amber',\n",
       " 'Lake House',\n",
       " 'Black Market Hefeweizen',\n",
       " 'Gutch English Style Mild Ale',\n",
       " 'Whitecap Wit',\n",
       " 'Seiche Scottish Ale',\n",
       " 'Local Buzz',\n",
       " 'Saint Archer White Ale',\n",
       " 'Porch Rocker',\n",
       " '312 Urban Wheat Ale',\n",
       " 'LIFT',\n",
       " '#9',\n",
       " 'The Tradition',\n",
       " 'Hot Date Ale',\n",
       " 'Hijack',\n",
       " 'Stone Fort Brown Ale',\n",
       " 'When Helles Freezes Over',\n",
       " 'Bronx Summer Pale Ale',\n",
       " 'A Slice of Hefen',\n",
       " '805',\n",
       " 'Wick For Brains',\n",
       " 'Schweet Ale',\n",
       " 'KelSo Nut Brown Lager',\n",
       " 'King Street Hefeweizen',\n",
       " 'Chai Ale',\n",
       " 'Banner American Rye',\n",
       " 'Pumpkin Beast',\n",
       " 'Chickawawa Lemonale',\n",
       " 'Sly Fox Christmas Ale 2013',\n",
       " 'Fat Tire Amber Ale',\n",
       " 'Four Peaks Peach Ale',\n",
       " 'Lahaina Town Brown',\n",
       " 'Sweet Yamma Jamma Ale',\n",
       " 'Starr Pils',\n",
       " 'Agave Wheat',\n",
       " 'Barney Flats Oatmeal Stout',\n",
       " 'Shark Bait',\n",
       " 'Golden Road Hefeweizen',\n",
       " 'Summer Paradise',\n",
       " 'Oval Beach Blonde Ale',\n",
       " 'Wolverine Premium Lager',\n",
       " 'Hideout Helles',\n",
       " 'Dead Eye Dunkel',\n",
       " 'Parcae Belgian Style Pale Ale',\n",
       " 'Norns Roggenbier',\n",
       " 'Laimas Kölsch Style Ale',\n",
       " \"Stone's Throw IPA\",\n",
       " 'Weiss Trash Culture',\n",
       " 'Kölsch 151',\n",
       " 'Tybee Island Blonde',\n",
       " 'Horny Monk',\n",
       " 'Two-One Niner',\n",
       " 'Old Forge Pumpkin Ale',\n",
       " 'Sanitas Saison Ale',\n",
       " 'Double D Blonde (2013)',\n",
       " 'Beaver Logger',\n",
       " 'Half Full Bright Ale',\n",
       " 'Point Oktoberfest',\n",
       " 'Schuylkill Punch',\n",
       " '541 American Lager',\n",
       " 'Summer Solstice',\n",
       " 'UFO Pumpkin',\n",
       " 'Float Trip Ale',\n",
       " 'Greenbelt Farmhouse Ale',\n",
       " 'Hardywood Cream Ale',\n",
       " 'Boont Amber Ale',\n",
       " 'Big Rod Coconut Ale',\n",
       " 'Wild Wolf Wee Heavy Scottish Style Ale',\n",
       " 'Steel Rail Extra Pale Ale',\n",
       " 'Westbrook Gose',\n",
       " 'Estival Cream Stout',\n",
       " 'Dog Days Lager',\n",
       " 'Samuel Adams Octoberfest',\n",
       " 'Longboard Island Lager',\n",
       " 'El Hefe Speaks',\n",
       " 'Dos Pistolas',\n",
       " 'Cotton Mouth',\n",
       " 'Wild Night',\n",
       " 'Love Street Summer Seasonal (2014)',\n",
       " 'Point Nude Beach Summer Wheat',\n",
       " 'Barney Flats Oatmeal Stout',\n",
       " 'Longboard Island Lager',\n",
       " \"SUM'R\",\n",
       " 'Twisted Helles Summer Lager',\n",
       " 'Bomber Mountain Amber Ale (2013)',\n",
       " 'Saddle Bronc Brown Ale (2013)',\n",
       " 'Wagon Box Wheat Beer',\n",
       " 'Wild Plum Farmhouse Ale',\n",
       " 'Peninsula Brewers Reserve (PBR)',\n",
       " 'Hazy Day Belgian-Style Wit',\n",
       " \"Mo's Gose\",\n",
       " 'Lumberyard Pilsner',\n",
       " 'Woolybugger Wheat',\n",
       " 'EOS Hefeweizen',\n",
       " 'Brunette Nut Brown Ale',\n",
       " 'Samuel Adams Summer Ale',\n",
       " 'Helles Golden Lager',\n",
       " 'Suzy B Dirty Blonde Ale',\n",
       " 'Elder Betty',\n",
       " 'Sweet As Pacific Ale',\n",
       " 'Epicenter Amber Ale',\n",
       " 'SanTan HefeWeizen',\n",
       " 'Longboard Island Lager',\n",
       " 'Barn Burner Saison',\n",
       " 'Vanilla Bean Buffalo Sweat',\n",
       " \"The Hole in Hadrian's Wall\",\n",
       " 'Honey Wheat',\n",
       " 'The Lawn Ranger',\n",
       " 'Country Pale Ale',\n",
       " 'Orange Wheat',\n",
       " 'Hangar 24 Helles Lager',\n",
       " 'Tallgrass Pub Ale',\n",
       " 'Get Up Offa That Brown',\n",
       " 'Booyah Farmhouse Ale',\n",
       " 'Sly Fox Christmas Ale 2012 (2012)',\n",
       " 'Northern Lights Amber Ale',\n",
       " 'Polar Pale Ale',\n",
       " 'Pumpkan',\n",
       " 'Wheat the People',\n",
       " 'Apricot Blonde',\n",
       " 'Lawnmower Lager',\n",
       " 'Dry Dock Hefeweizen',\n",
       " 'Widespread Wit',\n",
       " 'Bombshell Blonde',\n",
       " 'Sex Panther (2014)',\n",
       " 'Black Walnut Wheat',\n",
       " 'Point Nude Beach Summer Wheat',\n",
       " 'Boont Amber Ale (2010)',\n",
       " 'Hell or High Watermelon Wheat (2009)',\n",
       " 'Hell or High Watermelon Wheat (2009)',\n",
       " '21st Amendment Watermelon Wheat Beer (2006)',\n",
       " 'Choc Beer (2003)',\n",
       " 'Mr. Pineapple',\n",
       " 'Blueberry Blonde Ale',\n",
       " 'Point Nude Beach Summer Wheat (2011)',\n",
       " 'Buffalo Sweat',\n",
       " 'Cold Smoke Scotch Ale (2007)',\n",
       " 'Summer Solstice Cerveza Crema (2009)',\n",
       " 'Fat Tire Amber Ale (2011)',\n",
       " \"Hilliard's Blonde\",\n",
       " 'Devils Tramping Ground Tripel',\n",
       " 'Lava Lake Wit',\n",
       " 'Halcyon Unfiltered Wheat',\n",
       " 'Blue Point Summer Ale',\n",
       " 'Three Kings Ale',\n",
       " 'Full Boar Scotch Ale',\n",
       " 'Cherry Ale (1)',\n",
       " 'Apollo',\n",
       " 'Blacktop Blonde',\n",
       " 'Wachusett Blueberry Ale',\n",
       " 'UFO White',\n",
       " 'Rosa Hibiscus Ale',\n",
       " 'Longboard Island Lager',\n",
       " 'Schlafly Hefeweizen',\n",
       " 'Snowshoe White Ale',\n",
       " '312 Urban Wheat Ale (2012)',\n",
       " 'White Thai',\n",
       " 'Blackbeary Wheat',\n",
       " 'Barney Flats Oatmeal Stout (2012)',\n",
       " 'Fat Tire Amber Ale',\n",
       " 'Jon Boat Coastal Ale',\n",
       " 'Golden Road Hefeweizen (2012)',\n",
       " 'La Perouse White',\n",
       " 'Florida Cracker Belgian Wit',\n",
       " 'Dirty Blonde Ale',\n",
       " 'Tin Roof Blonde Ale',\n",
       " \"Atwater's Lager\",\n",
       " 'Winter Solstice',\n",
       " 'McKinney Eddy Amber Ale',\n",
       " 'SoDo Brown Ale',\n",
       " 'Purple Haze',\n",
       " 'Abita Amber',\n",
       " 'Double D Blonde (2011)',\n",
       " 'Great Crescent Belgian Style Wit',\n",
       " 'Joseph James American Lager',\n",
       " 'Top Rope Mexican-style Craft Lager',\n",
       " 'Weisse Versa',\n",
       " 'Dundee Summer Wheat Beer',\n",
       " 'Point Oktoberfest',\n",
       " 'Mustang Golden Ale',\n",
       " 'Washita Wheat',\n",
       " 'Bottom Up Belgian Wit',\n",
       " 'Halcyon Unfiltered Wheat',\n",
       " 'Snake River Lager',\n",
       " 'Black Star Double Hopped Golden Lager ',\n",
       " 'Pyramid Hefeweizen (2011)',\n",
       " 'Wild Onion Summer Wit',\n",
       " 'SummerBright Ale',\n",
       " 'Whitsun',\n",
       " 'Mexican Logger',\n",
       " 'Festie',\n",
       " 'Blacktop Blonde',\n",
       " '#9',\n",
       " 'Narragansett Fest Lager',\n",
       " 'Mana Wheat',\n",
       " 'SanTan HefeWeizen (2010)',\n",
       " 'Flaming Damsel Lager (2010)',\n",
       " 'Black Star Double Hopped Golden Lager ',\n",
       " 'Point Nude Beach Summer Wheat (2010)',\n",
       " 'Point Amber Classic',\n",
       " 'Point Special Lager',\n",
       " 'Morning Wood Wheat (Current)',\n",
       " \"O'Fallon Wheach\",\n",
       " 'Epicenter Amber Ale (2010)',\n",
       " 'White Rascal',\n",
       " 'Ellie’s Brown Ale',\n",
       " 'Köld Lager (2010)',\n",
       " 'Buffalo Sweat (2010)',\n",
       " 'Colorado Kölsch',\n",
       " 'Cold Smoke Scotch Ale',\n",
       " 'Avalanche Ale',\n",
       " 'Haywire Hefeweizen (2010)',\n",
       " 'Boont Amber Ale (2011)',\n",
       " 'Summer Solstice (2011)',\n",
       " 'Fat Tire Amber Ale (2008)',\n",
       " 'Sunlight Cream Ale',\n",
       " 'Schlafly Summer Lager',\n",
       " 'Bombshell Blonde',\n",
       " 'Bikini Blonde Lager',\n",
       " 'Royal Weisse Ale',\n",
       " 'Hell',\n",
       " 'Hell or High Watermelon Wheat']"
      ]
     },
     "execution_count": 41,
     "metadata": {},
     "output_type": "execute_result"
    }
   ],
   "source": [
    "#show all the names of low IBU beer\n",
    "low_ibu.Beer.to_list()"
   ]
  },
  {
   "cell_type": "markdown",
   "metadata": {},
   "source": [
    "## List the median IBUs of each type of beer. Graph it.\n",
    "\n",
    "Put the highest at the top, and the missing ones at the bottom.\n",
    "\n",
    "- Tip: Look at the options for `sort_values` to figure out the `NaN` thing. The `?` probably won't help you here."
   ]
  },
  {
   "cell_type": "code",
   "execution_count": 42,
   "metadata": {},
   "outputs": [],
   "source": [
    "#group by 'Style' \n",
    "ibu_by_type = df.groupby('Style').median().IBUs.sort_values(ascending=False)"
   ]
  },
  {
   "cell_type": "code",
   "execution_count": 43,
   "metadata": {},
   "outputs": [],
   "source": [
    "#dropna\n",
    "ibu_by_type = ibu_by_type.dropna()"
   ]
  },
  {
   "cell_type": "code",
   "execution_count": 44,
   "metadata": {},
   "outputs": [
    {
     "data": {
      "image/png": "[encoded data removed]",
      "text/plain": [
       "<Figure size 360x1296 with 1 Axes>"
      ]
     },
     "metadata": {
      "needs_background": "light"
     },
     "output_type": "display_data"
    }
   ],
   "source": [
    "#graph\n",
    "ibu_by_type.sort_values().plot(kind=\"barh\", figsize=(5,18))\n",
    "plt.show()"
   ]
  },
  {
   "cell_type": "markdown",
   "metadata": {},
   "source": [
    "## Hmmmm, it looks like they are generally different styles. What are the most common 5 styles of high-IBU beer vs. low-IBU beer?\n",
    "\n",
    "- *Tip: You'll want to think about it in three pieces - filtering to only find the specific beers beers, then finding out what the most common styles are, then getting the top 5.*\n",
    "- *Tip: You CANNOT do this in one command. It's going to be one command for the high and one for the low.*\n",
    "- *Tip: \"High IBU\" means higher than 75th percentile, \"Low IBU\" is under 25th percentile*"
   ]
  },
  {
   "cell_type": "code",
   "execution_count": 45,
   "metadata": {},
   "outputs": [
    {
     "data": {
      "text/plain": [
       "American IPA                      195\n",
       "American Double / Imperial IPA     72\n",
       "American Pale Ale (APA)            18\n",
       "American Black Ale                 15\n",
       "American Strong Ale                 9\n",
       "Name: Style, dtype: int64"
      ]
     },
     "execution_count": 45,
     "metadata": {},
     "output_type": "execute_result"
    }
   ],
   "source": [
    "#the most common 5 styles of high-IBU beer\n",
    "high_ibu.Style.value_counts().head(5)"
   ]
  },
  {
   "cell_type": "code",
   "execution_count": 46,
   "metadata": {},
   "outputs": [
    {
     "data": {
      "text/plain": [
       "American Pale Wheat Ale    43\n",
       "American Blonde Ale        36\n",
       "Fruit / Vegetable Beer     28\n",
       "Hefeweizen                 21\n",
       "Witbier                    20\n",
       "Name: Style, dtype: int64"
      ]
     },
     "execution_count": 46,
     "metadata": {},
     "output_type": "execute_result"
    }
   ],
   "source": [
    "#the most common 5 styles of low-IBU beer\n",
    "low_ibu.Style.value_counts().head(5)"
   ]
  },
  {
   "cell_type": "markdown",
   "metadata": {},
   "source": [
    "## Get the average IBU of \"Witbier\", \"Hefeweizen\" and \"American Pale Wheat Ale\" styles\n",
    "\n",
    "I'm counting these as wheat beers. If you see any other wheat beer categories, feel free to include them. I want ONE measurement and ONE graph, not three separate ones. And 20 to 30 bins in the histogram, please.\n",
    "\n",
    "- *Tip: I hope that `isin` is in your toolbox*"
   ]
  },
  {
   "cell_type": "code",
   "execution_count": 47,
   "metadata": {},
   "outputs": [
    {
     "data": {
      "text/plain": [
       "array(['Wheat Ale', 'American Pale Wheat Ale', 'American Dark Wheat Ale'],\n",
       "      dtype=object)"
      ]
     },
     "execution_count": 47,
     "metadata": {},
     "output_type": "execute_result"
    }
   ],
   "source": [
    "#look up for wheaty styles\n",
    "df[df.Style.str.contains('Wheat', na=False, case=False)].Style.unique()"
   ]
  },
  {
   "cell_type": "code",
   "execution_count": 48,
   "metadata": {},
   "outputs": [],
   "source": [
    "#list of wheat beers\n",
    "wheaty_list = [\n",
    "    'Witbier', \n",
    "    'Hefeweizen',\n",
    "    'American Pale Wheat Ale',\n",
    "    'American Dark Wheat Ale',\n",
    "    'Wheat Ale',    \n",
    "]"
   ]
  },
  {
   "cell_type": "code",
   "execution_count": 49,
   "metadata": {},
   "outputs": [],
   "source": [
    "#filtered data\n",
    "wheat_beer = df[df.Style.isin(wheaty_list)]"
   ]
  },
  {
   "cell_type": "code",
   "execution_count": 50,
   "metadata": {},
   "outputs": [
    {
     "data": {
      "text/plain": [
       "19.389830508474578"
      ]
     },
     "execution_count": 50,
     "metadata": {},
     "output_type": "execute_result"
    }
   ],
   "source": [
    "#the average IBU of wheat beers\n",
    "wheat_beer.IBUs.mean()"
   ]
  },
  {
   "cell_type": "markdown",
   "metadata": {},
   "source": [
    "## Draw a histogram of the IBUs of those beers"
   ]
  },
  {
   "cell_type": "code",
   "execution_count": 51,
   "metadata": {},
   "outputs": [
    {
     "data": {
      "image/png": "[encoded data removed]",
      "text/plain": [
       "<Figure size 432x288 with 1 Axes>"
      ]
     },
     "metadata": {
      "needs_background": "light"
     },
     "output_type": "display_data"
    }
   ],
   "source": [
    "#histogram\n",
    "wheat_beer.IBUs.hist(ec=\"k\", bins=20)\n",
    "plt.title('The distribution of IBUs of wheat beers')\n",
    "plt.xlabel('IBUs')\n",
    "plt.ylabel('number of beer')\n",
    "plt.show()"
   ]
  },
  {
   "cell_type": "markdown",
   "metadata": {},
   "source": [
    "## Get the average IBU of any style with \"IPA\" in it (also draw a histogram)"
   ]
  },
  {
   "cell_type": "code",
   "execution_count": 52,
   "metadata": {},
   "outputs": [],
   "source": [
    "#filter\n",
    "ipa_beer = df[df.Style.str.contains('IPA', na=False)]"
   ]
  },
  {
   "cell_type": "code",
   "execution_count": 53,
   "metadata": {},
   "outputs": [
    {
     "data": {
      "text/plain": [
       "71.94897959183673"
      ]
     },
     "execution_count": 53,
     "metadata": {},
     "output_type": "execute_result"
    }
   ],
   "source": [
    "#average\n",
    "ipa_beer.IBUs.mean()"
   ]
  },
  {
   "cell_type": "code",
   "execution_count": 54,
   "metadata": {},
   "outputs": [
    {
     "data": {
      "image/png": "[encoded data removed]",
      "text/plain": [
       "<Figure size 432x288 with 1 Axes>"
      ]
     },
     "metadata": {
      "needs_background": "light"
     },
     "output_type": "display_data"
    }
   ],
   "source": [
    "#histogram\n",
    "ipa_beer.IBUs.hist(ec=\"k\", bins=20)\n",
    "plt.title('The distribution of IBUs of IPA beer')\n",
    "plt.xlabel('IBUs')\n",
    "plt.ylabel('number of beer')\n",
    "plt.show()"
   ]
  },
  {
   "cell_type": "markdown",
   "metadata": {},
   "source": [
    "## Plot those two histograms on top of one another\n",
    "\n",
    "To plot two plots on top of one another, you *might* just be able to plot twice in the same cell. It depends on your version of pandas/matplotlib! If it doesn't work, you'll need do two steps.\n",
    "\n",
    "1. First, you make a plot using `plot` or `hist`, and you save it into a variable called `ax`.\n",
    "2. You draw your second graph using `plot` or `hist`, and send `ax=ax` to it as a parameter.\n",
    "\n",
    "It would look something like this:\n",
    "\n",
    "```python\n",
    "ax = df.plot(....)\n",
    "df.plot(ax=ax, ....)\n",
    "``` \n",
    "\n",
    "And then youull get two plots on top of each other. They won't be perfect because the bins won't line up without extra work, but it's fine!"
   ]
  },
  {
   "cell_type": "code",
   "execution_count": 55,
   "metadata": {},
   "outputs": [
    {
     "data": {
      "image/png": "[encoded data removed]",
      "text/plain": [
       "<Figure size 360x504 with 2 Axes>"
      ]
     },
     "metadata": {
      "needs_background": "light"
     },
     "output_type": "display_data"
    }
   ],
   "source": [
    "#Compare IBUs distribution of wheat beers and IPAs\n",
    "fig = plt.figure(figsize=(5,7))\n",
    "bins = range(0,140,5)\n",
    "\n",
    "#chart1: wheat beer\n",
    "ax1 = fig.add_subplot(2, 1, 1)\n",
    "ax1 = wheat_beer.IBUs.hist(ec=\"k\", bins=bins)\n",
    "ax1.set_title('The distribution of IBUs of wheat beers')\n",
    "\n",
    "#chart2: IPAs\n",
    "ax2 = fig.add_subplot(2, 1, 2, sharex=ax1, sharey=ax1)\n",
    "ax2 = ipa_beer.IBUs.hist(ec=\"k\", bins=bins)\n",
    "ax2.set_title('The distribution of IBUs of IPA beer')\n",
    "\n",
    "fig.tight_layout()\n",
    "\n",
    "\n",
    "plt.show()"
   ]
  },
  {
   "cell_type": "markdown",
   "metadata": {},
   "source": [
    "## Compare the ABV of wheat beers vs. IPAs : their IBUs were really different, but how about their alcohol percentage?\n",
    "\n",
    "Wheat beers might include witbier, hefeweizen, American Pale Wheat Ale, and anything else you think is wheaty. IPAs probably have \"IPA\" in their name."
   ]
  },
  {
   "cell_type": "code",
   "execution_count": 56,
   "metadata": {},
   "outputs": [
    {
     "data": {
      "image/png": "[encoded data removed]",
      "text/plain": [
       "<Figure size 360x504 with 2 Axes>"
      ]
     },
     "metadata": {
      "needs_background": "light"
     },
     "output_type": "display_data"
    }
   ],
   "source": [
    "#Compare ABV distribution of wheat beers and IPAs\n",
    "fig = plt.figure(figsize=(5,7))\n",
    "\n",
    "bins = np.arange(2.0, 11.0, 0.25)\n",
    "\n",
    "#chart1: wheat beer\n",
    "ax1 = fig.add_subplot(2, 1, 1)\n",
    "ax1 = wheat_beer.ABV.hist(ec=\"k\", bins=bins)\n",
    "ax1.set_title('The distribution of ABV of wheat beers')\n",
    "\n",
    "#chart2: IPAs\n",
    "ax2 = fig.add_subplot(2, 1, 2, sharex=ax1, sharey=ax1)\n",
    "ax2 = ipa_beer.ABV.hist(ec=\"k\", bins=bins)\n",
    "ax2.set_title('The distribution of ABV of IPA beer')\n",
    "\n",
    "\n",
    "fig.tight_layout()\n",
    "plt.show()"
   ]
  },
  {
   "cell_type": "markdown",
   "metadata": {
    "collapsed": true
   },
   "source": [
    "## Good work!\n",
    "\n",
    "For making it this far, your reward is my recommendation for Athletic Brewing Co.'s products as the best non-alcoholic beer on the market. Their Run Wild IPA and Upside Dawn are both very solid."
   ]
  },
  {
   "cell_type": "code",
   "execution_count": 57,
   "metadata": {},
   "outputs": [
    {
     "data": {
      "text/html": [
       "<div>\n",
       "<style scoped>\n",
       "    .dataframe tbody tr th:only-of-type {\n",
       "        vertical-align: middle;\n",
       "    }\n",
       "\n",
       "    .dataframe tbody tr th {\n",
       "        vertical-align: top;\n",
       "    }\n",
       "\n",
       "    .dataframe thead th {\n",
       "        text-align: right;\n",
       "    }\n",
       "</style>\n",
       "<table border=\"1\" class=\"dataframe\">\n",
       "  <thead>\n",
       "    <tr style=\"text-align: right;\">\n",
       "      <th></th>\n",
       "      <th>Beer</th>\n",
       "      <th>Brewery</th>\n",
       "      <th>Location</th>\n",
       "      <th>Style</th>\n",
       "      <th>Size</th>\n",
       "      <th>ABV</th>\n",
       "      <th>IBUs</th>\n",
       "      <th>state</th>\n",
       "    </tr>\n",
       "  </thead>\n",
       "  <tbody>\n",
       "  </tbody>\n",
       "</table>\n",
       "</div>"
      ],
      "text/plain": [
       "Empty DataFrame\n",
       "Columns: [Beer, Brewery, Location, Style, Size, ABV, IBUs, state]\n",
       "Index: []"
      ]
     },
     "execution_count": 57,
     "metadata": {},
     "output_type": "execute_result"
    }
   ],
   "source": [
    "#check if there is any data for the non-alcoholic beer\n",
    "#Either way, I'll definitly try that one!\n",
    "df[df.Brewery.str.contains('Athletic', na=False)]"
   ]
  }
 ],
 "metadata": {
  "kernelspec": {
   "display_name": "venv310",
   "language": "python",
   "name": "venv310"
  },
  "language_info": {
   "codemirror_mode": {
    "name": "ipython",
    "version": 3
   },
   "file_extension": ".py",
   "mimetype": "text/x-python",
   "name": "python",
   "nbconvert_exporter": "python",
   "pygments_lexer": "ipython3",
   "version": "3.10.3"
  },
  "toc": {
   "base_numbering": 1,
   "nav_menu": {},
   "number_sections": true,
   "sideBar": true,
   "skip_h1_title": false,
   "title_cell": "Table of Contents",
   "title_sidebar": "Contents",
   "toc_cell": false,
   "toc_position": {
    "height": "calc(100% - 180px)",
    "left": "10px",
    "top": "150px",
    "width": "231.996px"
   },
   "toc_section_display": true,
   "toc_window_display": true
  }
 },
 "nbformat": 4,
 "nbformat_minor": 2
}
