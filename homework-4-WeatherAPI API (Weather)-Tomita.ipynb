{
 "cells": [
  {
   "cell_type": "markdown",
   "metadata": {},
   "source": [
    "# WeatherAPI (Weather)\n",
    "\n",
    "Answer the following questions using [WeatherAPI](http://www.weatherapi.com/). I've added three cells for most questions but you're free to use more or less! Hold `Shift` and hit `Enter` to run a cell, and use the `+` on the top left to add a new cell to a notebook.\n",
    "\n",
    "Be sure to take advantage of both the documentation and the API Explorer!\n",
    "\n",
    "## 0) Import any libraries you might need\n",
    "\n",
    "- *Tip: We're going to be downloading things from the internet, so we probably need `requests`.*\n",
    "- *Tip: Remember you only need to import requests once!*"
   ]
  },
  {
   "cell_type": "code",
   "execution_count": 1,
   "metadata": {},
   "outputs": [],
   "source": [
    "import requests\n",
    "from datetime import datetime, date, timedelta"
   ]
  },
  {
   "cell_type": "markdown",
   "metadata": {
    "collapsed": true
   },
   "source": [
    "## 1) Make a request to the Weather API for where you were born (or lived, or want to visit!).\n",
    "\n",
    "- *Tip: The URL we used in class was for a place near San Francisco. What was the format of the endpoint that made this happen?*\n",
    "- *Tip: Save the URL as a separate variable, and be sure to not have `[` and `]` inside.*\n",
    "- *Tip: How is north vs. south and east vs. west latitude/longitude represented? Is it the normal North/South/East/West?*\n",
    "- *Tip: You know it's JSON, but Python doesn't! Make sure you aren't trying to deal with plain text.* \n",
    "- *Tip: Once you've imported the JSON into a variable, check the timezone's name to make sure it seems like it got the right part of the world!*"
   ]
  },
  {
   "cell_type": "code",
   "execution_count": 2,
   "metadata": {},
   "outputs": [],
   "source": [
    "#Weather API\n",
    "#You can change locations here:\n",
    "location = 'Tokyo'\n",
    "\n",
    "url = f\"http://api.weatherapi.com/v1/current.json?key=42febc308e914aaf9ed193214221306&q={location}&aqi=yes\""
   ]
  },
  {
   "cell_type": "code",
   "execution_count": 3,
   "metadata": {},
   "outputs": [],
   "source": [
    "#retrieve raw data\n",
    "response = requests.get(url)\n",
    "data = response.json()"
   ]
  },
  {
   "cell_type": "code",
   "execution_count": 4,
   "metadata": {
    "scrolled": true
   },
   "outputs": [
    {
     "data": {
      "text/plain": [
       "dict_keys(['name', 'region', 'country', 'lat', 'lon', 'tz_id', 'localtime_epoch', 'localtime'])"
      ]
     },
     "execution_count": 4,
     "metadata": {},
     "output_type": "execute_result"
    }
   ],
   "source": [
    "#check keys-1\n",
    "data['location'].keys()"
   ]
  },
  {
   "cell_type": "code",
   "execution_count": 5,
   "metadata": {},
   "outputs": [
    {
     "data": {
      "text/plain": [
       "dict_keys(['last_updated_epoch', 'last_updated', 'temp_c', 'temp_f', 'is_day', 'condition', 'wind_mph', 'wind_kph', 'wind_degree', 'wind_dir', 'pressure_mb', 'pressure_in', 'precip_mm', 'precip_in', 'humidity', 'cloud', 'feelslike_c', 'feelslike_f', 'vis_km', 'vis_miles', 'uv', 'gust_mph', 'gust_kph', 'air_quality'])"
      ]
     },
     "execution_count": 5,
     "metadata": {},
     "output_type": "execute_result"
    }
   ],
   "source": [
    "#check keys-2\n",
    "data['current'].keys()"
   ]
  },
  {
   "cell_type": "code",
   "execution_count": 6,
   "metadata": {},
   "outputs": [
    {
     "name": "stdout",
     "output_type": "stream",
     "text": [
      "35.69\n",
      "139.69\n"
     ]
    }
   ],
   "source": [
    "#check latitude/longitude\n",
    "print(data['location']['lat'])\n",
    "print(data['location']['lon'])"
   ]
  },
  {
   "cell_type": "code",
   "execution_count": 7,
   "metadata": {},
   "outputs": [
    {
     "name": "stdout",
     "output_type": "stream",
     "text": [
      "2022-06-16 5:04\n"
     ]
    }
   ],
   "source": [
    "#check the local time\n",
    "print(data['location']['localtime'])"
   ]
  },
  {
   "cell_type": "code",
   "execution_count": 8,
   "metadata": {},
   "outputs": [
    {
     "name": "stdout",
     "output_type": "stream",
     "text": [
      "Current weather in Tokyo is partly cloudy.\n"
     ]
    }
   ],
   "source": [
    "#current weather\n",
    "condition = data['current']['condition']['text']\n",
    "\n",
    "text = f\"Current weather in {location} is {condition.lower()}.\"\n",
    "print(text)"
   ]
  },
  {
   "cell_type": "markdown",
   "metadata": {},
   "source": [
    "## 2) What's the current wind speed? How much warmer does it feel than it actually is?\n",
    "\n",
    "- *Tip: You can do this by browsing through the dictionaries, but it might be easier to read the documentation*\n",
    "- *Tip: For the second half: it **is** one temperature, and it **feels** a different temperature. Calculate the difference.*"
   ]
  },
  {
   "cell_type": "code",
   "execution_count": 9,
   "metadata": {},
   "outputs": [
    {
     "name": "stdout",
     "output_type": "stream",
     "text": [
      "The current wind speed is 2.2 miles per hour / 3.6 km per hour.\n"
     ]
    }
   ],
   "source": [
    "#wind speed\n",
    "windspeed_m = data['current']['wind_mph']\n",
    "windspeed_k = data['current']['wind_kph']\n",
    "\n",
    "text = f\"The current wind speed is {windspeed_m} miles per hour / {windspeed_k} km per hour.\"\n",
    "print(text)"
   ]
  },
  {
   "cell_type": "code",
   "execution_count": 10,
   "metadata": {},
   "outputs": [
    {
     "name": "stdout",
     "output_type": "stream",
     "text": [
      "The feels the same as the actual temperature.\n",
      "The feels the same as the actual temperature.\n"
     ]
    }
   ],
   "source": [
    "#temperature in Celcius/Fahrenheit degrees\n",
    "scales = {'c':'°C', 'f':'°F'}\n",
    "\n",
    "#compare the actual/feels-like temperatures\n",
    "for key, val in scales.items():\n",
    "    temp_actual = data['current'][f\"temp_{key}\"]\n",
    "    temp_feels = data['current'][f\"feelslike_{key}\"]\n",
    "    temp_dif = temp_feels - temp_actual\n",
    "    if temp_dif == 0:\n",
    "        text = 'The feels the same as the actual temperature.'\n",
    "    elif temp_dif > 0:\n",
    "        text = f\"It feels {temp_dif}{val} warmer than the actual temperature.\"\n",
    "    else:\n",
    "        text = f\"It feels {temp_dif}{val} colder than the actual temperature.\"\n",
    "    print(text)"
   ]
  },
  {
   "cell_type": "markdown",
   "metadata": {},
   "source": [
    "## 3) What is the API endpoint for moon-related information? For the place you decided on above, how much of the moon will be visible tomorrow?\n",
    "\n",
    "- *Tip: Check the documentation!*\n",
    "- *Tip: If you aren't sure what something means, ask in Slack*"
   ]
  },
  {
   "cell_type": "markdown",
   "metadata": {},
   "source": [
    "There are 2 different ways to look up for moon-related info.\n",
    "\n",
    "1: **astronomy API**<br>\n",
    "endpoint:  *~/astronomy.json?key={<font color =\"blue\">API KEY</font>}&q={<font color =\"blue\">location</font>}*\n",
    "\n",
    "2: **forecast API**<br>\n",
    "endpoint:  *~forecast.json?key={<font color =\"blue\">API KEY</font>}&q={<font color =\"blue\">location</font>}&dt={<font color =\"blue\">yyyy-MM-dd</font>}*"
   ]
  },
  {
   "cell_type": "code",
   "execution_count": 11,
   "metadata": {},
   "outputs": [],
   "source": [
    "#forecast API\n",
    "#I have ignored timezone difference here\n",
    "#But if you want to do it precisely, use timedelta(hours=9+24) for Tokyo\n",
    "target_date = datetime.now() + timedelta(days=1)\n",
    "target_date = target_date.strftime('%Y-%m-%d')\n",
    "\n",
    "url = f\"http://api.weatherapi.com/v1/forecast.json?key=42febc308e914aaf9ed193214221306&q={location}&dt={target_date}&aqi=yes\""
   ]
  },
  {
   "cell_type": "code",
   "execution_count": 12,
   "metadata": {},
   "outputs": [],
   "source": [
    "#retrieve data\n",
    "response = requests.get(url)\n",
    "data2 = response.json()"
   ]
  },
  {
   "cell_type": "code",
   "execution_count": 13,
   "metadata": {},
   "outputs": [
    {
     "data": {
      "text/plain": [
       "dict_keys(['forecastday'])"
      ]
     },
     "execution_count": 13,
     "metadata": {},
     "output_type": "execute_result"
    }
   ],
   "source": [
    "data2['forecast'].keys()"
   ]
  },
  {
   "cell_type": "code",
   "execution_count": 14,
   "metadata": {},
   "outputs": [
    {
     "data": {
      "text/plain": [
       "'2022-06-16'"
      ]
     },
     "execution_count": 14,
     "metadata": {},
     "output_type": "execute_result"
    }
   ],
   "source": [
    "data2['forecast']['forecastday'][0]['date']"
   ]
  },
  {
   "cell_type": "code",
   "execution_count": 15,
   "metadata": {},
   "outputs": [
    {
     "data": {
      "text/plain": [
       "{'sunrise': '04:25 AM',\n",
       " 'sunset': '06:59 PM',\n",
       " 'moonrise': '09:11 PM',\n",
       " 'moonset': '05:43 AM',\n",
       " 'moon_phase': 'Waxing Gibbous',\n",
       " 'moon_illumination': '78'}"
      ]
     },
     "execution_count": 15,
     "metadata": {},
     "output_type": "execute_result"
    }
   ],
   "source": [
    "data2['forecast']['forecastday'][0]['astro']"
   ]
  },
  {
   "cell_type": "code",
   "execution_count": 16,
   "metadata": {},
   "outputs": [
    {
     "name": "stdout",
     "output_type": "stream",
     "text": [
      "Waxing gibbous is visible in Tokyo tomorrow.\n"
     ]
    }
   ],
   "source": [
    "#moon phase\n",
    "moon_phase = data2['forecast']['forecastday'][0]['astro']['moon_phase']\n",
    "text = f\"{moon_phase.capitalize()} is visible in {location} tomorrow.\"\n",
    "print(text)"
   ]
  },
  {
   "cell_type": "markdown",
   "metadata": {},
   "source": [
    "## 4) What's the difference between the high and low temperatures for today?\n",
    "\n",
    "- *Tip: When you requested moon data, you probably overwrote your variables! If so, you'll need to make a new request.*"
   ]
  },
  {
   "cell_type": "code",
   "execution_count": 17,
   "metadata": {},
   "outputs": [],
   "source": [
    "target_date = datetime.now()\n",
    "target_date = target_date.strftime('%Y-%m-%d')\n",
    "\n",
    "url = f\"http://api.weatherapi.com/v1/forecast.json?key=42febc308e914aaf9ed193214221306&q={location}&dt={target_date}&aqi=yes\""
   ]
  },
  {
   "cell_type": "code",
   "execution_count": 18,
   "metadata": {},
   "outputs": [],
   "source": [
    "#retrieve data\n",
    "response = requests.get(url)\n",
    "data3 = response.json()"
   ]
  },
  {
   "cell_type": "code",
   "execution_count": 19,
   "metadata": {},
   "outputs": [
    {
     "name": "stdout",
     "output_type": "stream",
     "text": [
      "The difference between the high and low temperatures are 1.20°C for today.\n",
      "The difference between the high and low temperatures are 2.20°F for today.\n"
     ]
    }
   ],
   "source": [
    "#I ignored the time difference again, because it was too confusing(It's already tomorrow)\n",
    "data3['forecast']['forecastday'][0]\n",
    "\n",
    "#scales = {'c':'°C', 'f':'°F'}\n",
    "#compare the high/low temperatures\n",
    "for key, val in scales.items():\n",
    "    #temperatures\n",
    "    temp_high = data3['forecast']['forecastday'][0]['day'][f\"maxtemp_{key}\"]\n",
    "    temp_low = data3['forecast']['forecastday'][0]['day'][f\"mintemp_{key}\"]\n",
    "    #calculate\n",
    "    temp_dif = temp_high - temp_low\n",
    "    #texts\n",
    "    if temp_dif == 0:\n",
    "        text = f\"The high and low temperatures are the same for today. Both are {temp_high}{val}.\"\n",
    "    else:\n",
    "        text = f\"The difference between the high and low temperatures are {temp_dif:.2f}{val} for today.\"\n",
    "    #print\n",
    "    print(text)"
   ]
  },
  {
   "cell_type": "markdown",
   "metadata": {
    "collapsed": true
   },
   "source": [
    "## 4.5) How can you avoid the \"oh no I don't have the data any more because I made another request\" problem in the future?\n",
    "\n",
    "What variable(s) do you have to rename, and what would you rename them?"
   ]
  },
  {
   "cell_type": "code",
   "execution_count": 20,
   "metadata": {},
   "outputs": [],
   "source": [
    "#I used different URLs for each questions...so I don't have variables that I would wish to avoid overwriting...\n",
    "\n",
    "#But I could have done better with naming data-sets, as data, data2...is not readable enough\n",
    "#However, it's tiresome to go over the long names for variables again and again especially when you are writing long codes\n",
    "#So I'd rather use data1,2,3...But should I change it?\n",
    "\n",
    "#data\n",
    "#data2\n",
    "#data3"
   ]
  },
  {
   "cell_type": "markdown",
   "metadata": {},
   "source": [
    "## 5) Go through the daily forecasts, printing out the next three days' worth of predictions.\n",
    "\n",
    "I'd like to know the **high temperature** for each day, and whether it's **hot, warm, or cold** (based on what temperatures you think are hot, warm or cold).\n",
    "\n",
    "- *Tip: You'll need to use an `if` statement to say whether it is hot, warm or cold.*"
   ]
  },
  {
   "cell_type": "code",
   "execution_count": 21,
   "metadata": {},
   "outputs": [],
   "source": [
    "#3 days forecasts\n",
    "days =3\n",
    "url = f\"http://api.weatherapi.com/v1/forecast.json?key=42febc308e914aaf9ed193214221306&q={location}&days={days}\""
   ]
  },
  {
   "cell_type": "code",
   "execution_count": 22,
   "metadata": {},
   "outputs": [],
   "source": [
    "#retrieve data\n",
    "response = requests.get(url)\n",
    "data4 = response.json()"
   ]
  },
  {
   "cell_type": "code",
   "execution_count": 23,
   "metadata": {},
   "outputs": [
    {
     "name": "stdout",
     "output_type": "stream",
     "text": [
      "The highest temperature on June 16 will be 25.3°C. It's going to be a hot day.\n",
      "The highest temperature on June 17 will be 25.7°C. It's going to be a hot day.\n",
      "The highest temperature on June 18 will be 27.6°C. It's going to be a hot day.\n"
     ]
    }
   ],
   "source": [
    "for i in range(len(data4['forecast']['forecastday'])):\n",
    "    #date\n",
    "    forecast_date = data4['forecast']['forecastday'][i]['date']\n",
    "    forecast_date = datetime.strptime(forecast_date, '%Y-%m-%d').strftime('%B %d')\n",
    "    #highest temp\n",
    "    temp_highest = data4['forecast']['forecastday'][i]['day']['maxtemp_c']\n",
    "    #text\n",
    "    text = f\"The highest temperature on {forecast_date} will be {temp_highest}°C.\"\n",
    "    if temp_highest >=25:\n",
    "        text = text + \" \" + \"It's going to be a hot day.\"\n",
    "    elif temp_highest >=15:\n",
    "        text = text + \" \" + \"You can enjoy a warm day.\"\n",
    "    else:\n",
    "        text = text + \" \" + \"It's going to be a cold day. Don't forget to bring your jacket.\"\n",
    "    print(text)"
   ]
  },
  {
   "cell_type": "markdown",
   "metadata": {},
   "source": [
    "## 5b) The question above used to be an entire week, but not any more. Try to re-use the code above to print out seven days.\n",
    "\n",
    "What happens? Can you figure out why it doesn't work?\n",
    "\n",
    "* *Tip: it has to do with the reason you're using an API key - maybe take a look at the \"Air Quality Data\" introduction for a hint? If you can't figure it out right now, no worries.*"
   ]
  },
  {
   "cell_type": "code",
   "execution_count": 24,
   "metadata": {},
   "outputs": [
    {
     "name": "stdout",
     "output_type": "stream",
     "text": [
      "The length of the data is 3 ....\n"
     ]
    }
   ],
   "source": [
    "#1st Try (did not work)\n",
    "#Forecast API\n",
    "#As they provide the data for air quality only for 3 days in the forecast API, the data for other parts do not show up either\n",
    "days =7\n",
    "url = f\"http://api.weatherapi.com/v1/forecast.json?key=42febc308e914aaf9ed193214221306&q={location}&days={days}\"\n",
    "\n",
    "#retrieve data\n",
    "response = requests.get(url)\n",
    "data5 = response.json()\n",
    "\n",
    "print(\"The length of the data is\", len(data5), \"....\")"
   ]
  },
  {
   "cell_type": "code",
   "execution_count": 25,
   "metadata": {},
   "outputs": [
    {
     "name": "stdout",
     "output_type": "stream",
     "text": [
      "The length of the data is 3 ....\n"
     ]
    }
   ],
   "source": [
    "#2nd Try (did not work)\n",
    "#Forecast API WITH \"aqi=no\"\n",
    "#As they provide the data for air quality only for 3 days in the forecast API, the data for other parts do not show up either\n",
    "days =7\n",
    "url = f\"http://api.weatherapi.com/v1/forecast.json?key=42febc308e914aaf9ed193214221306&q={location}&days={days}&aqi=no\"\n",
    "\n",
    "#retrieve data\n",
    "response = requests.get(url)\n",
    "data5 = response.json()\n",
    "\n",
    "print(\"The length of the data is\", len(data5), \"....\")"
   ]
  },
  {
   "cell_type": "code",
   "execution_count": 26,
   "metadata": {},
   "outputs": [
    {
     "name": "stdout",
     "output_type": "stream",
     "text": [
      "The length of the data is 1 ....\n",
      "{'error': {'code': 2009, 'message': 'API key does not have access to the resource.'}}\n"
     ]
    }
   ],
   "source": [
    "#3rd Try (did not work)\n",
    "#FUTURE API WITH \"aqi=no\"\n",
    "days =7\n",
    "url = f\"http://api.weatherapi.com/v1/future.json?key=42febc308e914aaf9ed193214221306&q={location}&days={days}&aqi=no\"\n",
    "\n",
    "#retrieve data\n",
    "response = requests.get(url)\n",
    "data5 = response.json()\n",
    "\n",
    "print(\"The length of the data is\", len(data5), \"....\")\n",
    "#Maybe you have to pay for that....?\n",
    "print(data5)"
   ]
  },
  {
   "cell_type": "code",
   "execution_count": 27,
   "metadata": {},
   "outputs": [
    {
     "name": "stdout",
     "output_type": "stream",
     "text": [
      "--------\n",
      "2022-06-16\n",
      "http://api.weatherapi.com/v1/forecast.json?key=42febc308e914aaf9ed193214221306&q=Tokyo&dt=2022-06-16&aqi=yes\n",
      "Partly cloudy\n",
      "--------\n",
      "2022-06-17\n",
      "http://api.weatherapi.com/v1/forecast.json?key=42febc308e914aaf9ed193214221306&q=Tokyo&dt=2022-06-17&aqi=yes\n",
      "Sunny\n",
      "--------\n",
      "2022-06-18\n",
      "http://api.weatherapi.com/v1/forecast.json?key=42febc308e914aaf9ed193214221306&q=Tokyo&dt=2022-06-18&aqi=yes\n",
      "Sunny\n",
      "--------\n",
      "2022-06-19\n",
      "http://api.weatherapi.com/v1/forecast.json?key=42febc308e914aaf9ed193214221306&q=Tokyo&dt=2022-06-19&aqi=yes\n",
      "Patchy rain possible\n",
      "--------\n",
      "2022-06-20\n",
      "http://api.weatherapi.com/v1/forecast.json?key=42febc308e914aaf9ed193214221306&q=Tokyo&dt=2022-06-20&aqi=yes\n",
      "Sunny\n",
      "--------\n",
      "2022-06-21\n",
      "http://api.weatherapi.com/v1/forecast.json?key=42febc308e914aaf9ed193214221306&q=Tokyo&dt=2022-06-21&aqi=yes\n",
      "Patchy rain possible\n",
      "--------\n",
      "2022-06-22\n",
      "http://api.weatherapi.com/v1/forecast.json?key=42febc308e914aaf9ed193214221306&q=Tokyo&dt=2022-06-22&aqi=yes\n",
      "Moderate rain\n",
      "--------\n"
     ]
    }
   ],
   "source": [
    "#4th Try (Successful!!!...I hope.)\n",
    "#Forecast API WITH dt={yyyy-MM-dd}\n",
    "print('--------')\n",
    "for i in range(1,8):\n",
    "    #target date\n",
    "    target_date = datetime.now() + timedelta(days=i)\n",
    "    target_date = target_date.strftime('%Y-%m-%d')\n",
    "    print(target_date)\n",
    "    \n",
    "    #API\n",
    "    url = f\"http://api.weatherapi.com/v1/forecast.json?key=42febc308e914aaf9ed193214221306&q={location}&dt={target_date}&aqi=yes\"\n",
    "    print(url)    \n",
    "    \n",
    "    #retrieve data\n",
    "    response = requests.get(url)\n",
    "    daily_data = response.json()\n",
    "\n",
    "    #temperatures\n",
    "    text = daily_data['forecast']['forecastday'][0]['day']['condition']['text']\n",
    "    print(text)\n",
    "    print('--------')\n",
    "    "
   ]
  },
  {
   "cell_type": "markdown",
   "metadata": {},
   "source": [
    "## 6) What will be the hottest day in the next three days? What is the high temperature on that day?"
   ]
  },
  {
   "cell_type": "code",
   "execution_count": 54,
   "metadata": {},
   "outputs": [
    {
     "name": "stdout",
     "output_type": "stream",
     "text": [
      "2022-06-18 is the hottest day in the next 3 days. It will be 27.6°C /81.7°F.\n"
     ]
    }
   ],
   "source": [
    "#data4: Forecast data for the next 3 days\n",
    "\n",
    "#dic\n",
    "temp_dic_c = {}\n",
    "temp_dic_f = {}\n",
    "\n",
    "#data\n",
    "for i in range(len(data4['forecast']['forecastday'])):\n",
    "    forecast_date = data4['forecast']['forecastday'][i]['date']\n",
    "    maxtemp_c = data4['forecast']['forecastday'][i]['day']['maxtemp_c']\n",
    "    maxtemp_f = data4['forecast']['forecastday'][i]['day']['maxtemp_f']\n",
    "    temp_dic_c[forecast_date] = maxtemp_c\n",
    "    temp_dic_f[forecast_date] = maxtemp_f\n",
    "\n",
    "#hottest day\n",
    "hottest_day_temp_c = max(temp_dic_c.values())\n",
    "hottest_day_temp_f = max(temp_dic_f.values())\n",
    "hottest_day_list = [key for key, val in temp_dic_c.items() if val == hottest_day_temp_c]\n",
    "\n",
    "#text\n",
    "#Just in case there are more than 1 day with the same highest temperature\n",
    "if len(hottest_day_list)>1:\n",
    "    text = \", \".join(hottest_day_list) + \" are the hottest days in the next 3 days.\"\n",
    "    text = text + \" \" + f\"It will be {hottest_day_temp_c}°C /{hottest_day_temp_f}°F.\"\n",
    "else:\n",
    "    text = hottest_day_list[0] + \" is the hottest day in the next 3 days.\"\n",
    "    text = text + \" \" + f\"It will be {hottest_day_temp_c}°C /{hottest_day_temp_f}°F.\"\n",
    "print(text) "
   ]
  },
  {
   "cell_type": "markdown",
   "metadata": {},
   "source": [
    "## 7) What's the weather looking like for the next 24+ hours in Miami, Florida?\n",
    "\n",
    "I'd like to know the temperature for every hour, and if it's going to have cloud cover of more than 50% say \"{temperature} and cloudy\" instead of just the temperature. \n",
    "\n",
    "- *Tip: You'll only need one day of forecast*"
   ]
  },
  {
   "cell_type": "code",
   "execution_count": 108,
   "metadata": {},
   "outputs": [
    {
     "name": "stdout",
     "output_type": "stream",
     "text": [
      "http://api.weatherapi.com/v1/forecast.json?key=42febc308e914aaf9ed193214221306&q=Miami&dt=2022-06-16\n"
     ]
    }
   ],
   "source": [
    "#URL\n",
    "location = 'Miami'\n",
    "target_date = datetime.now() + timedelta(days=1)\n",
    "target_date = target_date.strftime('%Y-%m-%d')\n",
    "\n",
    "url = f\"http://api.weatherapi.com/v1/forecast.json?key=42febc308e914aaf9ed193214221306&q={location}&dt={target_date}\"\n",
    "print(url)"
   ]
  },
  {
   "cell_type": "code",
   "execution_count": 109,
   "metadata": {},
   "outputs": [],
   "source": [
    "#retrieve data\n",
    "response = requests.get(url)\n",
    "data6 = response.json()"
   ]
  },
  {
   "cell_type": "code",
   "execution_count": 122,
   "metadata": {},
   "outputs": [
    {
     "name": "stdout",
     "output_type": "stream",
     "text": [
      "2022-06-16 00:00 :  The temperature is 28.8°C/83.8°F.\n",
      "2022-06-16 01:00 :  The temperature is 28.8°C/83.8°F.\n",
      "2022-06-16 02:00 :  The temperature is 28.7°C/83.7°F.\n",
      "2022-06-16 03:00 :  The temperature is 28.7°C/83.7°F and cloudy.\n",
      "2022-06-16 04:00 :  The temperature is 28.7°C/83.7°F and cloudy.\n",
      "2022-06-16 05:00 :  The temperature is 28.7°C/83.7°F and cloudy.\n",
      "2022-06-16 06:00 :  The temperature is 28.6°C/83.5°F.\n",
      "2022-06-16 07:00 :  The temperature is 28.6°C/83.5°F.\n",
      "2022-06-16 08:00 :  The temperature is 28.7°C/83.7°F.\n",
      "2022-06-16 09:00 :  The temperature is 28.8°C/83.8°F.\n",
      "2022-06-16 10:00 :  The temperature is 29.1°C/84.4°F.\n",
      "2022-06-16 11:00 :  The temperature is 32.5°C/90.5°F.\n",
      "2022-06-16 12:00 :  The temperature is 32.7°C/90.9°F.\n",
      "2022-06-16 13:00 :  The temperature is 32.9°C/91.2°F.\n",
      "2022-06-16 14:00 :  The temperature is 30.8°C/87.4°F.\n",
      "2022-06-16 15:00 :  The temperature is 30.6°C/87.1°F.\n",
      "2022-06-16 16:00 :  The temperature is 30.4°C/86.7°F.\n",
      "2022-06-16 17:00 :  The temperature is 31.7°C/89.1°F.\n",
      "2022-06-16 18:00 :  The temperature is 30.8°C/87.4°F.\n",
      "2022-06-16 19:00 :  The temperature is 30.0°C/86.0°F.\n",
      "2022-06-16 20:00 :  The temperature is 29.3°C/84.7°F.\n",
      "2022-06-16 21:00 :  The temperature is 29.2°C/84.6°F.\n",
      "2022-06-16 22:00 :  The temperature is 29.1°C/84.4°F.\n",
      "2022-06-16 23:00 :  The temperature is 29.0°C/84.2°F.\n"
     ]
    }
   ],
   "source": [
    "hourly_dic = {}\n",
    "\n",
    "for hourly_data in data6['forecast']['forecastday'][0]['hour']:\n",
    "    hour = hourly_data['time']\n",
    "    #This is for the next question\n",
    "    hourly_dic[hour] = hourly_data['temp_f']\n",
    "    \n",
    "    #text\n",
    "    text = \"The temperature is \" + str(hourly_data['temp_c']) + '°C' + '/' + str(hourly_data['temp_f']) + '°F'\n",
    "    text = text + \" and cloudy.\" if hourly_data['cloud'] > 50 else text + \".\"\n",
    "    \n",
    "    print(hour, \": \", text)"
   ]
  },
  {
   "cell_type": "markdown",
   "metadata": {},
   "source": [
    "## 8) For the next 24-ish hours in Miami, what percent of the time is the temperature above 85 degrees?\n",
    "\n",
    "- *Tip: You might want to read up on [looping patterns](http://jonathansoma.com/lede/foundations-2017/classes/data%20structures/looping-patterns/)*"
   ]
  },
  {
   "cell_type": "code",
   "execution_count": 130,
   "metadata": {},
   "outputs": [
    {
     "name": "stdout",
     "output_type": "stream",
     "text": [
      "37.5% of the time is the temperature above 85 degrees.\n"
     ]
    }
   ],
   "source": [
    "hours_above85 = len([val for val in hourly_dic.values() if val > 85]) \n",
    "hours_total =  len(hourly_dic.values()) \n",
    "pct_above85 = hours_above85 / hours_total * 100\n",
    "\n",
    "print(f\"{pct_above85}% of the time is the temperature above 85 degrees.\")"
   ]
  },
  {
   "cell_type": "markdown",
   "metadata": {},
   "source": [
    "## 9) How much will it cost if you need to use 1,500,000 API calls?\n",
    "\n",
    "You are only allowed 1,000,000 API calls each month. If you were really bad at this homework or made some awful loops, WeatherAPI might shut down your free access. \n",
    "\n",
    "* *Tip: this involves looking somewhere that isn't the normal documentation.*"
   ]
  },
  {
   "cell_type": "code",
   "execution_count": 132,
   "metadata": {},
   "outputs": [
    {
     "name": "stdout",
     "output_type": "stream",
     "text": [
      "$4 for 2,000,000 Calls per month.\n"
     ]
    }
   ],
   "source": [
    "#Source: https://www.weatherapi.com/pricing.aspx\n",
    "print(\"$4 for 2,000,000 Calls per month.\")"
   ]
  },
  {
   "cell_type": "markdown",
   "metadata": {},
   "source": [
    "## 10) You're too poor to spend more money! What else could you do instead of give them money?\n",
    "\n",
    "* *Tip: I'm not endorsing being sneaky, but newsrooms and students are both generally poverty-stricken.*"
   ]
  },
  {
   "cell_type": "code",
   "execution_count": 134,
   "metadata": {},
   "outputs": [
    {
     "name": "stdout",
     "output_type": "stream",
     "text": [
      "Sign up with another email account. If you don't have one, create a new one on google (or other free accounts).\n"
     ]
    }
   ],
   "source": [
    "print(\"Sign up with another email account. If you don't have one, create a new one on google (or other free accounts).\")"
   ]
  }
 ],
 "metadata": {
  "kernelspec": {
   "display_name": "venv310",
   "language": "python",
   "name": "venv310"
  },
  "language_info": {
   "codemirror_mode": {
    "name": "ipython",
    "version": 3
   },
   "file_extension": ".py",
   "mimetype": "text/x-python",
   "name": "python",
   "nbconvert_exporter": "python",
   "pygments_lexer": "ipython3",
   "version": "3.10.3"
  },
  "toc": {
   "base_numbering": 1,
   "nav_menu": {},
   "number_sections": true,
   "sideBar": true,
   "skip_h1_title": false,
   "title_cell": "Table of Contents",
   "title_sidebar": "Contents",
   "toc_cell": false,
   "toc_position": {},
   "toc_section_display": true,
   "toc_window_display": true
  }
 },
 "nbformat": 4,
 "nbformat_minor": 1
}
