{
 "cells": [
  {
   "cell_type": "markdown",
   "metadata": {},
   "source": [
    "# Homework 7, Part Two: A dataset about dogs.\n",
    "\n",
    "Data from [a FOIL request to New York City](https://www.muckrock.com/foi/new-york-city-17/pet-licensing-data-for-new-york-city-23826/)"
   ]
  },
  {
   "cell_type": "markdown",
   "metadata": {},
   "source": [
    "## Do your importing and your setup"
   ]
  },
  {
   "cell_type": "code",
   "execution_count": 1,
   "metadata": {},
   "outputs": [],
   "source": [
    "import pandas as pd\n",
    "import numpy as np\n",
    "\n",
    "import matplotlib.pyplot as plt\n",
    "plt.style.use(\"fivethirtyeight\")"
   ]
  },
  {
   "cell_type": "markdown",
   "metadata": {},
   "source": [
    "## Read in the file `NYC_Dog_Licenses_Current_as_of_4-28-2016.xlsx` and look at the first five rows"
   ]
  },
  {
   "cell_type": "code",
   "execution_count": 2,
   "metadata": {},
   "outputs": [],
   "source": [
    "#df = pd.read_excel('NYC_Dog_Licenses_Current_as_of_4-28-2016.xlsx')"
   ]
  },
  {
   "cell_type": "code",
   "execution_count": 3,
   "metadata": {
    "scrolled": true
   },
   "outputs": [],
   "source": [
    "df = pd.read_excel('NYC_Dog_Licenses_Current_as_of_4-28-2016.xlsx', nrows=30000)"
   ]
  },
  {
   "cell_type": "code",
   "execution_count": 4,
   "metadata": {},
   "outputs": [
    {
     "data": {
      "text/html": [
       "<div>\n",
       "<style scoped>\n",
       "    .dataframe tbody tr th:only-of-type {\n",
       "        vertical-align: middle;\n",
       "    }\n",
       "\n",
       "    .dataframe tbody tr th {\n",
       "        vertical-align: top;\n",
       "    }\n",
       "\n",
       "    .dataframe thead th {\n",
       "        text-align: right;\n",
       "    }\n",
       "</style>\n",
       "<table border=\"1\" class=\"dataframe\">\n",
       "  <thead>\n",
       "    <tr style=\"text-align: right;\">\n",
       "      <th></th>\n",
       "      <th>Owner Zip Code</th>\n",
       "      <th>Animal Name</th>\n",
       "      <th>Animal Gender</th>\n",
       "      <th>Primary Breed</th>\n",
       "      <th>Secondary Breed</th>\n",
       "      <th>Animal Dominant Color</th>\n",
       "      <th>Animal Secondary Color</th>\n",
       "      <th>Animal Third Color</th>\n",
       "      <th>Animal Birth</th>\n",
       "      <th>Spayed or Neut</th>\n",
       "      <th>Guard or Trained</th>\n",
       "      <th>Vaccinated</th>\n",
       "      <th>Application Date</th>\n",
       "      <th>License Issued Date</th>\n",
       "      <th>License Expired Date</th>\n",
       "    </tr>\n",
       "  </thead>\n",
       "  <tbody>\n",
       "    <tr>\n",
       "      <th>0</th>\n",
       "      <td>10024</td>\n",
       "      <td>BLUE MACK</td>\n",
       "      <td>M</td>\n",
       "      <td>Unknown</td>\n",
       "      <td>AIREDALE TERR</td>\n",
       "      <td>BROWN</td>\n",
       "      <td>BLACK</td>\n",
       "      <td>NaN</td>\n",
       "      <td>2007-11-01</td>\n",
       "      <td>Yes</td>\n",
       "      <td>No</td>\n",
       "      <td>Yes</td>\n",
       "      <td>2012-09-19 16:01:19.647</td>\n",
       "      <td>2015-09-19</td>\n",
       "      <td>2016-09-19</td>\n",
       "    </tr>\n",
       "    <tr>\n",
       "      <th>1</th>\n",
       "      <td>10461</td>\n",
       "      <td>Indie Zephir</td>\n",
       "      <td>M</td>\n",
       "      <td>Rottweiler</td>\n",
       "      <td>NaN</td>\n",
       "      <td>BLACK</td>\n",
       "      <td>TAN</td>\n",
       "      <td>NaN</td>\n",
       "      <td>2013-04-01</td>\n",
       "      <td>No</td>\n",
       "      <td>No</td>\n",
       "      <td>Yes</td>\n",
       "      <td>2013-09-20 11:41:36.647</td>\n",
       "      <td>2014-09-20</td>\n",
       "      <td>2018-09-20</td>\n",
       "    </tr>\n",
       "    <tr>\n",
       "      <th>2</th>\n",
       "      <td>10013</td>\n",
       "      <td>Bilal</td>\n",
       "      <td>M</td>\n",
       "      <td>Australian Cattledog</td>\n",
       "      <td>NaN</td>\n",
       "      <td>Rust</td>\n",
       "      <td>NaN</td>\n",
       "      <td>NaN</td>\n",
       "      <td>2014-09-01</td>\n",
       "      <td>Yes</td>\n",
       "      <td>NaN</td>\n",
       "      <td>No</td>\n",
       "      <td>2014-09-12 13:13:36.713</td>\n",
       "      <td>2014-09-12</td>\n",
       "      <td>2019-09-12</td>\n",
       "    </tr>\n",
       "    <tr>\n",
       "      <th>3</th>\n",
       "      <td>10025</td>\n",
       "      <td>Buddy</td>\n",
       "      <td>M</td>\n",
       "      <td>Unknown</td>\n",
       "      <td>Cockapoo</td>\n",
       "      <td>BLOND</td>\n",
       "      <td>WHITE</td>\n",
       "      <td>NaN</td>\n",
       "      <td>2008-04-01</td>\n",
       "      <td>Yes</td>\n",
       "      <td>No</td>\n",
       "      <td>Yes</td>\n",
       "      <td>2014-09-12 15:26:51.417</td>\n",
       "      <td>2014-09-12</td>\n",
       "      <td>2017-10-20</td>\n",
       "    </tr>\n",
       "    <tr>\n",
       "      <th>4</th>\n",
       "      <td>10013</td>\n",
       "      <td>Ali</td>\n",
       "      <td>M</td>\n",
       "      <td>Basenji</td>\n",
       "      <td>NaN</td>\n",
       "      <td>Black</td>\n",
       "      <td>NaN</td>\n",
       "      <td>NaN</td>\n",
       "      <td>2014-01-01</td>\n",
       "      <td>No</td>\n",
       "      <td>NaN</td>\n",
       "      <td>No</td>\n",
       "      <td>2014-09-12 15:43:17.707</td>\n",
       "      <td>2014-09-12</td>\n",
       "      <td>2019-09-12</td>\n",
       "    </tr>\n",
       "  </tbody>\n",
       "</table>\n",
       "</div>"
      ],
      "text/plain": [
       "   Owner Zip Code   Animal Name Animal Gender         Primary Breed  \\\n",
       "0           10024     BLUE MACK             M               Unknown   \n",
       "1           10461  Indie Zephir             M            Rottweiler   \n",
       "2           10013         Bilal             M  Australian Cattledog   \n",
       "3           10025         Buddy             M               Unknown   \n",
       "4           10013           Ali             M               Basenji   \n",
       "\n",
       "  Secondary Breed Animal Dominant Color Animal Secondary Color  \\\n",
       "0   AIREDALE TERR                 BROWN                  BLACK   \n",
       "1             NaN                 BLACK                    TAN   \n",
       "2             NaN                  Rust                    NaN   \n",
       "3        Cockapoo                 BLOND                  WHITE   \n",
       "4             NaN                 Black                    NaN   \n",
       "\n",
       "  Animal Third Color Animal Birth Spayed or Neut Guard or Trained Vaccinated  \\\n",
       "0                NaN   2007-11-01            Yes               No        Yes   \n",
       "1                NaN   2013-04-01             No               No        Yes   \n",
       "2                NaN   2014-09-01            Yes              NaN         No   \n",
       "3                NaN   2008-04-01            Yes               No        Yes   \n",
       "4                NaN   2014-01-01             No              NaN         No   \n",
       "\n",
       "         Application Date License Issued Date License Expired Date  \n",
       "0 2012-09-19 16:01:19.647          2015-09-19           2016-09-19  \n",
       "1 2013-09-20 11:41:36.647          2014-09-20           2018-09-20  \n",
       "2 2014-09-12 13:13:36.713          2014-09-12           2019-09-12  \n",
       "3 2014-09-12 15:26:51.417          2014-09-12           2017-10-20  \n",
       "4 2014-09-12 15:43:17.707          2014-09-12           2019-09-12  "
      ]
     },
     "execution_count": 4,
     "metadata": {},
     "output_type": "execute_result"
    }
   ],
   "source": [
    "df.head(5)"
   ]
  },
  {
   "cell_type": "markdown",
   "metadata": {},
   "source": [
    "## How many rows do you have in the data? What are the column types?\n",
    "\n",
    "If there are more than 30,000 rows in your dataset, go back and only read in the first 30,000.\n",
    "\n",
    "* *Tip: there's an option with `.read_csv` to only read in a certain number of rows*"
   ]
  },
  {
   "cell_type": "code",
   "execution_count": 5,
   "metadata": {},
   "outputs": [
    {
     "data": {
      "text/plain": [
       "30000"
      ]
     },
     "execution_count": 5,
     "metadata": {},
     "output_type": "execute_result"
    }
   ],
   "source": [
    "#number of raws in the data\n",
    "df.shape[0]"
   ]
  },
  {
   "cell_type": "code",
   "execution_count": 6,
   "metadata": {},
   "outputs": [
    {
     "data": {
      "text/plain": [
       "Owner Zip Code                     int64\n",
       "Animal Name                       object\n",
       "Animal Gender                     object\n",
       "Primary Breed                     object\n",
       "Secondary Breed                   object\n",
       "Animal Dominant Color             object\n",
       "Animal Secondary Color            object\n",
       "Animal Third Color                object\n",
       "Animal Birth              datetime64[ns]\n",
       "Spayed or Neut                    object\n",
       "Guard or Trained                  object\n",
       "Vaccinated                        object\n",
       "Application Date          datetime64[ns]\n",
       "License Issued Date       datetime64[ns]\n",
       "License Expired Date      datetime64[ns]\n",
       "dtype: object"
      ]
     },
     "execution_count": 6,
     "metadata": {},
     "output_type": "execute_result"
    }
   ],
   "source": [
    "#data types of each columns\n",
    "df.dtypes"
   ]
  },
  {
   "cell_type": "markdown",
   "metadata": {},
   "source": [
    "## Describe the dataset in words. What is each row? List two column titles along with what each of those columns means.\n",
    "\n",
    "For example: “Each row is an animal in the zoo. `is_reptile` is whether the animal is a reptile or not”"
   ]
  },
  {
   "cell_type": "markdown",
   "metadata": {},
   "source": [
    "----\n",
    "<font color=\"blue\"><b>**my answer**</b>:</font><br>\n",
    "Each row is a registered pet in New York City.<br><br>\n",
    "`Owner Zip Code` is a zip code of the owner's address.<br>\n",
    "`Vaccinated` is whether the pet is vaccinated or not. Shown as <YES/NO><br>\n",
    "----"
   ]
  },
  {
   "cell_type": "code",
   "execution_count": 7,
   "metadata": {},
   "outputs": [
    {
     "data": {
      "text/plain": [
       "Index(['Owner Zip Code', 'Animal Name', 'Animal Gender', 'Primary Breed',\n",
       "       'Secondary Breed', 'Animal Dominant Color', 'Animal Secondary Color',\n",
       "       'Animal Third Color', 'Animal Birth', 'Spayed or Neut',\n",
       "       'Guard or Trained', 'Vaccinated', 'Application Date',\n",
       "       'License Issued Date', 'License Expired Date'],\n",
       "      dtype='object')"
      ]
     },
     "execution_count": 7,
     "metadata": {},
     "output_type": "execute_result"
    }
   ],
   "source": [
    "#check column names\n",
    "df.columns"
   ]
  },
  {
   "cell_type": "code",
   "execution_count": 8,
   "metadata": {},
   "outputs": [
    {
     "data": {
      "text/plain": [
       "array(['Yes', 'No'], dtype=object)"
      ]
     },
     "execution_count": 8,
     "metadata": {},
     "output_type": "execute_result"
    }
   ],
   "source": [
    "#check data in Vaccinated column\n",
    "df.Vaccinated.unique()"
   ]
  },
  {
   "cell_type": "code",
   "execution_count": 9,
   "metadata": {},
   "outputs": [
    {
     "data": {
      "text/plain": [
       "array([10024, 10461, 10013, 10025, 10035, 10465, 10028, 11232, 10022,\n",
       "       11209, 11215, 10312, 11220, 10002, 10308, 11201, 11218, 11208,\n",
       "       10003, 11238, 10463, 10011, 11231, 10305, 11361, 10021, 11236,\n",
       "       10471, 10023, 11224, 11104, 11379, 10012, 10029, 10467, 11374,\n",
       "       10038, 10451, 10309, 10034, 10065, 10031, 11106, 10016, 11217,\n",
       "       11435, 10001, 10128, 11211, 11230, 11101, 10475, 10039, 11375,\n",
       "       11385, 11365, 10306, 11216, 10462, 10036, 10019, 10458, 11228,\n",
       "       11221, 11354, 11214, 10307, 10027, 10314, 11102, 10301, 11237,\n",
       "       11234, 11427, 11205, 11355, 10017, 11222, 11364, 11206, 11249,\n",
       "       11377, 10466, 10310, 10473, 10026, 10033, 10014, 11372, 11694,\n",
       "       10469, 10040, 10032, 11358, 10044, 10009, 11414, 10456, 11109,\n",
       "       11429, 11378, 11105, 11373, 11426, 11362, 10037, 11229, 10282,\n",
       "       11225, 11416, 10075, 10459, 10280, 10304, 11235, 10007, 10005,\n",
       "       11415, 10452, 11226, 11219, 11418, 10470, 11233, 10010, 11368,\n",
       "       11223, 11239, 11213, 10472, 10303, 11433, 11357, 10455, 10460,\n",
       "       11691, 11417, 11419, 11423, 11692, 10018, 11204, 11432, 11103,\n",
       "       11360, 11697, 10453, 11212, 11369, 10468, 11366, 11004, 10004,\n",
       "       10302, 10464, 11370, 11412, 11207, 11367, 10454, 11363, 10457,\n",
       "       11210, 10125, 11434, 11428, 10069, 11693, 11421, 10474, 10006,\n",
       "       10101, 11356, 10030, 10150, 11203, 10708, 11422, 11413, 10107,\n",
       "       11420, 10185, 11411,  1175, 11518, 10068, 11023, 11436, 11001,\n",
       "       12237, 11040, 11202, 10901, 10113, 10705, 10156, 11757, 22223,\n",
       "       11003, 10311, 10276, 11242, 11386, 12333, 11630, 11002, 10118,\n",
       "       10159, 53494, 14432, 33130, 11783, 10606, 11784,  1003, 11756,\n",
       "       10162, 11024, 11520, 90802, 10129, 10950, 10163, 10008, 10151,\n",
       "       93036, 11944,  8110, 10274, 10155, 11580, 11005, 11550, 11305,\n",
       "       10512, 11609, 10042, 11336, 11581, 14420, 11753])"
      ]
     },
     "execution_count": 9,
     "metadata": {},
     "output_type": "execute_result"
    }
   ],
   "source": [
    "#check data in Owner Zip Code\n",
    "df['Owner Zip Code'].unique()"
   ]
  },
  {
   "cell_type": "markdown",
   "metadata": {},
   "source": [
    "# Your thoughts\n",
    "\n",
    "Think of four questions you could ask this dataset. **Don't ask them**, just write them down in the cell below. Feel free to use either Markdown or Python comments."
   ]
  },
  {
   "cell_type": "markdown",
   "metadata": {},
   "source": [
    "---\n",
    "<font color=\"blue\">**my questions**:</font><br>\n",
    "<li>What percentage of the pets are vaccinated?</li>\n",
    "<li>What percentage of the pets are guard or trained?</li>\n",
    "<li>What percentage of the pets are spayed or neut?</li>\n",
    "<li>What are the popular breeds?</li>\n",
    "<li>Is license issued without delay for all the owners?</li>\n",
    "<li>If there are pets with shorter duration of licence, why is it? Are there any difference by vaccination status or training status etc?</li><br>\n",
    "\n",
    "---"
   ]
  },
  {
   "cell_type": "markdown",
   "metadata": {},
   "source": [
    "# Looking at some dogs"
   ]
  },
  {
   "cell_type": "markdown",
   "metadata": {},
   "source": [
    "## What are the most popular (primary) breeds of dogs? Graph the top 10."
   ]
  },
  {
   "cell_type": "code",
   "execution_count": 16,
   "metadata": {},
   "outputs": [
    {
     "data": {
      "text/plain": [
       "Unknown                                 4777\n",
       "Yorkshire Terrier                       1882\n",
       "Shih Tzu                                1760\n",
       "Chihuahua                               1535\n",
       "Maltese                                 1133\n",
       "Labrador Retriever                      1074\n",
       "American Pit Bull Terrier/Pit Bull       780\n",
       "Labrador Retriever Crossbreed            738\n",
       "American Pit Bull Mix / Pit Bull Mix     722\n",
       "Jack Russell Terrier                     553\n",
       "Name: Primary Breed, dtype: int64"
      ]
     },
     "execution_count": 16,
     "metadata": {},
     "output_type": "execute_result"
    }
   ],
   "source": [
    "#top 10 breed\n",
    "df['Primary Breed'].value_counts().head(10)"
   ]
  },
  {
   "cell_type": "code",
   "execution_count": 20,
   "metadata": {},
   "outputs": [],
   "source": [
    "#replace 'Unknown'\n",
    "df['Primary Breed'] = df['Primary Breed'].replace('Unknown', np.nan)"
   ]
  },
  {
   "cell_type": "code",
   "execution_count": 21,
   "metadata": {},
   "outputs": [
    {
     "data": {
      "text/plain": [
       "Yorkshire Terrier                       1882\n",
       "Shih Tzu                                1760\n",
       "Chihuahua                               1535\n",
       "Maltese                                 1133\n",
       "Labrador Retriever                      1074\n",
       "American Pit Bull Terrier/Pit Bull       780\n",
       "Labrador Retriever Crossbreed            738\n",
       "American Pit Bull Mix / Pit Bull Mix     722\n",
       "Jack Russell Terrier                     553\n",
       "Beagle                                   546\n",
       "Name: Primary Breed, dtype: int64"
      ]
     },
     "execution_count": 21,
     "metadata": {},
     "output_type": "execute_result"
    }
   ],
   "source": [
    "#top 10 breed excluding unknown\n",
    "df['Primary Breed'].value_counts().head(10)"
   ]
  },
  {
   "cell_type": "code",
   "execution_count": 22,
   "metadata": {},
   "outputs": [
    {
     "data": {
      "image/png": "[encoded data removed]",
      "text/plain": [
       "<Figure size 432x288 with 1 Axes>"
      ]
     },
     "metadata": {
      "needs_background": "light"
     },
     "output_type": "display_data"
    }
   ],
   "source": [
    "#top 10 graph\n",
    "df['Primary Breed'].value_counts().head(10).sort_values().plot(kind='barh')\n",
    "plt.title('The most popular primary breeds of dogs')\n",
    "plt.show()"
   ]
  },
  {
   "cell_type": "markdown",
   "metadata": {},
   "source": [
    "## \"Unknown\" is a terrible breed! Graph the top 10 breeds that are NOT Unknown\n",
    "\n",
    "* *Tip: Maybe you want to go back to your `.read_csv` and use `na_values=`? Maybe not? Up to you!*"
   ]
  },
  {
   "cell_type": "code",
   "execution_count": 23,
   "metadata": {},
   "outputs": [],
   "source": [
    "#I have done it with 3.1"
   ]
  },
  {
   "cell_type": "markdown",
   "metadata": {},
   "source": [
    "## What are the most popular dog names?"
   ]
  },
  {
   "cell_type": "code",
   "execution_count": 26,
   "metadata": {},
   "outputs": [
    {
     "data": {
      "text/plain": [
       "UNKNOWN    203\n",
       "Max        202\n",
       "Unknown    197\n",
       "Bella      193\n",
       "Charlie    172\n",
       "Lola       146\n",
       "Rocky      140\n",
       "Lucy       128\n",
       "Coco       114\n",
       "Buddy      113\n",
       "Name: Animal Name, dtype: int64"
      ]
     },
     "execution_count": 26,
     "metadata": {},
     "output_type": "execute_result"
    }
   ],
   "source": [
    "#popular names\n",
    "df['Animal Name'].value_counts().head(10)"
   ]
  },
  {
   "cell_type": "code",
   "execution_count": 27,
   "metadata": {},
   "outputs": [],
   "source": [
    "#replace names \"Unknown\" with np.nan\n",
    "df.loc[df['Animal Name'].str.contains('unknown', case=False, na=False),'Animal Name'] =np.nan"
   ]
  },
  {
   "cell_type": "code",
   "execution_count": 28,
   "metadata": {},
   "outputs": [
    {
     "data": {
      "text/plain": [
       "Max        202\n",
       "Bella      193\n",
       "Charlie    172\n",
       "Lola       146\n",
       "Rocky      140\n",
       "Lucy       128\n",
       "Coco       114\n",
       "Buddy      113\n",
       "Lucky      106\n",
       "Daisy       90\n",
       "Name: Animal Name, dtype: int64"
      ]
     },
     "execution_count": 28,
     "metadata": {},
     "output_type": "execute_result"
    }
   ],
   "source": [
    "#popular names excluding unknown\n",
    "df['Animal Name'].value_counts().head(10)"
   ]
  },
  {
   "cell_type": "markdown",
   "metadata": {},
   "source": [
    "## Do any dogs have your name? How many dogs are named \"Max,\" and how many are named \"Maxwell\"?"
   ]
  },
  {
   "cell_type": "code",
   "execution_count": 30,
   "metadata": {},
   "outputs": [],
   "source": [
    "#cleaning data\n",
    "#strip\n",
    "df['Animal Name'] = df['Animal Name'].apply(lambda x: str(x).strip())\n",
    "df['Animal Name'] = df['Animal Name'].replace('nan', np.nan)"
   ]
  },
  {
   "cell_type": "code",
   "execution_count": 86,
   "metadata": {},
   "outputs": [
    {
     "name": "stdout",
     "output_type": "stream",
     "text": [
      "There are 504 dogs with Max names.\n",
      "\n",
      "Names:\n",
      " Max, Maximus, Maxx  AKA Carter, Maxi, MAX, max, Max Marder Klein, MAXINE, Maxwell, Maxx, Maximilian Court Krsnak, MAXIMUS, Max Fincher, MAX PEPPER, Maximillion Alberich, Maxi Rodriguez, Maximus Mushyakov, Maximilian, max torres, Max Bailey, Maxwell Miller, Max Buddy Boy, Max Troni, Maxemillian Pegases, Maxy, Blue Maxius, Max Di Marco, Maximus Von Warrior - Lemon, Max Pila, Maxflower, Max Ortiz, Maximo, Maxxie, Max Whang, MAXWELL, MAXIE, Buddy Max, Max Caminiti, Maximillia, Maximillion, MAXAILLION, BROWNIE MAXIMILIANO, MAX POWER, Max Rodriguez, Max Feldman, MAX LEAR, Max Whitfield, MAXIMUS GARCIA, Maxine, Maximus Prime Berrios, Maximus D., MAXWELL ED, Maxie, maximillion, maximus, Max Brewer, Billy Max, maxi, MAXX, Max Garcia, Lucky Max, MAX A MILL, Max Suarez, maxx, MAXI, SIR MAXIMUS LENIS, Maxine Pickles, Sparticus Maxmus Aurelis, MAX MYERS, Maxcine, Handsome Max, Maxwell Kendall, Maxximus, Maxwell Smart, Max Bollers, Maximillian, Max Deprince, Max Valdez, Levi Maximus Noble, Maxwell Beckman Donennelli, Maxzinc, Maxwell Marshall Brown, Max Snuffy, Max Henry, MAX II, Max aka Max A Million, MAXIMILIAN, Max Friedlander, Maximus Arelius Aviles, Max Nolan Pineiro, Maxee, Max Lollipop Schwabe, Maximus Lazzari, Max Yauri, MAXINE C., King Maximillion, Max Mezon, MAXIE B.W., Max Datri, Maxamillion, Max Jayden, Maxwell Star, Maxie Torres, MAX RODRIGUEZ, Maxik, MAXSBEAR PEMBERTON, MAXWELL PALISWIAT, Max Crespo, Maximus A., SamsonMaxwellWalterZane(Sammy), Max Jr, Max P.P., maxy, Shadow Max, Maximus Aurelius, MAXIMO, Maximillan\n"
     ]
    }
   ],
   "source": [
    "#all the max names\n",
    "names = df.loc[df['Animal Name'].str.contains('Max', case=False, na=False),'Animal Name'].unique()\n",
    "numbers = df[df['Animal Name'].str.contains('Max', case=False, na=False)].shape[0]\n",
    "\n",
    "print(f\"There are {numbers} dogs with Max names.\\n\")\n",
    "print('Names:\\n', ', '.join(names))"
   ]
  },
  {
   "cell_type": "code",
   "execution_count": 85,
   "metadata": {
    "scrolled": true
   },
   "outputs": [
    {
     "name": "stdout",
     "output_type": "stream",
     "text": [
      "Among them, 297 dogs are registered as 'Max'.\n",
      "\n",
      "Names:\n",
      " Max, MAX, max\n"
     ]
    }
   ],
   "source": [
    "#Only\"Max (with either upper/lowercase)\"\n",
    "names = df[df['Animal Name'].str.contains('^Max$', case=False, na=False, regex=True)]['Animal Name'].unique()\n",
    "numbers = df[df['Animal Name'].str.contains('^Max$', case=False, na=False, regex=True)].shape[0]\n",
    "\n",
    "print(f\"Among them, {numbers} dogs are registered as 'Max'.\\n\")\n",
    "print('Names:\\n', ', '.join(names))"
   ]
  },
  {
   "cell_type": "code",
   "execution_count": 79,
   "metadata": {},
   "outputs": [
    {
     "name": "stdout",
     "output_type": "stream",
     "text": [
      "25 dogs are named \"Maxwell\".\n",
      "\n",
      "Names:\n",
      " Maxwell, Maxwell Miller, MAXWELL, MAXWELL ED, Maxwell Kendall, Maxwell Smart, Maxwell Beckman Donennelli, Maxwell Marshall Brown, Maxwell Star, MAXWELL PALISWIAT, SamsonMaxwellWalterZane(Sammy)\n"
     ]
    }
   ],
   "source": [
    "#all the Maxwell names\n",
    "names = df[df['Animal Name'].str.contains('Maxwell', case=False, na=False, regex=True)]['Animal Name'].unique()\n",
    "numbers = df[df['Animal Name'].str.contains('Maxwell', case=False, na=False, regex=True)].shape[0]\n",
    "\n",
    "print(f'{numbers} dogs are named \"Maxwell\".\\n')\n",
    "print('Names:\\n', ', '.join(names))"
   ]
  },
  {
   "cell_type": "code",
   "execution_count": 84,
   "metadata": {},
   "outputs": [
    {
     "name": "stdout",
     "output_type": "stream",
     "text": [
      "Among them, 16 dogs are registered as 'Maxwell'.\n",
      "\n",
      "Names:\n",
      " Maxwell, MAXWELL\n"
     ]
    }
   ],
   "source": [
    "#Only \"Maxwell(with either upper/lowercase)\"\n",
    "names = df[df['Animal Name'].str.contains('^Maxwell$', case=False, na=False, regex=True)]['Animal Name'].unique()\n",
    "numbers = df[df['Animal Name'].str.contains('^Maxwell$', case=False, na=False, regex=True)].shape[0]\n",
    "\n",
    "print(f\"Among them, {numbers} dogs are registered as 'Maxwell'.\\n\")\n",
    "print('Names:\\n', ', '.join(names))"
   ]
  },
  {
   "cell_type": "markdown",
   "metadata": {},
   "source": [
    "## What percentage of dogs are guard dogs?"
   ]
  },
  {
   "cell_type": "code",
   "execution_count": 88,
   "metadata": {},
   "outputs": [
    {
     "data": {
      "text/plain": [
       "array(['No', nan, 'Yes'], dtype=object)"
      ]
     },
     "execution_count": 88,
     "metadata": {},
     "output_type": "execute_result"
    }
   ],
   "source": [
    "#check data\n",
    "df['Guard or Trained'].unique()"
   ]
  },
  {
   "cell_type": "code",
   "execution_count": 91,
   "metadata": {},
   "outputs": [
    {
     "data": {
      "text/plain": [
       "No     99.914254\n",
       "Yes     0.085746\n",
       "Name: Guard or Trained, dtype: float64"
      ]
     },
     "execution_count": 91,
     "metadata": {},
     "output_type": "execute_result"
    }
   ],
   "source": [
    "# percentage excluding na values\n",
    "df['Guard or Trained'].value_counts(normalize=True) *100"
   ]
  },
  {
   "cell_type": "code",
   "execution_count": 92,
   "metadata": {},
   "outputs": [
    {
     "data": {
      "text/plain": [
       "No     66.030000\n",
       "NaN    33.913333\n",
       "Yes     0.056667\n",
       "Name: Guard or Trained, dtype: float64"
      ]
     },
     "execution_count": 92,
     "metadata": {},
     "output_type": "execute_result"
    }
   ],
   "source": [
    "# percentage including na values\n",
    "df['Guard or Trained'].value_counts(dropna=False, normalize=True) *100"
   ]
  },
  {
   "cell_type": "markdown",
   "metadata": {},
   "source": [
    "## What are the actual numbers?"
   ]
  },
  {
   "cell_type": "code",
   "execution_count": 93,
   "metadata": {},
   "outputs": [
    {
     "data": {
      "text/plain": [
       "No     19809\n",
       "Yes       17\n",
       "Name: Guard or Trained, dtype: int64"
      ]
     },
     "execution_count": 93,
     "metadata": {},
     "output_type": "execute_result"
    }
   ],
   "source": [
    "df['Guard or Trained'].value_counts()"
   ]
  },
  {
   "cell_type": "markdown",
   "metadata": {},
   "source": [
    "## Wait... if you add that up, is it the same as your number of rows? Where are the other dogs???? How can we find them??????\n",
    "\n",
    "Use your `.head()` to think about it, then you'll do some magic with `.value_counts()`. Think about missing data!"
   ]
  },
  {
   "cell_type": "code",
   "execution_count": 100,
   "metadata": {},
   "outputs": [
    {
     "data": {
      "text/plain": [
       "19826"
      ]
     },
     "execution_count": 100,
     "metadata": {},
     "output_type": "execute_result"
    }
   ],
   "source": [
    "# if you add that up, is it the same as your number of rows?\n",
    "#add numbers up\n",
    "#It's NOT the same as the number of all the rows (30000)\n",
    "df['Guard or Trained'].value_counts().sum()"
   ]
  },
  {
   "cell_type": "code",
   "execution_count": 112,
   "metadata": {},
   "outputs": [
    {
     "name": "stdout",
     "output_type": "stream",
     "text": [
      "10174 are missing because they have 'na' values for 'Guard ot Trained' column.\n"
     ]
    }
   ],
   "source": [
    "#Where are the other dogs????\n",
    "print(f\"{len(df) - df['Guard or Trained'].value_counts().sum()} are missing because they have 'na' values for 'Guard ot Trained' column.\")"
   ]
  },
  {
   "cell_type": "code",
   "execution_count": 113,
   "metadata": {},
   "outputs": [
    {
     "data": {
      "text/html": [
       "<div>\n",
       "<style scoped>\n",
       "    .dataframe tbody tr th:only-of-type {\n",
       "        vertical-align: middle;\n",
       "    }\n",
       "\n",
       "    .dataframe tbody tr th {\n",
       "        vertical-align: top;\n",
       "    }\n",
       "\n",
       "    .dataframe thead th {\n",
       "        text-align: right;\n",
       "    }\n",
       "</style>\n",
       "<table border=\"1\" class=\"dataframe\">\n",
       "  <thead>\n",
       "    <tr style=\"text-align: right;\">\n",
       "      <th></th>\n",
       "      <th>Owner Zip Code</th>\n",
       "      <th>Animal Name</th>\n",
       "      <th>Animal Gender</th>\n",
       "      <th>Primary Breed</th>\n",
       "      <th>Secondary Breed</th>\n",
       "      <th>Animal Dominant Color</th>\n",
       "      <th>Animal Secondary Color</th>\n",
       "      <th>Animal Third Color</th>\n",
       "      <th>Animal Birth</th>\n",
       "      <th>Spayed or Neut</th>\n",
       "      <th>Guard or Trained</th>\n",
       "      <th>Vaccinated</th>\n",
       "      <th>Application Date</th>\n",
       "      <th>License Issued Date</th>\n",
       "      <th>License Expired Date</th>\n",
       "    </tr>\n",
       "  </thead>\n",
       "  <tbody>\n",
       "    <tr>\n",
       "      <th>2</th>\n",
       "      <td>10013</td>\n",
       "      <td>Bilal</td>\n",
       "      <td>M</td>\n",
       "      <td>Australian Cattledog</td>\n",
       "      <td>NaN</td>\n",
       "      <td>Rust</td>\n",
       "      <td>NaN</td>\n",
       "      <td>NaN</td>\n",
       "      <td>2014-09-01</td>\n",
       "      <td>Yes</td>\n",
       "      <td>NaN</td>\n",
       "      <td>No</td>\n",
       "      <td>2014-09-12 13:13:36.713</td>\n",
       "      <td>2014-09-12</td>\n",
       "      <td>2019-09-12</td>\n",
       "    </tr>\n",
       "    <tr>\n",
       "      <th>4</th>\n",
       "      <td>10013</td>\n",
       "      <td>Ali</td>\n",
       "      <td>M</td>\n",
       "      <td>Basenji</td>\n",
       "      <td>NaN</td>\n",
       "      <td>Black</td>\n",
       "      <td>NaN</td>\n",
       "      <td>NaN</td>\n",
       "      <td>2014-01-01</td>\n",
       "      <td>No</td>\n",
       "      <td>NaN</td>\n",
       "      <td>No</td>\n",
       "      <td>2014-09-12 15:43:17.707</td>\n",
       "      <td>2014-09-12</td>\n",
       "      <td>2019-09-12</td>\n",
       "    </tr>\n",
       "    <tr>\n",
       "      <th>5</th>\n",
       "      <td>10013</td>\n",
       "      <td>Queen</td>\n",
       "      <td>F</td>\n",
       "      <td>Akita Crossbreed</td>\n",
       "      <td>NaN</td>\n",
       "      <td>Charcoal</td>\n",
       "      <td>Red</td>\n",
       "      <td>NaN</td>\n",
       "      <td>2013-04-01</td>\n",
       "      <td>No</td>\n",
       "      <td>NaN</td>\n",
       "      <td>Yes</td>\n",
       "      <td>2014-09-12 16:14:48.487</td>\n",
       "      <td>2014-09-12</td>\n",
       "      <td>2017-09-12</td>\n",
       "    </tr>\n",
       "    <tr>\n",
       "      <th>6</th>\n",
       "      <td>10035</td>\n",
       "      <td>Paige Sable Orta</td>\n",
       "      <td>F</td>\n",
       "      <td>American Pit Bull Mix / Pit Bull Mix</td>\n",
       "      <td>NaN</td>\n",
       "      <td>White</td>\n",
       "      <td>Gray</td>\n",
       "      <td>NaN</td>\n",
       "      <td>2014-07-01</td>\n",
       "      <td>No</td>\n",
       "      <td>NaN</td>\n",
       "      <td>No</td>\n",
       "      <td>2014-09-12 16:22:54.113</td>\n",
       "      <td>2014-09-12</td>\n",
       "      <td>2017-09-12</td>\n",
       "    </tr>\n",
       "    <tr>\n",
       "      <th>11</th>\n",
       "      <td>11232</td>\n",
       "      <td>muneca</td>\n",
       "      <td>F</td>\n",
       "      <td>Beagle</td>\n",
       "      <td>NaN</td>\n",
       "      <td>White</td>\n",
       "      <td>Black</td>\n",
       "      <td>Brown</td>\n",
       "      <td>2013-05-01</td>\n",
       "      <td>Yes</td>\n",
       "      <td>NaN</td>\n",
       "      <td>Yes</td>\n",
       "      <td>2014-09-13 00:58:36.603</td>\n",
       "      <td>2014-09-13</td>\n",
       "      <td>2019-09-13</td>\n",
       "    </tr>\n",
       "  </tbody>\n",
       "</table>\n",
       "</div>"
      ],
      "text/plain": [
       "    Owner Zip Code       Animal Name Animal Gender  \\\n",
       "2            10013             Bilal             M   \n",
       "4            10013               Ali             M   \n",
       "5            10013             Queen             F   \n",
       "6            10035  Paige Sable Orta             F   \n",
       "11           11232            muneca             F   \n",
       "\n",
       "                           Primary Breed Secondary Breed  \\\n",
       "2                   Australian Cattledog             NaN   \n",
       "4                                Basenji             NaN   \n",
       "5                       Akita Crossbreed             NaN   \n",
       "6   American Pit Bull Mix / Pit Bull Mix             NaN   \n",
       "11                                Beagle             NaN   \n",
       "\n",
       "   Animal Dominant Color Animal Secondary Color Animal Third Color  \\\n",
       "2                   Rust                    NaN                NaN   \n",
       "4                  Black                    NaN                NaN   \n",
       "5               Charcoal                    Red                NaN   \n",
       "6                  White                   Gray                NaN   \n",
       "11                 White                  Black              Brown   \n",
       "\n",
       "   Animal Birth Spayed or Neut Guard or Trained Vaccinated  \\\n",
       "2    2014-09-01            Yes              NaN         No   \n",
       "4    2014-01-01             No              NaN         No   \n",
       "5    2013-04-01             No              NaN        Yes   \n",
       "6    2014-07-01             No              NaN         No   \n",
       "11   2013-05-01            Yes              NaN        Yes   \n",
       "\n",
       "          Application Date License Issued Date License Expired Date  \n",
       "2  2014-09-12 13:13:36.713          2014-09-12           2019-09-12  \n",
       "4  2014-09-12 15:43:17.707          2014-09-12           2019-09-12  \n",
       "5  2014-09-12 16:14:48.487          2014-09-12           2017-09-12  \n",
       "6  2014-09-12 16:22:54.113          2014-09-12           2017-09-12  \n",
       "11 2014-09-13 00:58:36.603          2014-09-13           2019-09-13  "
      ]
     },
     "execution_count": 113,
     "metadata": {},
     "output_type": "execute_result"
    }
   ],
   "source": [
    "#How can we find them??????\n",
    "#by filtering na data\n",
    "df[df['Guard or Trained'].isna()].head()"
   ]
  },
  {
   "cell_type": "markdown",
   "metadata": {},
   "source": [
    "## Maybe fill in all of those empty \"Guard or Trained\" columns with \"No\"? Or as `NaN`? \n",
    "\n",
    "Can we make an assumption either way? Then check your result with another `.value_counts()`"
   ]
  },
  {
   "cell_type": "code",
   "execution_count": 117,
   "metadata": {},
   "outputs": [
    {
     "data": {
      "text/plain": [
       "No     66.030000\n",
       "NaN    33.913333\n",
       "Yes     0.056667\n",
       "Name: Guard or Trained, dtype: float64"
      ]
     },
     "execution_count": 117,
     "metadata": {},
     "output_type": "execute_result"
    }
   ],
   "source": [
    "#Yes/No + counting NaN \n",
    "df['Guard or Trained'].value_counts(dropna=False, normalize=True) * 100"
   ]
  },
  {
   "cell_type": "code",
   "execution_count": 120,
   "metadata": {},
   "outputs": [
    {
     "data": {
      "text/plain": [
       "No     99.943333\n",
       "Yes     0.056667\n",
       "Name: Guard or Trained, dtype: float64"
      ]
     },
     "execution_count": 120,
     "metadata": {},
     "output_type": "execute_result"
    }
   ],
   "source": [
    "#counting NaN as \"No\"\n",
    "df['Guard or Trained'].fillna('No').value_counts(normalize=True) * 100"
   ]
  },
  {
   "cell_type": "markdown",
   "metadata": {},
   "source": [
    "## What are the top dog breeds for guard dogs? "
   ]
  },
  {
   "cell_type": "code",
   "execution_count": 122,
   "metadata": {},
   "outputs": [
    {
     "data": {
      "text/plain": [
       "German Shepherd Dog           3\n",
       "Poodle, Standard              1\n",
       "German Shepherd Crossbreed    1\n",
       "Labrador Retriever            1\n",
       "Doberman Pinscher             1\n",
       "Name: Primary Breed, dtype: int64"
      ]
     },
     "execution_count": 122,
     "metadata": {},
     "output_type": "execute_result"
    }
   ],
   "source": [
    "#the top dog breeds for guard dogs\n",
    "df.loc[df['Guard or Trained']=='Yes','Primary Breed'].value_counts().head(5)"
   ]
  },
  {
   "cell_type": "markdown",
   "metadata": {},
   "source": [
    "## Create a new column called \"year\" that is the dog's year of birth\n",
    "\n",
    "The `Animal Birth` column is a datetime, so you can get the year out of it with the code `df['Animal Birth'].apply(lambda birth: birth.year)`."
   ]
  },
  {
   "cell_type": "code",
   "execution_count": 123,
   "metadata": {},
   "outputs": [],
   "source": [
    "#take out year and assign it as a new column\n",
    "df['year'] = df['Animal Birth'].apply(lambda birth: birth.year)"
   ]
  },
  {
   "cell_type": "markdown",
   "metadata": {},
   "source": [
    "## Calculate a new column called “age” that shows approximately how old the dog is. How old are dogs on average?"
   ]
  },
  {
   "cell_type": "code",
   "execution_count": 124,
   "metadata": {},
   "outputs": [],
   "source": [
    "#calculate age and assign it as a new column\n",
    "df['age'] = 2022 - df.year"
   ]
  },
  {
   "cell_type": "code",
   "execution_count": 128,
   "metadata": {},
   "outputs": [
    {
     "name": "stdout",
     "output_type": "stream",
     "text": [
      "Dogs are 12.7 years old on average.\n"
     ]
    }
   ],
   "source": [
    "#average age of dogs\n",
    "print(f\"Dogs are {df.age.mean():.1f} years old on average.\")"
   ]
  },
  {
   "cell_type": "markdown",
   "metadata": {},
   "source": [
    "# Joining data together"
   ]
  },
  {
   "cell_type": "markdown",
   "metadata": {},
   "source": [
    "## Which neighborhood does each dog live in?\n",
    "\n",
    "You also have a (terrible) list of NYC neighborhoods in `zipcodes-neighborhoods.csv`. Join these two datasets together, so we know what neighborhood each dog lives in. **Be sure to not read it in as `df`, or else you'll overwrite your dogs dataframe.**"
   ]
  },
  {
   "cell_type": "code",
   "execution_count": 130,
   "metadata": {},
   "outputs": [],
   "source": [
    "#read zipcode data\n",
    "zipcode = pd.read_csv('zipcodes-neighborhoods.csv')"
   ]
  },
  {
   "cell_type": "code",
   "execution_count": 132,
   "metadata": {},
   "outputs": [
    {
     "data": {
      "text/html": [
       "<div>\n",
       "<style scoped>\n",
       "    .dataframe tbody tr th:only-of-type {\n",
       "        vertical-align: middle;\n",
       "    }\n",
       "\n",
       "    .dataframe tbody tr th {\n",
       "        vertical-align: top;\n",
       "    }\n",
       "\n",
       "    .dataframe thead th {\n",
       "        text-align: right;\n",
       "    }\n",
       "</style>\n",
       "<table border=\"1\" class=\"dataframe\">\n",
       "  <thead>\n",
       "    <tr style=\"text-align: right;\">\n",
       "      <th></th>\n",
       "      <th>neighborhood</th>\n",
       "      <th>zip</th>\n",
       "      <th>borough</th>\n",
       "    </tr>\n",
       "  </thead>\n",
       "  <tbody>\n",
       "    <tr>\n",
       "      <th>0</th>\n",
       "      <td>Central Bronx</td>\n",
       "      <td>10453</td>\n",
       "      <td>Bronx</td>\n",
       "    </tr>\n",
       "    <tr>\n",
       "      <th>1</th>\n",
       "      <td>Central Bronx</td>\n",
       "      <td>10457</td>\n",
       "      <td>Bronx</td>\n",
       "    </tr>\n",
       "    <tr>\n",
       "      <th>2</th>\n",
       "      <td>Central Bronx</td>\n",
       "      <td>10460</td>\n",
       "      <td>Bronx</td>\n",
       "    </tr>\n",
       "    <tr>\n",
       "      <th>3</th>\n",
       "      <td>Bronx Park and Fordham</td>\n",
       "      <td>10458</td>\n",
       "      <td>Bronx</td>\n",
       "    </tr>\n",
       "    <tr>\n",
       "      <th>4</th>\n",
       "      <td>Bronx Park and Fordham</td>\n",
       "      <td>10467</td>\n",
       "      <td>Bronx</td>\n",
       "    </tr>\n",
       "  </tbody>\n",
       "</table>\n",
       "</div>"
      ],
      "text/plain": [
       "             neighborhood    zip borough\n",
       "0           Central Bronx  10453   Bronx\n",
       "1           Central Bronx  10457   Bronx\n",
       "2           Central Bronx  10460   Bronx\n",
       "3  Bronx Park and Fordham  10458   Bronx\n",
       "4  Bronx Park and Fordham  10467   Bronx"
      ]
     },
     "execution_count": 132,
     "metadata": {},
     "output_type": "execute_result"
    }
   ],
   "source": [
    "#check data\n",
    "zipcode.head()"
   ]
  },
  {
   "cell_type": "code",
   "execution_count": 134,
   "metadata": {},
   "outputs": [
    {
     "data": {
      "text/plain": [
       "neighborhood    object\n",
       "zip              int64\n",
       "borough         object\n",
       "dtype: object"
      ]
     },
     "execution_count": 134,
     "metadata": {},
     "output_type": "execute_result"
    }
   ],
   "source": [
    "#check data types\n",
    "zipcode.dtypes"
   ]
  },
  {
   "cell_type": "code",
   "execution_count": 135,
   "metadata": {},
   "outputs": [
    {
     "data": {
      "text/plain": [
       "array(['Bronx', 'Brooklyn', 'Manhattan', 'Queens', 'Staten Island'],\n",
       "      dtype=object)"
      ]
     },
     "execution_count": 135,
     "metadata": {},
     "output_type": "execute_result"
    }
   ],
   "source": [
    "#check data in borough column\n",
    "zipcode.borough.unique()"
   ]
  },
  {
   "cell_type": "code",
   "execution_count": 136,
   "metadata": {},
   "outputs": [
    {
     "data": {
      "text/plain": [
       "array(['Central Bronx', 'Bronx Park and Fordham',\n",
       "       'High Bridge and Morrisania', 'Hunts Point and Mott Haven',\n",
       "       'Kingsbridge and Riverdale', 'Northeast Bronx', 'Southeast Bronx',\n",
       "       'Central Brooklyn', 'Southwest Brooklyn', 'Borough Park',\n",
       "       'Canarsie and Flatlands', 'Southern Brooklyn',\n",
       "       'Northwest Brooklyn', 'Flatbush', 'East New York and New Lots',\n",
       "       'Greenpoint', 'Sunset Park', 'Bushwick and Williamsburg',\n",
       "       'Central Harlem', 'Chelsea and Clinton', 'East Harlem',\n",
       "       'Gramercy Park and Murray Hill', 'Greenwich Village and Soho',\n",
       "       'Lower Manhattan', 'Lower East Side', 'Upper East Side',\n",
       "       'Upper West Side', 'Inwood and Washington Heights',\n",
       "       'Northeast Queens', 'North Queens', 'Central Queens', 'Jamaica',\n",
       "       'Northwest Queens', 'West Central Queens', 'Rockaways',\n",
       "       'Southeast Queens', 'Southwest Queens', 'West Queens',\n",
       "       'Port Richmond', 'South Shore', 'Stapleton and St. George',\n",
       "       'Mid-Island'], dtype=object)"
      ]
     },
     "execution_count": 136,
     "metadata": {},
     "output_type": "execute_result"
    }
   ],
   "source": [
    "#check data in neighborhood column\n",
    "zipcode.neighborhood.unique()"
   ]
  },
  {
   "cell_type": "code",
   "execution_count": 137,
   "metadata": {},
   "outputs": [],
   "source": [
    "#merge data\n",
    "df = df.merge(zipcode, left_on='Owner Zip Code', right_on='zip')"
   ]
  },
  {
   "cell_type": "code",
   "execution_count": 139,
   "metadata": {},
   "outputs": [
    {
     "data": {
      "text/html": [
       "<div>\n",
       "<style scoped>\n",
       "    .dataframe tbody tr th:only-of-type {\n",
       "        vertical-align: middle;\n",
       "    }\n",
       "\n",
       "    .dataframe tbody tr th {\n",
       "        vertical-align: top;\n",
       "    }\n",
       "\n",
       "    .dataframe thead th {\n",
       "        text-align: right;\n",
       "    }\n",
       "</style>\n",
       "<table border=\"1\" class=\"dataframe\">\n",
       "  <thead>\n",
       "    <tr style=\"text-align: right;\">\n",
       "      <th></th>\n",
       "      <th>Owner Zip Code</th>\n",
       "      <th>Animal Name</th>\n",
       "      <th>Animal Gender</th>\n",
       "      <th>Primary Breed</th>\n",
       "      <th>Secondary Breed</th>\n",
       "      <th>Animal Dominant Color</th>\n",
       "      <th>Animal Secondary Color</th>\n",
       "      <th>Animal Third Color</th>\n",
       "      <th>Animal Birth</th>\n",
       "      <th>Spayed or Neut</th>\n",
       "      <th>Guard or Trained</th>\n",
       "      <th>Vaccinated</th>\n",
       "      <th>Application Date</th>\n",
       "      <th>License Issued Date</th>\n",
       "      <th>License Expired Date</th>\n",
       "      <th>year</th>\n",
       "      <th>age</th>\n",
       "      <th>neighborhood</th>\n",
       "      <th>zip</th>\n",
       "      <th>borough</th>\n",
       "    </tr>\n",
       "  </thead>\n",
       "  <tbody>\n",
       "    <tr>\n",
       "      <th>0</th>\n",
       "      <td>10024</td>\n",
       "      <td>BLUE MACK</td>\n",
       "      <td>M</td>\n",
       "      <td>NaN</td>\n",
       "      <td>AIREDALE TERR</td>\n",
       "      <td>BROWN</td>\n",
       "      <td>BLACK</td>\n",
       "      <td>NaN</td>\n",
       "      <td>2007-11-01</td>\n",
       "      <td>Yes</td>\n",
       "      <td>No</td>\n",
       "      <td>Yes</td>\n",
       "      <td>2012-09-19 16:01:19.647</td>\n",
       "      <td>2015-09-19</td>\n",
       "      <td>2016-09-19</td>\n",
       "      <td>2007</td>\n",
       "      <td>15</td>\n",
       "      <td>Upper West Side</td>\n",
       "      <td>10024</td>\n",
       "      <td>Manhattan</td>\n",
       "    </tr>\n",
       "    <tr>\n",
       "      <th>1</th>\n",
       "      <td>10024</td>\n",
       "      <td>Louie</td>\n",
       "      <td>M</td>\n",
       "      <td>NaN</td>\n",
       "      <td>Coonhound</td>\n",
       "      <td>Black</td>\n",
       "      <td>White</td>\n",
       "      <td>Brown</td>\n",
       "      <td>2008-05-01</td>\n",
       "      <td>Yes</td>\n",
       "      <td>No</td>\n",
       "      <td>Yes</td>\n",
       "      <td>2014-09-15 16:36:20.200</td>\n",
       "      <td>2014-09-15</td>\n",
       "      <td>2017-09-03</td>\n",
       "      <td>2008</td>\n",
       "      <td>14</td>\n",
       "      <td>Upper West Side</td>\n",
       "      <td>10024</td>\n",
       "      <td>Manhattan</td>\n",
       "    </tr>\n",
       "    <tr>\n",
       "      <th>2</th>\n",
       "      <td>10024</td>\n",
       "      <td>Tosha</td>\n",
       "      <td>F</td>\n",
       "      <td>Collie, Smooth Coat</td>\n",
       "      <td>NaN</td>\n",
       "      <td>BLUE MERLE</td>\n",
       "      <td>WHITE</td>\n",
       "      <td>TAN</td>\n",
       "      <td>2011-12-01</td>\n",
       "      <td>Yes</td>\n",
       "      <td>No</td>\n",
       "      <td>Yes</td>\n",
       "      <td>2014-09-16 10:22:07.867</td>\n",
       "      <td>2014-09-16</td>\n",
       "      <td>2017-10-11</td>\n",
       "      <td>2011</td>\n",
       "      <td>11</td>\n",
       "      <td>Upper West Side</td>\n",
       "      <td>10024</td>\n",
       "      <td>Manhattan</td>\n",
       "    </tr>\n",
       "    <tr>\n",
       "      <th>3</th>\n",
       "      <td>10024</td>\n",
       "      <td>Poppett</td>\n",
       "      <td>F</td>\n",
       "      <td>Dachshund, Long Haired Miniature</td>\n",
       "      <td>NaN</td>\n",
       "      <td>Black</td>\n",
       "      <td>Brown</td>\n",
       "      <td>Silver</td>\n",
       "      <td>2011-02-01</td>\n",
       "      <td>Yes</td>\n",
       "      <td>NaN</td>\n",
       "      <td>Yes</td>\n",
       "      <td>2014-09-18 16:25:57.323</td>\n",
       "      <td>2014-09-18</td>\n",
       "      <td>2019-09-18</td>\n",
       "      <td>2011</td>\n",
       "      <td>11</td>\n",
       "      <td>Upper West Side</td>\n",
       "      <td>10024</td>\n",
       "      <td>Manhattan</td>\n",
       "    </tr>\n",
       "    <tr>\n",
       "      <th>4</th>\n",
       "      <td>10024</td>\n",
       "      <td>Harlen</td>\n",
       "      <td>M</td>\n",
       "      <td>NaN</td>\n",
       "      <td>Plott Hound</td>\n",
       "      <td>BLACK</td>\n",
       "      <td>TAN</td>\n",
       "      <td>BROWN</td>\n",
       "      <td>2007-05-01</td>\n",
       "      <td>Yes</td>\n",
       "      <td>No</td>\n",
       "      <td>Yes</td>\n",
       "      <td>2014-09-25 17:11:20.713</td>\n",
       "      <td>2014-09-25</td>\n",
       "      <td>2016-08-20</td>\n",
       "      <td>2007</td>\n",
       "      <td>15</td>\n",
       "      <td>Upper West Side</td>\n",
       "      <td>10024</td>\n",
       "      <td>Manhattan</td>\n",
       "    </tr>\n",
       "  </tbody>\n",
       "</table>\n",
       "</div>"
      ],
      "text/plain": [
       "   Owner Zip Code Animal Name Animal Gender                     Primary Breed  \\\n",
       "0           10024   BLUE MACK             M                               NaN   \n",
       "1           10024       Louie             M                               NaN   \n",
       "2           10024       Tosha             F               Collie, Smooth Coat   \n",
       "3           10024     Poppett             F  Dachshund, Long Haired Miniature   \n",
       "4           10024      Harlen             M                               NaN   \n",
       "\n",
       "  Secondary Breed Animal Dominant Color Animal Secondary Color  \\\n",
       "0   AIREDALE TERR                 BROWN                  BLACK   \n",
       "1       Coonhound                 Black                  White   \n",
       "2             NaN            BLUE MERLE                  WHITE   \n",
       "3             NaN                 Black                  Brown   \n",
       "4     Plott Hound                 BLACK                    TAN   \n",
       "\n",
       "  Animal Third Color Animal Birth Spayed or Neut Guard or Trained Vaccinated  \\\n",
       "0                NaN   2007-11-01            Yes               No        Yes   \n",
       "1              Brown   2008-05-01            Yes               No        Yes   \n",
       "2                TAN   2011-12-01            Yes               No        Yes   \n",
       "3             Silver   2011-02-01            Yes              NaN        Yes   \n",
       "4              BROWN   2007-05-01            Yes               No        Yes   \n",
       "\n",
       "         Application Date License Issued Date License Expired Date  year  age  \\\n",
       "0 2012-09-19 16:01:19.647          2015-09-19           2016-09-19  2007   15   \n",
       "1 2014-09-15 16:36:20.200          2014-09-15           2017-09-03  2008   14   \n",
       "2 2014-09-16 10:22:07.867          2014-09-16           2017-10-11  2011   11   \n",
       "3 2014-09-18 16:25:57.323          2014-09-18           2019-09-18  2011   11   \n",
       "4 2014-09-25 17:11:20.713          2014-09-25           2016-08-20  2007   15   \n",
       "\n",
       "      neighborhood    zip    borough  \n",
       "0  Upper West Side  10024  Manhattan  \n",
       "1  Upper West Side  10024  Manhattan  \n",
       "2  Upper West Side  10024  Manhattan  \n",
       "3  Upper West Side  10024  Manhattan  \n",
       "4  Upper West Side  10024  Manhattan  "
      ]
     },
     "execution_count": 139,
     "metadata": {},
     "output_type": "execute_result"
    }
   ],
   "source": [
    "#check merged data\n",
    "df.head()"
   ]
  },
  {
   "cell_type": "markdown",
   "metadata": {},
   "source": [
    "## What is the most popular dog name in all parts of the Bronx? How about Brooklyn? The Upper East Side?\n",
    "\n",
    "You'll want to do these separately, and filter for each."
   ]
  },
  {
   "cell_type": "code",
   "execution_count": 140,
   "metadata": {},
   "outputs": [
    {
     "data": {
      "text/plain": [
       "Rocky       23\n",
       "Bella       23\n",
       "Max         21\n",
       "Princess    17\n",
       "Lucky       15\n",
       "Name: Animal Name, dtype: int64"
      ]
     },
     "execution_count": 140,
     "metadata": {},
     "output_type": "execute_result"
    }
   ],
   "source": [
    "#What is the most popular dog name in all parts of the Bronx?\n",
    "df[df.borough=='Bronx']['Animal Name'].value_counts().head()"
   ]
  },
  {
   "cell_type": "code",
   "execution_count": 141,
   "metadata": {},
   "outputs": [
    {
     "data": {
      "text/plain": [
       "Max        52\n",
       "Bella      46\n",
       "Charlie    43\n",
       "Rocky      39\n",
       "Lucy       37\n",
       "Name: Animal Name, dtype: int64"
      ]
     },
     "execution_count": 141,
     "metadata": {},
     "output_type": "execute_result"
    }
   ],
   "source": [
    "#How about Brooklyn? \n",
    "df[df.borough=='Brooklyn']['Animal Name'].value_counts().head()"
   ]
  },
  {
   "cell_type": "code",
   "execution_count": 142,
   "metadata": {},
   "outputs": [
    {
     "data": {
      "text/plain": [
       "Charlie    19\n",
       "Bella      13\n",
       "Lola       11\n",
       "NO NAME    11\n",
       "Lucy       11\n",
       "Name: Animal Name, dtype: int64"
      ]
     },
     "execution_count": 142,
     "metadata": {},
     "output_type": "execute_result"
    }
   ],
   "source": [
    "#The Upper East Side?\n",
    "df[df.neighborhood=='Upper East Side']['Animal Name'].value_counts().head()"
   ]
  },
  {
   "cell_type": "markdown",
   "metadata": {},
   "source": [
    "## What is the most common dog breed in each of the neighborhoods of NYC?\n",
    "\n",
    "* *Tip: There are a few ways to do this, and some are awful (see the \"top 5 breeds in each borough\" question below).*"
   ]
  },
  {
   "cell_type": "code",
   "execution_count": 166,
   "metadata": {},
   "outputs": [],
   "source": [
    "#counting numbers of dogs of each breed in each neighborhoods\n",
    "breed_count = df.groupby(['neighborhood','Primary Breed']).count().borough.unstack()"
   ]
  },
  {
   "cell_type": "code",
   "execution_count": 167,
   "metadata": {},
   "outputs": [],
   "source": [
    "#rank by number\n",
    "breed_rank = breed_count.rank(method=\"min\",ascending=False, axis=1)"
   ]
  },
  {
   "cell_type": "code",
   "execution_count": 186,
   "metadata": {},
   "outputs": [],
   "source": [
    "#top5 table\n",
    "breed_top5 = breed_rank.where(breed_rank<=5)\n",
    "breed_top5 = breed_top5.dropna(how=\"all\").dropna(how=\"all\",axis=1)"
   ]
  },
  {
   "cell_type": "code",
   "execution_count": 197,
   "metadata": {},
   "outputs": [
    {
     "data": {
      "text/html": [
       "<div>\n",
       "<style scoped>\n",
       "    .dataframe tbody tr th:only-of-type {\n",
       "        vertical-align: middle;\n",
       "    }\n",
       "\n",
       "    .dataframe tbody tr th {\n",
       "        vertical-align: top;\n",
       "    }\n",
       "\n",
       "    .dataframe thead th {\n",
       "        text-align: right;\n",
       "    }\n",
       "</style>\n",
       "<table border=\"1\" class=\"dataframe\">\n",
       "  <thead>\n",
       "    <tr style=\"text-align: right;\">\n",
       "      <th>Primary Breed</th>\n",
       "      <th>Yorkshire Terrier</th>\n",
       "      <th>Shih Tzu</th>\n",
       "      <th>Havanese</th>\n",
       "      <th>Chihuahua</th>\n",
       "      <th>Bull Dog, French</th>\n",
       "      <th>Maltese</th>\n",
       "      <th>Labrador Retriever</th>\n",
       "      <th>American Pit Bull Terrier/Pit Bull</th>\n",
       "      <th>Labrador Retriever Crossbreed</th>\n",
       "      <th>American Pit Bull Mix / Pit Bull Mix</th>\n",
       "      <th>Beagle</th>\n",
       "      <th>Cavalier King Charles Spaniel</th>\n",
       "      <th>German Shepherd Dog</th>\n",
       "      <th>Jack Russell Terrier</th>\n",
       "      <th>Pug</th>\n",
       "    </tr>\n",
       "    <tr>\n",
       "      <th>neighborhood</th>\n",
       "      <th></th>\n",
       "      <th></th>\n",
       "      <th></th>\n",
       "      <th></th>\n",
       "      <th></th>\n",
       "      <th></th>\n",
       "      <th></th>\n",
       "      <th></th>\n",
       "      <th></th>\n",
       "      <th></th>\n",
       "      <th></th>\n",
       "      <th></th>\n",
       "      <th></th>\n",
       "      <th></th>\n",
       "      <th></th>\n",
       "    </tr>\n",
       "  </thead>\n",
       "  <tbody>\n",
       "    <tr>\n",
       "      <th>Borough Park</th>\n",
       "      <td>1.0</td>\n",
       "      <td>2.0</td>\n",
       "      <td></td>\n",
       "      <td>4.0</td>\n",
       "      <td></td>\n",
       "      <td>2.0</td>\n",
       "      <td>5.0</td>\n",
       "      <td></td>\n",
       "      <td></td>\n",
       "      <td></td>\n",
       "      <td></td>\n",
       "      <td></td>\n",
       "      <td></td>\n",
       "      <td></td>\n",
       "      <td></td>\n",
       "    </tr>\n",
       "    <tr>\n",
       "      <th>Bronx Park and Fordham</th>\n",
       "      <td>1.0</td>\n",
       "      <td>2.0</td>\n",
       "      <td></td>\n",
       "      <td>3.0</td>\n",
       "      <td></td>\n",
       "      <td>5.0</td>\n",
       "      <td></td>\n",
       "      <td>4.0</td>\n",
       "      <td></td>\n",
       "      <td></td>\n",
       "      <td></td>\n",
       "      <td></td>\n",
       "      <td></td>\n",
       "      <td></td>\n",
       "      <td></td>\n",
       "    </tr>\n",
       "    <tr>\n",
       "      <th>Bushwick and Williamsburg</th>\n",
       "      <td>1.0</td>\n",
       "      <td>2.0</td>\n",
       "      <td></td>\n",
       "      <td>2.0</td>\n",
       "      <td></td>\n",
       "      <td></td>\n",
       "      <td></td>\n",
       "      <td>4.0</td>\n",
       "      <td></td>\n",
       "      <td>5.0</td>\n",
       "      <td></td>\n",
       "      <td></td>\n",
       "      <td></td>\n",
       "      <td></td>\n",
       "      <td></td>\n",
       "    </tr>\n",
       "    <tr>\n",
       "      <th>Canarsie and Flatlands</th>\n",
       "      <td>2.0</td>\n",
       "      <td>1.0</td>\n",
       "      <td></td>\n",
       "      <td>4.0</td>\n",
       "      <td></td>\n",
       "      <td>3.0</td>\n",
       "      <td></td>\n",
       "      <td></td>\n",
       "      <td></td>\n",
       "      <td>5.0</td>\n",
       "      <td></td>\n",
       "      <td></td>\n",
       "      <td></td>\n",
       "      <td></td>\n",
       "      <td></td>\n",
       "    </tr>\n",
       "    <tr>\n",
       "      <th>Central Bronx</th>\n",
       "      <td>1.0</td>\n",
       "      <td>2.0</td>\n",
       "      <td></td>\n",
       "      <td>3.0</td>\n",
       "      <td></td>\n",
       "      <td>5.0</td>\n",
       "      <td></td>\n",
       "      <td>3.0</td>\n",
       "      <td></td>\n",
       "      <td></td>\n",
       "      <td></td>\n",
       "      <td></td>\n",
       "      <td></td>\n",
       "      <td></td>\n",
       "      <td></td>\n",
       "    </tr>\n",
       "    <tr>\n",
       "      <th>Central Brooklyn</th>\n",
       "      <td>2.0</td>\n",
       "      <td>1.0</td>\n",
       "      <td></td>\n",
       "      <td>5.0</td>\n",
       "      <td></td>\n",
       "      <td></td>\n",
       "      <td></td>\n",
       "      <td>3.0</td>\n",
       "      <td></td>\n",
       "      <td>4.0</td>\n",
       "      <td></td>\n",
       "      <td></td>\n",
       "      <td></td>\n",
       "      <td></td>\n",
       "      <td></td>\n",
       "    </tr>\n",
       "    <tr>\n",
       "      <th>Central Harlem</th>\n",
       "      <td>2.0</td>\n",
       "      <td>3.0</td>\n",
       "      <td></td>\n",
       "      <td>1.0</td>\n",
       "      <td></td>\n",
       "      <td></td>\n",
       "      <td></td>\n",
       "      <td>5.0</td>\n",
       "      <td></td>\n",
       "      <td>4.0</td>\n",
       "      <td></td>\n",
       "      <td></td>\n",
       "      <td></td>\n",
       "      <td></td>\n",
       "      <td></td>\n",
       "    </tr>\n",
       "    <tr>\n",
       "      <th>Central Queens</th>\n",
       "      <td>1.0</td>\n",
       "      <td>2.0</td>\n",
       "      <td></td>\n",
       "      <td>5.0</td>\n",
       "      <td></td>\n",
       "      <td>3.0</td>\n",
       "      <td>4.0</td>\n",
       "      <td></td>\n",
       "      <td></td>\n",
       "      <td></td>\n",
       "      <td></td>\n",
       "      <td></td>\n",
       "      <td></td>\n",
       "      <td></td>\n",
       "      <td></td>\n",
       "    </tr>\n",
       "    <tr>\n",
       "      <th>Chelsea and Clinton</th>\n",
       "      <td>2.0</td>\n",
       "      <td>3.0</td>\n",
       "      <td></td>\n",
       "      <td>1.0</td>\n",
       "      <td></td>\n",
       "      <td></td>\n",
       "      <td>4.0</td>\n",
       "      <td></td>\n",
       "      <td></td>\n",
       "      <td></td>\n",
       "      <td></td>\n",
       "      <td></td>\n",
       "      <td></td>\n",
       "      <td>5.0</td>\n",
       "      <td></td>\n",
       "    </tr>\n",
       "    <tr>\n",
       "      <th>East Harlem</th>\n",
       "      <td>1.0</td>\n",
       "      <td>2.0</td>\n",
       "      <td></td>\n",
       "      <td>3.0</td>\n",
       "      <td></td>\n",
       "      <td>4.0</td>\n",
       "      <td></td>\n",
       "      <td>5.0</td>\n",
       "      <td></td>\n",
       "      <td>5.0</td>\n",
       "      <td></td>\n",
       "      <td></td>\n",
       "      <td></td>\n",
       "      <td></td>\n",
       "      <td></td>\n",
       "    </tr>\n",
       "    <tr>\n",
       "      <th>East New York and New Lots</th>\n",
       "      <td>1.0</td>\n",
       "      <td>4.0</td>\n",
       "      <td></td>\n",
       "      <td>2.0</td>\n",
       "      <td></td>\n",
       "      <td></td>\n",
       "      <td></td>\n",
       "      <td>2.0</td>\n",
       "      <td></td>\n",
       "      <td>5.0</td>\n",
       "      <td></td>\n",
       "      <td></td>\n",
       "      <td></td>\n",
       "      <td></td>\n",
       "      <td></td>\n",
       "    </tr>\n",
       "    <tr>\n",
       "      <th>Flatbush</th>\n",
       "      <td>2.0</td>\n",
       "      <td>1.0</td>\n",
       "      <td></td>\n",
       "      <td>5.0</td>\n",
       "      <td></td>\n",
       "      <td></td>\n",
       "      <td></td>\n",
       "      <td>4.0</td>\n",
       "      <td></td>\n",
       "      <td>3.0</td>\n",
       "      <td></td>\n",
       "      <td></td>\n",
       "      <td></td>\n",
       "      <td></td>\n",
       "      <td></td>\n",
       "    </tr>\n",
       "    <tr>\n",
       "      <th>Gramercy Park and Murray Hill</th>\n",
       "      <td>1.0</td>\n",
       "      <td>2.0</td>\n",
       "      <td>4.0</td>\n",
       "      <td>3.0</td>\n",
       "      <td></td>\n",
       "      <td>5.0</td>\n",
       "      <td></td>\n",
       "      <td></td>\n",
       "      <td></td>\n",
       "      <td></td>\n",
       "      <td></td>\n",
       "      <td></td>\n",
       "      <td></td>\n",
       "      <td></td>\n",
       "      <td></td>\n",
       "    </tr>\n",
       "    <tr>\n",
       "      <th>Greenpoint</th>\n",
       "      <td>3.0</td>\n",
       "      <td>2.0</td>\n",
       "      <td></td>\n",
       "      <td>1.0</td>\n",
       "      <td></td>\n",
       "      <td></td>\n",
       "      <td>5.0</td>\n",
       "      <td></td>\n",
       "      <td>4.0</td>\n",
       "      <td>5.0</td>\n",
       "      <td></td>\n",
       "      <td></td>\n",
       "      <td></td>\n",
       "      <td></td>\n",
       "      <td></td>\n",
       "    </tr>\n",
       "    <tr>\n",
       "      <th>Greenwich Village and Soho</th>\n",
       "      <td>2.0</td>\n",
       "      <td></td>\n",
       "      <td></td>\n",
       "      <td>4.0</td>\n",
       "      <td>3.0</td>\n",
       "      <td></td>\n",
       "      <td>1.0</td>\n",
       "      <td></td>\n",
       "      <td>5.0</td>\n",
       "      <td></td>\n",
       "      <td></td>\n",
       "      <td></td>\n",
       "      <td></td>\n",
       "      <td></td>\n",
       "      <td></td>\n",
       "    </tr>\n",
       "    <tr>\n",
       "      <th>High Bridge and Morrisania</th>\n",
       "      <td>4.0</td>\n",
       "      <td>1.0</td>\n",
       "      <td></td>\n",
       "      <td>2.0</td>\n",
       "      <td></td>\n",
       "      <td>5.0</td>\n",
       "      <td></td>\n",
       "      <td>3.0</td>\n",
       "      <td></td>\n",
       "      <td></td>\n",
       "      <td></td>\n",
       "      <td></td>\n",
       "      <td></td>\n",
       "      <td></td>\n",
       "      <td></td>\n",
       "    </tr>\n",
       "    <tr>\n",
       "      <th>Hunts Point and Mott Haven</th>\n",
       "      <td>2.0</td>\n",
       "      <td>4.0</td>\n",
       "      <td></td>\n",
       "      <td>1.0</td>\n",
       "      <td></td>\n",
       "      <td>5.0</td>\n",
       "      <td></td>\n",
       "      <td>3.0</td>\n",
       "      <td></td>\n",
       "      <td></td>\n",
       "      <td></td>\n",
       "      <td></td>\n",
       "      <td></td>\n",
       "      <td></td>\n",
       "      <td></td>\n",
       "    </tr>\n",
       "    <tr>\n",
       "      <th>Inwood and Washington Heights</th>\n",
       "      <td>2.0</td>\n",
       "      <td>3.0</td>\n",
       "      <td></td>\n",
       "      <td>1.0</td>\n",
       "      <td></td>\n",
       "      <td>4.0</td>\n",
       "      <td></td>\n",
       "      <td></td>\n",
       "      <td></td>\n",
       "      <td>5.0</td>\n",
       "      <td></td>\n",
       "      <td></td>\n",
       "      <td></td>\n",
       "      <td></td>\n",
       "      <td></td>\n",
       "    </tr>\n",
       "    <tr>\n",
       "      <th>Jamaica</th>\n",
       "      <td>1.0</td>\n",
       "      <td>2.0</td>\n",
       "      <td></td>\n",
       "      <td>4.0</td>\n",
       "      <td></td>\n",
       "      <td>3.0</td>\n",
       "      <td></td>\n",
       "      <td></td>\n",
       "      <td></td>\n",
       "      <td>5.0</td>\n",
       "      <td></td>\n",
       "      <td></td>\n",
       "      <td></td>\n",
       "      <td></td>\n",
       "      <td></td>\n",
       "    </tr>\n",
       "    <tr>\n",
       "      <th>Kingsbridge and Riverdale</th>\n",
       "      <td>2.0</td>\n",
       "      <td>1.0</td>\n",
       "      <td></td>\n",
       "      <td>2.0</td>\n",
       "      <td></td>\n",
       "      <td>4.0</td>\n",
       "      <td></td>\n",
       "      <td></td>\n",
       "      <td></td>\n",
       "      <td></td>\n",
       "      <td></td>\n",
       "      <td></td>\n",
       "      <td></td>\n",
       "      <td>5.0</td>\n",
       "      <td></td>\n",
       "    </tr>\n",
       "    <tr>\n",
       "      <th>Lower East Side</th>\n",
       "      <td>2.0</td>\n",
       "      <td>3.0</td>\n",
       "      <td></td>\n",
       "      <td>1.0</td>\n",
       "      <td></td>\n",
       "      <td>4.0</td>\n",
       "      <td></td>\n",
       "      <td></td>\n",
       "      <td>5.0</td>\n",
       "      <td></td>\n",
       "      <td></td>\n",
       "      <td></td>\n",
       "      <td></td>\n",
       "      <td></td>\n",
       "      <td></td>\n",
       "    </tr>\n",
       "    <tr>\n",
       "      <th>Lower Manhattan</th>\n",
       "      <td>2.0</td>\n",
       "      <td>1.0</td>\n",
       "      <td></td>\n",
       "      <td>3.0</td>\n",
       "      <td></td>\n",
       "      <td></td>\n",
       "      <td>4.0</td>\n",
       "      <td></td>\n",
       "      <td></td>\n",
       "      <td></td>\n",
       "      <td></td>\n",
       "      <td>5.0</td>\n",
       "      <td></td>\n",
       "      <td></td>\n",
       "      <td></td>\n",
       "    </tr>\n",
       "    <tr>\n",
       "      <th>Mid-Island</th>\n",
       "      <td>1.0</td>\n",
       "      <td>2.0</td>\n",
       "      <td></td>\n",
       "      <td></td>\n",
       "      <td></td>\n",
       "      <td>4.0</td>\n",
       "      <td>3.0</td>\n",
       "      <td></td>\n",
       "      <td></td>\n",
       "      <td></td>\n",
       "      <td>5.0</td>\n",
       "      <td></td>\n",
       "      <td></td>\n",
       "      <td></td>\n",
       "      <td></td>\n",
       "    </tr>\n",
       "    <tr>\n",
       "      <th>North Queens</th>\n",
       "      <td>2.0</td>\n",
       "      <td>3.0</td>\n",
       "      <td></td>\n",
       "      <td>4.0</td>\n",
       "      <td></td>\n",
       "      <td>1.0</td>\n",
       "      <td></td>\n",
       "      <td></td>\n",
       "      <td></td>\n",
       "      <td></td>\n",
       "      <td></td>\n",
       "      <td></td>\n",
       "      <td>5.0</td>\n",
       "      <td></td>\n",
       "      <td></td>\n",
       "    </tr>\n",
       "    <tr>\n",
       "      <th>Northeast Bronx</th>\n",
       "      <td>1.0</td>\n",
       "      <td>2.0</td>\n",
       "      <td></td>\n",
       "      <td></td>\n",
       "      <td></td>\n",
       "      <td>3.0</td>\n",
       "      <td></td>\n",
       "      <td>5.0</td>\n",
       "      <td></td>\n",
       "      <td>4.0</td>\n",
       "      <td></td>\n",
       "      <td></td>\n",
       "      <td></td>\n",
       "      <td></td>\n",
       "      <td></td>\n",
       "    </tr>\n",
       "    <tr>\n",
       "      <th>Northeast Queens</th>\n",
       "      <td>3.0</td>\n",
       "      <td>2.0</td>\n",
       "      <td></td>\n",
       "      <td>5.0</td>\n",
       "      <td></td>\n",
       "      <td>1.0</td>\n",
       "      <td>5.0</td>\n",
       "      <td></td>\n",
       "      <td>4.0</td>\n",
       "      <td></td>\n",
       "      <td></td>\n",
       "      <td></td>\n",
       "      <td></td>\n",
       "      <td></td>\n",
       "      <td></td>\n",
       "    </tr>\n",
       "    <tr>\n",
       "      <th>Northwest Brooklyn</th>\n",
       "      <td>4.0</td>\n",
       "      <td>5.0</td>\n",
       "      <td></td>\n",
       "      <td>3.0</td>\n",
       "      <td></td>\n",
       "      <td></td>\n",
       "      <td>1.0</td>\n",
       "      <td></td>\n",
       "      <td>2.0</td>\n",
       "      <td></td>\n",
       "      <td></td>\n",
       "      <td></td>\n",
       "      <td></td>\n",
       "      <td></td>\n",
       "      <td></td>\n",
       "    </tr>\n",
       "    <tr>\n",
       "      <th>Northwest Queens</th>\n",
       "      <td>2.0</td>\n",
       "      <td>3.0</td>\n",
       "      <td></td>\n",
       "      <td>1.0</td>\n",
       "      <td></td>\n",
       "      <td>4.0</td>\n",
       "      <td>5.0</td>\n",
       "      <td></td>\n",
       "      <td></td>\n",
       "      <td></td>\n",
       "      <td></td>\n",
       "      <td></td>\n",
       "      <td></td>\n",
       "      <td></td>\n",
       "      <td></td>\n",
       "    </tr>\n",
       "    <tr>\n",
       "      <th>Port Richmond</th>\n",
       "      <td>1.0</td>\n",
       "      <td>5.0</td>\n",
       "      <td></td>\n",
       "      <td></td>\n",
       "      <td></td>\n",
       "      <td></td>\n",
       "      <td>3.0</td>\n",
       "      <td>4.0</td>\n",
       "      <td></td>\n",
       "      <td>1.0</td>\n",
       "      <td></td>\n",
       "      <td></td>\n",
       "      <td></td>\n",
       "      <td></td>\n",
       "      <td></td>\n",
       "    </tr>\n",
       "    <tr>\n",
       "      <th>Rockaways</th>\n",
       "      <td>2.0</td>\n",
       "      <td>1.0</td>\n",
       "      <td></td>\n",
       "      <td>3.0</td>\n",
       "      <td></td>\n",
       "      <td>4.0</td>\n",
       "      <td>5.0</td>\n",
       "      <td>5.0</td>\n",
       "      <td></td>\n",
       "      <td></td>\n",
       "      <td></td>\n",
       "      <td></td>\n",
       "      <td></td>\n",
       "      <td></td>\n",
       "      <td>5.0</td>\n",
       "    </tr>\n",
       "    <tr>\n",
       "      <th>South Shore</th>\n",
       "      <td>2.0</td>\n",
       "      <td>1.0</td>\n",
       "      <td></td>\n",
       "      <td>5.0</td>\n",
       "      <td></td>\n",
       "      <td>4.0</td>\n",
       "      <td>3.0</td>\n",
       "      <td></td>\n",
       "      <td></td>\n",
       "      <td></td>\n",
       "      <td></td>\n",
       "      <td></td>\n",
       "      <td></td>\n",
       "      <td></td>\n",
       "      <td></td>\n",
       "    </tr>\n",
       "    <tr>\n",
       "      <th>Southeast Bronx</th>\n",
       "      <td>3.0</td>\n",
       "      <td>1.0</td>\n",
       "      <td></td>\n",
       "      <td>4.0</td>\n",
       "      <td></td>\n",
       "      <td>5.0</td>\n",
       "      <td></td>\n",
       "      <td>2.0</td>\n",
       "      <td></td>\n",
       "      <td></td>\n",
       "      <td></td>\n",
       "      <td></td>\n",
       "      <td></td>\n",
       "      <td></td>\n",
       "      <td></td>\n",
       "    </tr>\n",
       "    <tr>\n",
       "      <th>Southeast Queens</th>\n",
       "      <td>1.0</td>\n",
       "      <td>2.0</td>\n",
       "      <td></td>\n",
       "      <td></td>\n",
       "      <td></td>\n",
       "      <td>3.0</td>\n",
       "      <td>4.0</td>\n",
       "      <td>5.0</td>\n",
       "      <td></td>\n",
       "      <td></td>\n",
       "      <td></td>\n",
       "      <td></td>\n",
       "      <td></td>\n",
       "      <td></td>\n",
       "      <td></td>\n",
       "    </tr>\n",
       "    <tr>\n",
       "      <th>Southern Brooklyn</th>\n",
       "      <td>1.0</td>\n",
       "      <td>2.0</td>\n",
       "      <td></td>\n",
       "      <td>3.0</td>\n",
       "      <td></td>\n",
       "      <td>5.0</td>\n",
       "      <td>4.0</td>\n",
       "      <td></td>\n",
       "      <td></td>\n",
       "      <td></td>\n",
       "      <td></td>\n",
       "      <td></td>\n",
       "      <td></td>\n",
       "      <td></td>\n",
       "      <td></td>\n",
       "    </tr>\n",
       "    <tr>\n",
       "      <th>Southwest Brooklyn</th>\n",
       "      <td>2.0</td>\n",
       "      <td>1.0</td>\n",
       "      <td></td>\n",
       "      <td>4.0</td>\n",
       "      <td></td>\n",
       "      <td>3.0</td>\n",
       "      <td>5.0</td>\n",
       "      <td></td>\n",
       "      <td></td>\n",
       "      <td></td>\n",
       "      <td></td>\n",
       "      <td></td>\n",
       "      <td></td>\n",
       "      <td></td>\n",
       "      <td></td>\n",
       "    </tr>\n",
       "    <tr>\n",
       "      <th>Southwest Queens</th>\n",
       "      <td>1.0</td>\n",
       "      <td>3.0</td>\n",
       "      <td></td>\n",
       "      <td>2.0</td>\n",
       "      <td></td>\n",
       "      <td></td>\n",
       "      <td>5.0</td>\n",
       "      <td>4.0</td>\n",
       "      <td></td>\n",
       "      <td></td>\n",
       "      <td></td>\n",
       "      <td></td>\n",
       "      <td></td>\n",
       "      <td></td>\n",
       "      <td></td>\n",
       "    </tr>\n",
       "    <tr>\n",
       "      <th>Stapleton and St. George</th>\n",
       "      <td>2.0</td>\n",
       "      <td>1.0</td>\n",
       "      <td></td>\n",
       "      <td>3.0</td>\n",
       "      <td></td>\n",
       "      <td></td>\n",
       "      <td>4.0</td>\n",
       "      <td>5.0</td>\n",
       "      <td></td>\n",
       "      <td>5.0</td>\n",
       "      <td></td>\n",
       "      <td></td>\n",
       "      <td></td>\n",
       "      <td></td>\n",
       "      <td></td>\n",
       "    </tr>\n",
       "    <tr>\n",
       "      <th>Sunset Park</th>\n",
       "      <td>1.0</td>\n",
       "      <td>3.0</td>\n",
       "      <td></td>\n",
       "      <td>2.0</td>\n",
       "      <td></td>\n",
       "      <td>4.0</td>\n",
       "      <td>5.0</td>\n",
       "      <td></td>\n",
       "      <td></td>\n",
       "      <td></td>\n",
       "      <td></td>\n",
       "      <td></td>\n",
       "      <td></td>\n",
       "      <td></td>\n",
       "      <td></td>\n",
       "    </tr>\n",
       "    <tr>\n",
       "      <th>Upper East Side</th>\n",
       "      <td>5.0</td>\n",
       "      <td>2.0</td>\n",
       "      <td>1.0</td>\n",
       "      <td></td>\n",
       "      <td></td>\n",
       "      <td>4.0</td>\n",
       "      <td>3.0</td>\n",
       "      <td></td>\n",
       "      <td></td>\n",
       "      <td></td>\n",
       "      <td></td>\n",
       "      <td></td>\n",
       "      <td></td>\n",
       "      <td></td>\n",
       "      <td></td>\n",
       "    </tr>\n",
       "    <tr>\n",
       "      <th>Upper West Side</th>\n",
       "      <td>4.0</td>\n",
       "      <td></td>\n",
       "      <td>3.0</td>\n",
       "      <td>2.0</td>\n",
       "      <td></td>\n",
       "      <td></td>\n",
       "      <td>1.0</td>\n",
       "      <td></td>\n",
       "      <td>5.0</td>\n",
       "      <td></td>\n",
       "      <td></td>\n",
       "      <td></td>\n",
       "      <td></td>\n",
       "      <td></td>\n",
       "      <td></td>\n",
       "    </tr>\n",
       "    <tr>\n",
       "      <th>West Central Queens</th>\n",
       "      <td>1.0</td>\n",
       "      <td>2.0</td>\n",
       "      <td></td>\n",
       "      <td>3.0</td>\n",
       "      <td></td>\n",
       "      <td>5.0</td>\n",
       "      <td>4.0</td>\n",
       "      <td></td>\n",
       "      <td></td>\n",
       "      <td></td>\n",
       "      <td></td>\n",
       "      <td></td>\n",
       "      <td></td>\n",
       "      <td></td>\n",
       "      <td></td>\n",
       "    </tr>\n",
       "    <tr>\n",
       "      <th>West Queens</th>\n",
       "      <td>2.0</td>\n",
       "      <td>1.0</td>\n",
       "      <td></td>\n",
       "      <td>3.0</td>\n",
       "      <td></td>\n",
       "      <td>4.0</td>\n",
       "      <td>5.0</td>\n",
       "      <td>5.0</td>\n",
       "      <td></td>\n",
       "      <td></td>\n",
       "      <td></td>\n",
       "      <td></td>\n",
       "      <td></td>\n",
       "      <td></td>\n",
       "      <td></td>\n",
       "    </tr>\n",
       "  </tbody>\n",
       "</table>\n",
       "</div>"
      ],
      "text/plain": [
       "Primary Breed                  Yorkshire Terrier Shih Tzu Havanese Chihuahua  \\\n",
       "neighborhood                                                                   \n",
       "Borough Park                                 1.0      2.0                4.0   \n",
       "Bronx Park and Fordham                       1.0      2.0                3.0   \n",
       "Bushwick and Williamsburg                    1.0      2.0                2.0   \n",
       "Canarsie and Flatlands                       2.0      1.0                4.0   \n",
       "Central Bronx                                1.0      2.0                3.0   \n",
       "Central Brooklyn                             2.0      1.0                5.0   \n",
       "Central Harlem                               2.0      3.0                1.0   \n",
       "Central Queens                               1.0      2.0                5.0   \n",
       "Chelsea and Clinton                          2.0      3.0                1.0   \n",
       "East Harlem                                  1.0      2.0                3.0   \n",
       "East New York and New Lots                   1.0      4.0                2.0   \n",
       "Flatbush                                     2.0      1.0                5.0   \n",
       "Gramercy Park and Murray Hill                1.0      2.0      4.0       3.0   \n",
       "Greenpoint                                   3.0      2.0                1.0   \n",
       "Greenwich Village and Soho                   2.0                         4.0   \n",
       "High Bridge and Morrisania                   4.0      1.0                2.0   \n",
       "Hunts Point and Mott Haven                   2.0      4.0                1.0   \n",
       "Inwood and Washington Heights                2.0      3.0                1.0   \n",
       "Jamaica                                      1.0      2.0                4.0   \n",
       "Kingsbridge and Riverdale                    2.0      1.0                2.0   \n",
       "Lower East Side                              2.0      3.0                1.0   \n",
       "Lower Manhattan                              2.0      1.0                3.0   \n",
       "Mid-Island                                   1.0      2.0                      \n",
       "North Queens                                 2.0      3.0                4.0   \n",
       "Northeast Bronx                              1.0      2.0                      \n",
       "Northeast Queens                             3.0      2.0                5.0   \n",
       "Northwest Brooklyn                           4.0      5.0                3.0   \n",
       "Northwest Queens                             2.0      3.0                1.0   \n",
       "Port Richmond                                1.0      5.0                      \n",
       "Rockaways                                    2.0      1.0                3.0   \n",
       "South Shore                                  2.0      1.0                5.0   \n",
       "Southeast Bronx                              3.0      1.0                4.0   \n",
       "Southeast Queens                             1.0      2.0                      \n",
       "Southern Brooklyn                            1.0      2.0                3.0   \n",
       "Southwest Brooklyn                           2.0      1.0                4.0   \n",
       "Southwest Queens                             1.0      3.0                2.0   \n",
       "Stapleton and St. George                     2.0      1.0                3.0   \n",
       "Sunset Park                                  1.0      3.0                2.0   \n",
       "Upper East Side                              5.0      2.0      1.0             \n",
       "Upper West Side                              4.0               3.0       2.0   \n",
       "West Central Queens                          1.0      2.0                3.0   \n",
       "West Queens                                  2.0      1.0                3.0   \n",
       "\n",
       "Primary Breed                 Bull Dog, French Maltese Labrador Retriever  \\\n",
       "neighborhood                                                                \n",
       "Borough Park                                       2.0                5.0   \n",
       "Bronx Park and Fordham                             5.0                      \n",
       "Bushwick and Williamsburg                                                   \n",
       "Canarsie and Flatlands                             3.0                      \n",
       "Central Bronx                                      5.0                      \n",
       "Central Brooklyn                                                            \n",
       "Central Harlem                                                              \n",
       "Central Queens                                     3.0                4.0   \n",
       "Chelsea and Clinton                                                   4.0   \n",
       "East Harlem                                        4.0                      \n",
       "East New York and New Lots                                                  \n",
       "Flatbush                                                                    \n",
       "Gramercy Park and Murray Hill                      5.0                      \n",
       "Greenpoint                                                            5.0   \n",
       "Greenwich Village and Soho                 3.0                        1.0   \n",
       "High Bridge and Morrisania                         5.0                      \n",
       "Hunts Point and Mott Haven                         5.0                      \n",
       "Inwood and Washington Heights                      4.0                      \n",
       "Jamaica                                            3.0                      \n",
       "Kingsbridge and Riverdale                          4.0                      \n",
       "Lower East Side                                    4.0                      \n",
       "Lower Manhattan                                                       4.0   \n",
       "Mid-Island                                         4.0                3.0   \n",
       "North Queens                                       1.0                      \n",
       "Northeast Bronx                                    3.0                      \n",
       "Northeast Queens                                   1.0                5.0   \n",
       "Northwest Brooklyn                                                    1.0   \n",
       "Northwest Queens                                   4.0                5.0   \n",
       "Port Richmond                                                         3.0   \n",
       "Rockaways                                          4.0                5.0   \n",
       "South Shore                                        4.0                3.0   \n",
       "Southeast Bronx                                    5.0                      \n",
       "Southeast Queens                                   3.0                4.0   \n",
       "Southern Brooklyn                                  5.0                4.0   \n",
       "Southwest Brooklyn                                 3.0                5.0   \n",
       "Southwest Queens                                                      5.0   \n",
       "Stapleton and St. George                                              4.0   \n",
       "Sunset Park                                        4.0                5.0   \n",
       "Upper East Side                                    4.0                3.0   \n",
       "Upper West Side                                                       1.0   \n",
       "West Central Queens                                5.0                4.0   \n",
       "West Queens                                        4.0                5.0   \n",
       "\n",
       "Primary Breed                 American Pit Bull Terrier/Pit Bull  \\\n",
       "neighborhood                                                       \n",
       "Borough Park                                                       \n",
       "Bronx Park and Fordham                                       4.0   \n",
       "Bushwick and Williamsburg                                    4.0   \n",
       "Canarsie and Flatlands                                             \n",
       "Central Bronx                                                3.0   \n",
       "Central Brooklyn                                             3.0   \n",
       "Central Harlem                                               5.0   \n",
       "Central Queens                                                     \n",
       "Chelsea and Clinton                                                \n",
       "East Harlem                                                  5.0   \n",
       "East New York and New Lots                                   2.0   \n",
       "Flatbush                                                     4.0   \n",
       "Gramercy Park and Murray Hill                                      \n",
       "Greenpoint                                                         \n",
       "Greenwich Village and Soho                                         \n",
       "High Bridge and Morrisania                                   3.0   \n",
       "Hunts Point and Mott Haven                                   3.0   \n",
       "Inwood and Washington Heights                                      \n",
       "Jamaica                                                            \n",
       "Kingsbridge and Riverdale                                          \n",
       "Lower East Side                                                    \n",
       "Lower Manhattan                                                    \n",
       "Mid-Island                                                         \n",
       "North Queens                                                       \n",
       "Northeast Bronx                                              5.0   \n",
       "Northeast Queens                                                   \n",
       "Northwest Brooklyn                                                 \n",
       "Northwest Queens                                                   \n",
       "Port Richmond                                                4.0   \n",
       "Rockaways                                                    5.0   \n",
       "South Shore                                                        \n",
       "Southeast Bronx                                              2.0   \n",
       "Southeast Queens                                             5.0   \n",
       "Southern Brooklyn                                                  \n",
       "Southwest Brooklyn                                                 \n",
       "Southwest Queens                                             4.0   \n",
       "Stapleton and St. George                                     5.0   \n",
       "Sunset Park                                                        \n",
       "Upper East Side                                                    \n",
       "Upper West Side                                                    \n",
       "West Central Queens                                                \n",
       "West Queens                                                  5.0   \n",
       "\n",
       "Primary Breed                 Labrador Retriever Crossbreed  \\\n",
       "neighborhood                                                  \n",
       "Borough Park                                                  \n",
       "Bronx Park and Fordham                                        \n",
       "Bushwick and Williamsburg                                     \n",
       "Canarsie and Flatlands                                        \n",
       "Central Bronx                                                 \n",
       "Central Brooklyn                                              \n",
       "Central Harlem                                                \n",
       "Central Queens                                                \n",
       "Chelsea and Clinton                                           \n",
       "East Harlem                                                   \n",
       "East New York and New Lots                                    \n",
       "Flatbush                                                      \n",
       "Gramercy Park and Murray Hill                                 \n",
       "Greenpoint                                              4.0   \n",
       "Greenwich Village and Soho                              5.0   \n",
       "High Bridge and Morrisania                                    \n",
       "Hunts Point and Mott Haven                                    \n",
       "Inwood and Washington Heights                                 \n",
       "Jamaica                                                       \n",
       "Kingsbridge and Riverdale                                     \n",
       "Lower East Side                                         5.0   \n",
       "Lower Manhattan                                               \n",
       "Mid-Island                                                    \n",
       "North Queens                                                  \n",
       "Northeast Bronx                                               \n",
       "Northeast Queens                                        4.0   \n",
       "Northwest Brooklyn                                      2.0   \n",
       "Northwest Queens                                              \n",
       "Port Richmond                                                 \n",
       "Rockaways                                                     \n",
       "South Shore                                                   \n",
       "Southeast Bronx                                               \n",
       "Southeast Queens                                              \n",
       "Southern Brooklyn                                             \n",
       "Southwest Brooklyn                                            \n",
       "Southwest Queens                                              \n",
       "Stapleton and St. George                                      \n",
       "Sunset Park                                                   \n",
       "Upper East Side                                               \n",
       "Upper West Side                                         5.0   \n",
       "West Central Queens                                           \n",
       "West Queens                                                   \n",
       "\n",
       "Primary Breed                 American Pit Bull Mix / Pit Bull Mix Beagle  \\\n",
       "neighborhood                                                                \n",
       "Borough Park                                                                \n",
       "Bronx Park and Fordham                                                      \n",
       "Bushwick and Williamsburg                                      5.0          \n",
       "Canarsie and Flatlands                                         5.0          \n",
       "Central Bronx                                                               \n",
       "Central Brooklyn                                               4.0          \n",
       "Central Harlem                                                 4.0          \n",
       "Central Queens                                                              \n",
       "Chelsea and Clinton                                                         \n",
       "East Harlem                                                    5.0          \n",
       "East New York and New Lots                                     5.0          \n",
       "Flatbush                                                       3.0          \n",
       "Gramercy Park and Murray Hill                                               \n",
       "Greenpoint                                                     5.0          \n",
       "Greenwich Village and Soho                                                  \n",
       "High Bridge and Morrisania                                                  \n",
       "Hunts Point and Mott Haven                                                  \n",
       "Inwood and Washington Heights                                  5.0          \n",
       "Jamaica                                                        5.0          \n",
       "Kingsbridge and Riverdale                                                   \n",
       "Lower East Side                                                             \n",
       "Lower Manhattan                                                             \n",
       "Mid-Island                                                            5.0   \n",
       "North Queens                                                                \n",
       "Northeast Bronx                                                4.0          \n",
       "Northeast Queens                                                            \n",
       "Northwest Brooklyn                                                          \n",
       "Northwest Queens                                                            \n",
       "Port Richmond                                                  1.0          \n",
       "Rockaways                                                                   \n",
       "South Shore                                                                 \n",
       "Southeast Bronx                                                             \n",
       "Southeast Queens                                                            \n",
       "Southern Brooklyn                                                           \n",
       "Southwest Brooklyn                                                          \n",
       "Southwest Queens                                                            \n",
       "Stapleton and St. George                                       5.0          \n",
       "Sunset Park                                                                 \n",
       "Upper East Side                                                             \n",
       "Upper West Side                                                             \n",
       "West Central Queens                                                         \n",
       "West Queens                                                                 \n",
       "\n",
       "Primary Breed                 Cavalier King Charles Spaniel  \\\n",
       "neighborhood                                                  \n",
       "Borough Park                                                  \n",
       "Bronx Park and Fordham                                        \n",
       "Bushwick and Williamsburg                                     \n",
       "Canarsie and Flatlands                                        \n",
       "Central Bronx                                                 \n",
       "Central Brooklyn                                              \n",
       "Central Harlem                                                \n",
       "Central Queens                                                \n",
       "Chelsea and Clinton                                           \n",
       "East Harlem                                                   \n",
       "East New York and New Lots                                    \n",
       "Flatbush                                                      \n",
       "Gramercy Park and Murray Hill                                 \n",
       "Greenpoint                                                    \n",
       "Greenwich Village and Soho                                    \n",
       "High Bridge and Morrisania                                    \n",
       "Hunts Point and Mott Haven                                    \n",
       "Inwood and Washington Heights                                 \n",
       "Jamaica                                                       \n",
       "Kingsbridge and Riverdale                                     \n",
       "Lower East Side                                               \n",
       "Lower Manhattan                                         5.0   \n",
       "Mid-Island                                                    \n",
       "North Queens                                                  \n",
       "Northeast Bronx                                               \n",
       "Northeast Queens                                              \n",
       "Northwest Brooklyn                                            \n",
       "Northwest Queens                                              \n",
       "Port Richmond                                                 \n",
       "Rockaways                                                     \n",
       "South Shore                                                   \n",
       "Southeast Bronx                                               \n",
       "Southeast Queens                                              \n",
       "Southern Brooklyn                                             \n",
       "Southwest Brooklyn                                            \n",
       "Southwest Queens                                              \n",
       "Stapleton and St. George                                      \n",
       "Sunset Park                                                   \n",
       "Upper East Side                                               \n",
       "Upper West Side                                               \n",
       "West Central Queens                                           \n",
       "West Queens                                                   \n",
       "\n",
       "Primary Breed                 German Shepherd Dog Jack Russell Terrier  Pug  \n",
       "neighborhood                                                                 \n",
       "Borough Park                                                                 \n",
       "Bronx Park and Fordham                                                       \n",
       "Bushwick and Williamsburg                                                    \n",
       "Canarsie and Flatlands                                                       \n",
       "Central Bronx                                                                \n",
       "Central Brooklyn                                                             \n",
       "Central Harlem                                                               \n",
       "Central Queens                                                               \n",
       "Chelsea and Clinton                                                5.0       \n",
       "East Harlem                                                                  \n",
       "East New York and New Lots                                                   \n",
       "Flatbush                                                                     \n",
       "Gramercy Park and Murray Hill                                                \n",
       "Greenpoint                                                                   \n",
       "Greenwich Village and Soho                                                   \n",
       "High Bridge and Morrisania                                                   \n",
       "Hunts Point and Mott Haven                                                   \n",
       "Inwood and Washington Heights                                                \n",
       "Jamaica                                                                      \n",
       "Kingsbridge and Riverdale                                          5.0       \n",
       "Lower East Side                                                              \n",
       "Lower Manhattan                                                              \n",
       "Mid-Island                                                                   \n",
       "North Queens                                  5.0                            \n",
       "Northeast Bronx                                                              \n",
       "Northeast Queens                                                             \n",
       "Northwest Brooklyn                                                           \n",
       "Northwest Queens                                                             \n",
       "Port Richmond                                                                \n",
       "Rockaways                                                               5.0  \n",
       "South Shore                                                                  \n",
       "Southeast Bronx                                                              \n",
       "Southeast Queens                                                             \n",
       "Southern Brooklyn                                                            \n",
       "Southwest Brooklyn                                                           \n",
       "Southwest Queens                                                             \n",
       "Stapleton and St. George                                                     \n",
       "Sunset Park                                                                  \n",
       "Upper East Side                                                              \n",
       "Upper West Side                                                              \n",
       "West Central Queens                                                          \n",
       "West Queens                                                                  "
      ]
     },
     "execution_count": 197,
     "metadata": {},
     "output_type": "execute_result"
    }
   ],
   "source": [
    "#show table\n",
    "breed_top5[breed_top5.mean().sort_values().index].fillna('')"
   ]
  },
  {
   "cell_type": "code",
   "execution_count": 223,
   "metadata": {},
   "outputs": [
    {
     "name": "stdout",
     "output_type": "stream",
     "text": [
      "Borough Park :\n",
      " (1)Yorkshire Terrier,(2)Maltese,(2)Shih Tzu,(4)Chihuahua,(5)Labrador Retriever \n",
      "----\n",
      "Bronx Park and Fordham :\n",
      " (1)Yorkshire Terrier,(2)Shih Tzu,(3)Chihuahua,(4)American Pit Bull Terrier/Pit Bull,(5)Maltese \n",
      "----\n",
      "Bushwick and Williamsburg :\n",
      " (1)Yorkshire Terrier,(2)Chihuahua,(2)Shih Tzu,(4)American Pit Bull Terrier/Pit Bull,(5)American Pit Bull Mix / Pit Bull Mix \n",
      "----\n",
      "Canarsie and Flatlands :\n",
      " (1)Shih Tzu,(2)Yorkshire Terrier,(3)Maltese,(4)Chihuahua,(5)American Pit Bull Mix / Pit Bull Mix \n",
      "----\n",
      "Central Bronx :\n",
      " (1)Yorkshire Terrier,(2)Shih Tzu,(3)American Pit Bull Terrier/Pit Bull,(3)Chihuahua,(5)Maltese \n",
      "----\n",
      "Central Brooklyn :\n",
      " (1)Shih Tzu,(2)Yorkshire Terrier,(3)American Pit Bull Terrier/Pit Bull,(4)American Pit Bull Mix / Pit Bull Mix,(5)Chihuahua \n",
      "----\n",
      "Central Harlem :\n",
      " (1)Chihuahua,(2)Yorkshire Terrier,(3)Shih Tzu,(4)American Pit Bull Mix / Pit Bull Mix,(5)American Pit Bull Terrier/Pit Bull \n",
      "----\n",
      "Central Queens :\n",
      " (1)Yorkshire Terrier,(2)Shih Tzu,(3)Maltese,(4)Labrador Retriever,(5)Chihuahua \n",
      "----\n",
      "Chelsea and Clinton :\n",
      " (1)Chihuahua,(2)Yorkshire Terrier,(3)Shih Tzu,(4)Labrador Retriever,(5)Jack Russell Terrier \n",
      "----\n",
      "East Harlem :\n",
      " (1)Yorkshire Terrier,(2)Shih Tzu,(3)Chihuahua,(4)Maltese,(5)American Pit Bull Mix / Pit Bull Mix,(5)American Pit Bull Terrier/Pit Bull \n",
      "----\n",
      "East New York and New Lots :\n",
      " (1)Yorkshire Terrier,(2)American Pit Bull Terrier/Pit Bull,(2)Chihuahua,(4)Shih Tzu,(5)American Pit Bull Mix / Pit Bull Mix \n",
      "----\n",
      "Flatbush :\n",
      " (1)Shih Tzu,(2)Yorkshire Terrier,(3)American Pit Bull Mix / Pit Bull Mix,(4)American Pit Bull Terrier/Pit Bull,(5)Chihuahua \n",
      "----\n",
      "Gramercy Park and Murray Hill :\n",
      " (1)Yorkshire Terrier,(2)Shih Tzu,(3)Chihuahua,(4)Havanese,(5)Maltese \n",
      "----\n",
      "Greenpoint :\n",
      " (1)Chihuahua,(2)Shih Tzu,(3)Yorkshire Terrier,(4)Labrador Retriever Crossbreed,(5)American Pit Bull Mix / Pit Bull Mix,(5)Labrador Retriever \n",
      "----\n",
      "Greenwich Village and Soho :\n",
      " (1)Labrador Retriever,(2)Yorkshire Terrier,(3)Bull Dog, French,(4)Chihuahua,(5)Labrador Retriever Crossbreed \n",
      "----\n",
      "High Bridge and Morrisania :\n",
      " (1)Shih Tzu,(2)Chihuahua,(3)American Pit Bull Terrier/Pit Bull,(4)Yorkshire Terrier,(5)Maltese \n",
      "----\n",
      "Hunts Point and Mott Haven :\n",
      " (1)Chihuahua,(2)Yorkshire Terrier,(3)American Pit Bull Terrier/Pit Bull,(4)Shih Tzu,(5)Maltese \n",
      "----\n",
      "Inwood and Washington Heights :\n",
      " (1)Chihuahua,(2)Yorkshire Terrier,(3)Shih Tzu,(4)Maltese,(5)American Pit Bull Mix / Pit Bull Mix \n",
      "----\n",
      "Jamaica :\n",
      " (1)Yorkshire Terrier,(2)Shih Tzu,(3)Maltese,(4)Chihuahua,(5)American Pit Bull Mix / Pit Bull Mix \n",
      "----\n",
      "Kingsbridge and Riverdale :\n",
      " (1)Shih Tzu,(2)Chihuahua,(2)Yorkshire Terrier,(4)Maltese,(5)Jack Russell Terrier \n",
      "----\n",
      "Lower East Side :\n",
      " (1)Chihuahua,(2)Yorkshire Terrier,(3)Shih Tzu,(4)Maltese,(5)Labrador Retriever Crossbreed \n",
      "----\n",
      "Lower Manhattan :\n",
      " (1)Shih Tzu,(2)Yorkshire Terrier,(3)Chihuahua,(4)Labrador Retriever,(5)Cavalier King Charles Spaniel \n",
      "----\n",
      "Mid-Island :\n",
      " (1)Yorkshire Terrier,(2)Shih Tzu,(3)Labrador Retriever,(4)Maltese,(5)Beagle \n",
      "----\n",
      "North Queens :\n",
      " (1)Maltese,(2)Yorkshire Terrier,(3)Shih Tzu,(4)Chihuahua,(5)German Shepherd Dog \n",
      "----\n",
      "Northeast Bronx :\n",
      " (1)Yorkshire Terrier,(2)Shih Tzu,(3)Maltese,(4)American Pit Bull Mix / Pit Bull Mix,(5)American Pit Bull Terrier/Pit Bull \n",
      "----\n",
      "Northeast Queens :\n",
      " (1)Maltese,(2)Shih Tzu,(3)Yorkshire Terrier,(4)Labrador Retriever Crossbreed,(5)Chihuahua,(5)Labrador Retriever \n",
      "----\n",
      "Northwest Brooklyn :\n",
      " (1)Labrador Retriever,(2)Labrador Retriever Crossbreed,(3)Chihuahua,(4)Yorkshire Terrier,(5)Shih Tzu \n",
      "----\n",
      "Northwest Queens :\n",
      " (1)Chihuahua,(2)Yorkshire Terrier,(3)Shih Tzu,(4)Maltese,(5)Labrador Retriever \n",
      "----\n",
      "Port Richmond :\n",
      " (1)American Pit Bull Mix / Pit Bull Mix,(1)Yorkshire Terrier,(3)Labrador Retriever,(4)American Pit Bull Terrier/Pit Bull,(5)Shih Tzu \n",
      "----\n",
      "Rockaways :\n",
      " (1)Shih Tzu,(2)Yorkshire Terrier,(3)Chihuahua,(4)Maltese,(5)American Pit Bull Terrier/Pit Bull,(5)Labrador Retriever,(5)Pug \n",
      "----\n",
      "South Shore :\n",
      " (1)Shih Tzu,(2)Yorkshire Terrier,(3)Labrador Retriever,(4)Maltese,(5)Chihuahua \n",
      "----\n",
      "Southeast Bronx :\n",
      " (1)Shih Tzu,(2)American Pit Bull Terrier/Pit Bull,(3)Yorkshire Terrier,(4)Chihuahua,(5)Maltese \n",
      "----\n",
      "Southeast Queens :\n",
      " (1)Yorkshire Terrier,(2)Shih Tzu,(3)Maltese,(4)Labrador Retriever,(5)American Pit Bull Terrier/Pit Bull \n",
      "----\n",
      "Southern Brooklyn :\n",
      " (1)Yorkshire Terrier,(2)Shih Tzu,(3)Chihuahua,(4)Labrador Retriever,(5)Maltese \n",
      "----\n",
      "Southwest Brooklyn :\n",
      " (1)Shih Tzu,(2)Yorkshire Terrier,(3)Maltese,(4)Chihuahua,(5)Labrador Retriever \n",
      "----\n",
      "Southwest Queens :\n",
      " (1)Yorkshire Terrier,(2)Chihuahua,(3)Shih Tzu,(4)American Pit Bull Terrier/Pit Bull,(5)Labrador Retriever \n",
      "----\n",
      "Stapleton and St. George :\n",
      " (1)Shih Tzu,(2)Yorkshire Terrier,(3)Chihuahua,(4)Labrador Retriever,(5)American Pit Bull Mix / Pit Bull Mix,(5)American Pit Bull Terrier/Pit Bull \n",
      "----\n",
      "Sunset Park :\n",
      " (1)Yorkshire Terrier,(2)Chihuahua,(3)Shih Tzu,(4)Maltese,(5)Labrador Retriever \n",
      "----\n",
      "Upper East Side :\n",
      " (1)Havanese,(2)Shih Tzu,(3)Labrador Retriever,(4)Maltese,(5)Yorkshire Terrier \n",
      "----\n",
      "Upper West Side :\n",
      " (1)Labrador Retriever,(2)Chihuahua,(3)Havanese,(4)Yorkshire Terrier,(5)Labrador Retriever Crossbreed \n",
      "----\n",
      "West Central Queens :\n",
      " (1)Yorkshire Terrier,(2)Shih Tzu,(3)Chihuahua,(4)Labrador Retriever,(5)Maltese \n",
      "----\n",
      "West Queens :\n",
      " (1)Shih Tzu,(2)Yorkshire Terrier,(3)Chihuahua,(4)Maltese,(5)American Pit Bull Terrier/Pit Bull,(5)Labrador Retriever \n",
      "----\n"
     ]
    }
   ],
   "source": [
    "#print\n",
    "for neighborhood in breed_top5.index:\n",
    "    breeds = breed_top5.loc[neighborhood]\n",
    "    breeds = breeds.dropna().sort_values().to_dict()\n",
    "    text = ','.join(['(' + str(int(val))+')' + key for key, val in breeds.items()])\n",
    "    print(neighborhood, ':\\n', text, '\\n----')"
   ]
  },
  {
   "cell_type": "markdown",
   "metadata": {},
   "source": [
    "## What breed of dogs are the least likely to be spayed? Male or female?\n",
    "\n",
    "* *Tip: This has a handful of interpretations, and some are easier than others. Feel free to skip it if you can't figure it out to your satisfaction.*"
   ]
  },
  {
   "cell_type": "code",
   "execution_count": 224,
   "metadata": {},
   "outputs": [
    {
     "data": {
      "text/plain": [
       "array(['Yes', 'No'], dtype=object)"
      ]
     },
     "execution_count": 224,
     "metadata": {},
     "output_type": "execute_result"
    }
   ],
   "source": [
    "#check how data looks like\n",
    "df['Spayed or Neut'].unique()"
   ]
  },
  {
   "cell_type": "code",
   "execution_count": 229,
   "metadata": {},
   "outputs": [],
   "source": [
    "#change <Yes/No> to <True/False> to calculate numbers in the following cells\n",
    "df['spayed_or_neut'] = df['Spayed or Neut'].replace({'Yes': True, 'No': False})"
   ]
  },
  {
   "cell_type": "code",
   "execution_count": 230,
   "metadata": {},
   "outputs": [
    {
     "data": {
      "text/plain": [
       "Primary Breed\n",
       "Borzoi                                 0.000000\n",
       "Treeing Tennessee Brindle              0.000000\n",
       "Dogo Argentino                         0.000000\n",
       "Fila Brasileiro                        0.000000\n",
       "French Spaniel                         0.000000\n",
       "Karelian Bear Dog                      0.000000\n",
       "Kooikerhondje                          0.000000\n",
       "Polish Hound                           0.000000\n",
       "Canaan Dog                             0.000000\n",
       "Mudi                                   0.000000\n",
       "Mastiff, French (Dogue de Bordeaux)    0.000000\n",
       "Mastiff, Tibetan                       0.000000\n",
       "Cardigan Welsh Corgi                   0.333333\n",
       "Greater Swiss Mountain Dog             0.333333\n",
       "Lagotto Romagnolo                      0.333333\n",
       "Name: spayed_or_neut, dtype: float64"
      ]
     },
     "execution_count": 230,
     "metadata": {},
     "output_type": "execute_result"
    }
   ],
   "source": [
    "#What breed of dogs are the least likely to be spayed?\n",
    "#breeds with low numbers\n",
    "df.groupby(['Primary Breed'])['spayed_or_neut'].mean().sort_values().head(15)"
   ]
  },
  {
   "cell_type": "code",
   "execution_count": 234,
   "metadata": {},
   "outputs": [
    {
     "data": {
      "text/plain": [
       "Animal Gender\n",
       "M    0.791323\n",
       "F    0.857565\n",
       "     1.000000\n",
       "Name: spayed_or_neut, dtype: float64"
      ]
     },
     "execution_count": 234,
     "metadata": {},
     "output_type": "execute_result"
    }
   ],
   "source": [
    "#Male or female?\n",
    "#by gender\n",
    "#Male dogs are least likely to be spayed\n",
    "df.groupby(['Animal Gender']).mean().spayed_or_neut.sort_values()"
   ]
  },
  {
   "cell_type": "code",
   "execution_count": 233,
   "metadata": {},
   "outputs": [
    {
     "data": {
      "text/plain": [
       "Primary Breed                        Animal Gender\n",
       "Affenpinscher                        F                0.00\n",
       "Mastiff, Tibetan                     F                0.00\n",
       "                                     M                0.00\n",
       "Miniature American Shepherd          M                0.00\n",
       "Lakeland Terrier                     M                0.00\n",
       "Mudi                                 M                0.00\n",
       "Polish Hound                         F                0.00\n",
       "                                     M                0.00\n",
       "Kooikerhondje                        F                0.00\n",
       "Kerry Blue Terrier                   M                0.00\n",
       "Karelian Bear Dog                    F                0.00\n",
       "Mastiff, French (Dogue de Bordeaux)  F                0.00\n",
       "Greater Swiss Mountain Dog           F                0.00\n",
       "French Spaniel                       F                0.00\n",
       "Fila Brasileiro                      M                0.00\n",
       "Mastiff, French (Dogue de Bordeaux)  M                0.00\n",
       "Canaan Dog                           M                0.00\n",
       "Dogo Argentino                       F                0.00\n",
       "Cardigan Welsh Corgi                 M                0.00\n",
       "Borzoi                               F                0.00\n",
       "English Toy Spaniel                  F                0.00\n",
       "Treeing Tennessee Brindle            F                0.00\n",
       "                                     M                0.00\n",
       "Chinese Crested                      F                0.00\n",
       "Lagotto Romagnolo                    F                0.25\n",
       "Name: spayed_or_neut, dtype: float64"
      ]
     },
     "execution_count": 233,
     "metadata": {},
     "output_type": "execute_result"
    }
   ],
   "source": [
    "#by gender AND breed\n",
    "df.groupby(['Primary Breed','Animal Gender']).mean().spayed_or_neut.sort_values().head(25)"
   ]
  },
  {
   "cell_type": "markdown",
   "metadata": {},
   "source": [
    "## Make a new column called `monochrome` that is True for any animal that only has black, white or grey as one of its colors. How many animals are monochrome?"
   ]
  },
  {
   "cell_type": "code",
   "execution_count": 236,
   "metadata": {},
   "outputs": [
    {
     "name": "stdout",
     "output_type": "stream",
     "text": [
      "['Animal Dominant Color', 'Animal Secondary Color', 'Animal Third Color']\n"
     ]
    }
   ],
   "source": [
    "#list of columns with color names\n",
    "color_cols = [col for col in df.columns if 'Color' in col]\n",
    "print(color_cols)"
   ]
  },
  {
   "cell_type": "code",
   "execution_count": 239,
   "metadata": {},
   "outputs": [
    {
     "name": "stdout",
     "output_type": "stream",
     "text": [
      "{'Sable', 'Cream', 'Blue', 'CHOCOLATE', 'Rust', 'Orange', 'Charcoal', 'RUST', 'WHITE', 'Blue Merle', 'APRICOT', 'ORANGE', 'Brown', 'CHARCOAL', 'Red Sesame', 'Gold', 'Silver', 'SILVER', 'Gray', 'Apricot', 'Tan', 'BLOND', 'Black', 'TAN', 'Red', 'BLACK', 'Brindle', 'CREAM', 'BROWN', 'Blond', 'GOLD', 'RED', 'FAWN', 'BLUE MERLE', 'Fawn', 'GRAY', 'BRINDLE', 'Chocolate', 'BLUE', nan, 'White'}\n"
     ]
    }
   ],
   "source": [
    "#names of all the colors\n",
    "colors = set(df['Animal Dominant Color'])|set(df['Animal Secondary Color'])|set(df['Animal Third Color'])\n",
    "print(colors)"
   ]
  },
  {
   "cell_type": "code",
   "execution_count": 265,
   "metadata": {},
   "outputs": [
    {
     "name": "stdout",
     "output_type": "stream",
     "text": [
      "['WHITE', 'Gray', 'Black', 'BLACK', 'GRAY', 'White', nan]\n"
     ]
    }
   ],
   "source": [
    "#names of monochrome colors\n",
    "#add na\n",
    "mono_colors = [color for color in colors if any(mono in str(color).lower() for mono in ['black','white','gray'])]\n",
    "mono_colors = mono_colors + [np.nan]\n",
    "print(mono_colors)"
   ]
  },
  {
   "cell_type": "code",
   "execution_count": 301,
   "metadata": {},
   "outputs": [],
   "source": [
    "#filter rows with only monochrome colors & na\n",
    "df['monochrome'] = (df[color_cols].isin(mono_colors).sum(axis=1)==3)"
   ]
  },
  {
   "cell_type": "code",
   "execution_count": 310,
   "metadata": {},
   "outputs": [],
   "source": [
    "#change momochrome column to False for rows without color data\n",
    "df.loc[df[color_cols].isna().sum(axis=1)==3,'monochrome'] = False"
   ]
  },
  {
   "cell_type": "code",
   "execution_count": 311,
   "metadata": {},
   "outputs": [
    {
     "name": "stdout",
     "output_type": "stream",
     "text": [
      "8171 are monochrome.\n"
     ]
    }
   ],
   "source": [
    "#How many animals are monochrome\n",
    "print(f\"{df.monochrome.sum()} are monochrome.\")"
   ]
  },
  {
   "cell_type": "markdown",
   "metadata": {},
   "source": [
    "## How many dogs are in each borough? Plot it in a graph."
   ]
  },
  {
   "cell_type": "code",
   "execution_count": 313,
   "metadata": {},
   "outputs": [
    {
     "data": {
      "text/plain": [
       "Manhattan        10478\n",
       "Brooklyn          7466\n",
       "Queens            6154\n",
       "Bronx             2748\n",
       "Staten Island     2727\n",
       "Name: borough, dtype: int64"
      ]
     },
     "execution_count": 313,
     "metadata": {},
     "output_type": "execute_result"
    }
   ],
   "source": [
    "#How many dogs are in each borough?\n",
    "df.borough.value_counts()"
   ]
  },
  {
   "cell_type": "code",
   "execution_count": 314,
   "metadata": {},
   "outputs": [
    {
     "data": {
      "image/png": "[encoded data removed]",
      "text/plain": [
       "<Figure size 432x288 with 1 Axes>"
      ]
     },
     "metadata": {
      "needs_background": "light"
     },
     "output_type": "display_data"
    }
   ],
   "source": [
    "#graph\n",
    "df.borough.value_counts().sort_values().plot(kind=\"barh\")\n",
    "plt.title(\"The number of dogs in each borough\")\n",
    "plt.show()"
   ]
  },
  {
   "cell_type": "markdown",
   "metadata": {},
   "source": [
    "## Which borough has the highest number of dogs per-capita?\n",
    "\n",
    "You’ll need to merge in `population_boro.csv`"
   ]
  },
  {
   "cell_type": "code",
   "execution_count": 323,
   "metadata": {
    "scrolled": true
   },
   "outputs": [],
   "source": [
    "#population data\n",
    "boro_population = pd.read_csv('boro_population.csv')\n",
    "boro_population = boro_population.set_index('borough')"
   ]
  },
  {
   "cell_type": "code",
   "execution_count": 324,
   "metadata": {},
   "outputs": [],
   "source": [
    "#add dog counts\n",
    "boro_population['dogs'] = df.borough.value_counts()"
   ]
  },
  {
   "cell_type": "code",
   "execution_count": 330,
   "metadata": {},
   "outputs": [],
   "source": [
    "#calculate per capita dogs\n",
    "boro_population['per_capita_dogs'] = boro_population.dogs / boro_population.population"
   ]
  },
  {
   "cell_type": "code",
   "execution_count": 349,
   "metadata": {},
   "outputs": [],
   "source": [
    "#sort values\n",
    "boro_population = boro_population.sort_values(by='per_capita_dogs', ascending=False)"
   ]
  },
  {
   "cell_type": "code",
   "execution_count": 350,
   "metadata": {
    "scrolled": false
   },
   "outputs": [
    {
     "data": {
      "text/html": [
       "<div>\n",
       "<style scoped>\n",
       "    .dataframe tbody tr th:only-of-type {\n",
       "        vertical-align: middle;\n",
       "    }\n",
       "\n",
       "    .dataframe tbody tr th {\n",
       "        vertical-align: top;\n",
       "    }\n",
       "\n",
       "    .dataframe thead th {\n",
       "        text-align: right;\n",
       "    }\n",
       "</style>\n",
       "<table border=\"1\" class=\"dataframe\">\n",
       "  <thead>\n",
       "    <tr style=\"text-align: right;\">\n",
       "      <th></th>\n",
       "      <th>population</th>\n",
       "      <th>area_sqmi</th>\n",
       "      <th>dogs</th>\n",
       "      <th>per_capita_dogs</th>\n",
       "    </tr>\n",
       "    <tr>\n",
       "      <th>borough</th>\n",
       "      <th></th>\n",
       "      <th></th>\n",
       "      <th></th>\n",
       "      <th></th>\n",
       "    </tr>\n",
       "  </thead>\n",
       "  <tbody>\n",
       "    <tr>\n",
       "      <th>Manhattan</th>\n",
       "      <td>1644518</td>\n",
       "      <td>23</td>\n",
       "      <td>10478</td>\n",
       "      <td>0.006371</td>\n",
       "    </tr>\n",
       "    <tr>\n",
       "      <th>Staten Island</th>\n",
       "      <td>474558</td>\n",
       "      <td>59</td>\n",
       "      <td>2727</td>\n",
       "      <td>0.005746</td>\n",
       "    </tr>\n",
       "    <tr>\n",
       "      <th>Brooklyn</th>\n",
       "      <td>2636735</td>\n",
       "      <td>71</td>\n",
       "      <td>7466</td>\n",
       "      <td>0.002832</td>\n",
       "    </tr>\n",
       "    <tr>\n",
       "      <th>Queens</th>\n",
       "      <td>2339150</td>\n",
       "      <td>109</td>\n",
       "      <td>6154</td>\n",
       "      <td>0.002631</td>\n",
       "    </tr>\n",
       "    <tr>\n",
       "      <th>Bronx</th>\n",
       "      <td>1455444</td>\n",
       "      <td>42</td>\n",
       "      <td>2748</td>\n",
       "      <td>0.001888</td>\n",
       "    </tr>\n",
       "  </tbody>\n",
       "</table>\n",
       "</div>"
      ],
      "text/plain": [
       "               population  area_sqmi   dogs  per_capita_dogs\n",
       "borough                                                     \n",
       "Manhattan         1644518         23  10478         0.006371\n",
       "Staten Island      474558         59   2727         0.005746\n",
       "Brooklyn          2636735         71   7466         0.002832\n",
       "Queens            2339150        109   6154         0.002631\n",
       "Bronx             1455444         42   2748         0.001888"
      ]
     },
     "execution_count": 350,
     "metadata": {},
     "output_type": "execute_result"
    }
   ],
   "source": [
    "boro_population"
   ]
  },
  {
   "cell_type": "code",
   "execution_count": 353,
   "metadata": {},
   "outputs": [
    {
     "name": "stdout",
     "output_type": "stream",
     "text": [
      "Manhattan is borough with the highest number of dogs per-capita.\n"
     ]
    }
   ],
   "source": [
    "print(f\"{boro_population.index[0]} is borough with the highest number of dogs per-capita.\")"
   ]
  },
  {
   "cell_type": "code",
   "execution_count": 339,
   "metadata": {},
   "outputs": [],
   "source": [
    "#check with the whole data set\n",
    "#Manhattan is still the borough with the highest number\n",
    "df_all = pd.read_excel('NYC_Dog_Licenses_Current_as_of_4-28-2016.xlsx')\n",
    "df_all = df_all.merge(zipcode, left_on='Owner Zip Code', right_on='zip')\n",
    "(df_all.borough.value_counts() / boro_population.population).sort_values(ascending= False)"
   ]
  },
  {
   "cell_type": "markdown",
   "metadata": {},
   "source": [
    "## Make a bar graph of the top 5 breeds in each borough.\n",
    "\n",
    "How do you groupby and then only take the top X number? You **really** should ask me, because it's kind of crazy."
   ]
  },
  {
   "cell_type": "code",
   "execution_count": 357,
   "metadata": {},
   "outputs": [],
   "source": [
    "df['dogs_count'] = 1"
   ]
  },
  {
   "cell_type": "code",
   "execution_count": 362,
   "metadata": {},
   "outputs": [],
   "source": [
    "#count number of dogs of each breed for each borough\n",
    "borough_df = df.groupby(['borough','Primary Breed']).sum()[['dogs_count']]"
   ]
  },
  {
   "cell_type": "code",
   "execution_count": 365,
   "metadata": {},
   "outputs": [],
   "source": [
    "#rank\n",
    "borough_df['dogs_rank'] = borough_df.groupby(level=0).dogs_count.rank(ascending=False, method=\"min\")"
   ]
  },
  {
   "cell_type": "code",
   "execution_count": 366,
   "metadata": {},
   "outputs": [
    {
     "data": {
      "text/html": [
       "<div>\n",
       "<style scoped>\n",
       "    .dataframe tbody tr th:only-of-type {\n",
       "        vertical-align: middle;\n",
       "    }\n",
       "\n",
       "    .dataframe tbody tr th {\n",
       "        vertical-align: top;\n",
       "    }\n",
       "\n",
       "    .dataframe thead th {\n",
       "        text-align: right;\n",
       "    }\n",
       "</style>\n",
       "<table border=\"1\" class=\"dataframe\">\n",
       "  <thead>\n",
       "    <tr style=\"text-align: right;\">\n",
       "      <th></th>\n",
       "      <th></th>\n",
       "      <th>dogs_count</th>\n",
       "      <th>dogs_rank</th>\n",
       "    </tr>\n",
       "    <tr>\n",
       "      <th>borough</th>\n",
       "      <th>Primary Breed</th>\n",
       "      <th></th>\n",
       "      <th></th>\n",
       "    </tr>\n",
       "  </thead>\n",
       "  <tbody>\n",
       "    <tr>\n",
       "      <th rowspan=\"5\" valign=\"top\">Bronx</th>\n",
       "      <th>American Pit Bull Terrier/Pit Bull</th>\n",
       "      <td>181</td>\n",
       "      <td>4.0</td>\n",
       "    </tr>\n",
       "    <tr>\n",
       "      <th>Chihuahua</th>\n",
       "      <td>208</td>\n",
       "      <td>3.0</td>\n",
       "    </tr>\n",
       "    <tr>\n",
       "      <th>Maltese</th>\n",
       "      <td>139</td>\n",
       "      <td>5.0</td>\n",
       "    </tr>\n",
       "    <tr>\n",
       "      <th>Shih Tzu</th>\n",
       "      <td>244</td>\n",
       "      <td>2.0</td>\n",
       "    </tr>\n",
       "    <tr>\n",
       "      <th>Yorkshire Terrier</th>\n",
       "      <td>250</td>\n",
       "      <td>1.0</td>\n",
       "    </tr>\n",
       "    <tr>\n",
       "      <th rowspan=\"5\" valign=\"top\">Brooklyn</th>\n",
       "      <th>Chihuahua</th>\n",
       "      <td>391</td>\n",
       "      <td>3.0</td>\n",
       "    </tr>\n",
       "    <tr>\n",
       "      <th>Labrador Retriever</th>\n",
       "      <td>255</td>\n",
       "      <td>4.0</td>\n",
       "    </tr>\n",
       "    <tr>\n",
       "      <th>Maltese</th>\n",
       "      <td>247</td>\n",
       "      <td>5.0</td>\n",
       "    </tr>\n",
       "    <tr>\n",
       "      <th>Shih Tzu</th>\n",
       "      <td>481</td>\n",
       "      <td>2.0</td>\n",
       "    </tr>\n",
       "    <tr>\n",
       "      <th>Yorkshire Terrier</th>\n",
       "      <td>501</td>\n",
       "      <td>1.0</td>\n",
       "    </tr>\n",
       "    <tr>\n",
       "      <th rowspan=\"5\" valign=\"top\">Manhattan</th>\n",
       "      <th>Chihuahua</th>\n",
       "      <td>511</td>\n",
       "      <td>1.0</td>\n",
       "    </tr>\n",
       "    <tr>\n",
       "      <th>Labrador Retriever</th>\n",
       "      <td>422</td>\n",
       "      <td>4.0</td>\n",
       "    </tr>\n",
       "    <tr>\n",
       "      <th>Maltese</th>\n",
       "      <td>332</td>\n",
       "      <td>5.0</td>\n",
       "    </tr>\n",
       "    <tr>\n",
       "      <th>Shih Tzu</th>\n",
       "      <td>454</td>\n",
       "      <td>3.0</td>\n",
       "    </tr>\n",
       "    <tr>\n",
       "      <th>Yorkshire Terrier</th>\n",
       "      <td>505</td>\n",
       "      <td>2.0</td>\n",
       "    </tr>\n",
       "    <tr>\n",
       "      <th rowspan=\"5\" valign=\"top\">Queens</th>\n",
       "      <th>Chihuahua</th>\n",
       "      <td>306</td>\n",
       "      <td>3.0</td>\n",
       "    </tr>\n",
       "    <tr>\n",
       "      <th>Labrador Retriever</th>\n",
       "      <td>208</td>\n",
       "      <td>5.0</td>\n",
       "    </tr>\n",
       "    <tr>\n",
       "      <th>Maltese</th>\n",
       "      <td>305</td>\n",
       "      <td>4.0</td>\n",
       "    </tr>\n",
       "    <tr>\n",
       "      <th>Shih Tzu</th>\n",
       "      <td>395</td>\n",
       "      <td>2.0</td>\n",
       "    </tr>\n",
       "    <tr>\n",
       "      <th>Yorkshire Terrier</th>\n",
       "      <td>434</td>\n",
       "      <td>1.0</td>\n",
       "    </tr>\n",
       "    <tr>\n",
       "      <th rowspan=\"5\" valign=\"top\">Staten Island</th>\n",
       "      <th>Chihuahua</th>\n",
       "      <td>100</td>\n",
       "      <td>4.0</td>\n",
       "    </tr>\n",
       "    <tr>\n",
       "      <th>Labrador Retriever</th>\n",
       "      <td>123</td>\n",
       "      <td>3.0</td>\n",
       "    </tr>\n",
       "    <tr>\n",
       "      <th>Maltese</th>\n",
       "      <td>93</td>\n",
       "      <td>5.0</td>\n",
       "    </tr>\n",
       "    <tr>\n",
       "      <th>Shih Tzu</th>\n",
       "      <td>165</td>\n",
       "      <td>2.0</td>\n",
       "    </tr>\n",
       "    <tr>\n",
       "      <th>Yorkshire Terrier</th>\n",
       "      <td>171</td>\n",
       "      <td>1.0</td>\n",
       "    </tr>\n",
       "  </tbody>\n",
       "</table>\n",
       "</div>"
      ],
      "text/plain": [
       "                                                  dogs_count  dogs_rank\n",
       "borough       Primary Breed                                            \n",
       "Bronx         American Pit Bull Terrier/Pit Bull         181        4.0\n",
       "              Chihuahua                                  208        3.0\n",
       "              Maltese                                    139        5.0\n",
       "              Shih Tzu                                   244        2.0\n",
       "              Yorkshire Terrier                          250        1.0\n",
       "Brooklyn      Chihuahua                                  391        3.0\n",
       "              Labrador Retriever                         255        4.0\n",
       "              Maltese                                    247        5.0\n",
       "              Shih Tzu                                   481        2.0\n",
       "              Yorkshire Terrier                          501        1.0\n",
       "Manhattan     Chihuahua                                  511        1.0\n",
       "              Labrador Retriever                         422        4.0\n",
       "              Maltese                                    332        5.0\n",
       "              Shih Tzu                                   454        3.0\n",
       "              Yorkshire Terrier                          505        2.0\n",
       "Queens        Chihuahua                                  306        3.0\n",
       "              Labrador Retriever                         208        5.0\n",
       "              Maltese                                    305        4.0\n",
       "              Shih Tzu                                   395        2.0\n",
       "              Yorkshire Terrier                          434        1.0\n",
       "Staten Island Chihuahua                                  100        4.0\n",
       "              Labrador Retriever                         123        3.0\n",
       "              Maltese                                     93        5.0\n",
       "              Shih Tzu                                   165        2.0\n",
       "              Yorkshire Terrier                          171        1.0"
      ]
     },
     "execution_count": 366,
     "metadata": {},
     "output_type": "execute_result"
    }
   ],
   "source": [
    "#top5 table\n",
    "borough_df[borough_df.dogs_rank<=5]"
   ]
  },
  {
   "cell_type": "code",
   "execution_count": 368,
   "metadata": {},
   "outputs": [
    {
     "data": {
      "image/png": "[encoded data removed]",
      "text/plain": [
       "<Figure size 720x360 with 5 Axes>"
      ]
     },
     "metadata": {
      "needs_background": "light"
     },
     "output_type": "display_data"
    }
   ],
   "source": [
    "#data\n",
    "#top5 breeds of each boroughs \n",
    "source = borough_df[borough_df.dogs_rank<=5]\n",
    "\n",
    "fig = plt.figure(figsize=(10,5))\n",
    "fig.suptitle('The top 5 dog breeds in the boroughs of NYC', fontsize=16)\n",
    "\n",
    "xlim = source.dogs_count.max() +10\n",
    "\n",
    "i = 1\n",
    "for borough in df.borough.unique():\n",
    "    ax = fig.add_subplot(3, 2, i)\n",
    "    ax = source.loc[borough,'dogs_count'].rename_axis('').sort_values().plot(kind=\"barh\")\n",
    "    ax.set_xlim(0, xlim)\n",
    "    ax.set_title(f\"{borough}\")\n",
    "    i+=1\n",
    "\n",
    "fig.tight_layout()\n",
    "plt.show()"
   ]
  }
 ],
 "metadata": {
  "kernelspec": {
   "display_name": "venv310",
   "language": "python",
   "name": "venv310"
  },
  "language_info": {
   "codemirror_mode": {
    "name": "ipython",
    "version": 3
   },
   "file_extension": ".py",
   "mimetype": "text/x-python",
   "name": "python",
   "nbconvert_exporter": "python",
   "pygments_lexer": "ipython3",
   "version": "3.10.3"
  },
  "toc": {
   "base_numbering": 1,
   "nav_menu": {},
   "number_sections": true,
   "sideBar": true,
   "skip_h1_title": false,
   "title_cell": "Table of Contents",
   "title_sidebar": "Contents",
   "toc_cell": false,
   "toc_position": {
    "height": "calc(100% - 180px)",
    "left": "10px",
    "top": "150px",
    "width": "387.202px"
   },
   "toc_section_display": true,
   "toc_window_display": true
  }
 },
 "nbformat": 4,
 "nbformat_minor": 2
}
